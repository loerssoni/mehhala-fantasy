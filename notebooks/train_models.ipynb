{
 "cells": [
  {
   "cell_type": "code",
   "execution_count": 1,
   "id": "06033494-0212-4bfa-b254-d05a63c8cd73",
   "metadata": {
    "tags": []
   },
   "outputs": [],
   "source": [
    "%load_ext autoreload\n",
    "%autoreload 2\n",
    "import sys\n",
    "sys.path.append('../src')"
   ]
  },
  {
   "cell_type": "code",
   "execution_count": 4,
   "id": "00591412-c294-4628-a1cb-266c46a9ffdc",
   "metadata": {
    "scrolled": true,
    "tags": []
   },
   "outputs": [
    {
     "name": "stdout",
     "output_type": "stream",
     "text": [
      "g -- 0.08215589819597358\n",
      "g -- 0.2691759409542468\n",
      "a -- 0.0928994577565353\n",
      "a -- 0.40650624968642257\n",
      "sog -- 0.23158330461124488\n",
      "sog -- 1.06760539188018\n",
      "fow -- 0.7523712678711754\n",
      "fow -- 0.7787308107006455\n",
      "hit -- 0.2683402959400334\n",
      "hit -- 0.9725752470849486\n",
      "block -- 0.23555499964492932\n",
      "block -- 0.7609384142545998\n",
      "pim -- 0.02597477820674554\n",
      "pim -- 0.706147428666212\n",
      "goalsfor -- 0.05142459596541038\n",
      "goalsfor -- 0.6330227565045711\n",
      "goalsaga -- 0.03328360085634807\n",
      "goalsaga -- 0.6266593657093465\n",
      "ppp -- 0.09983279086078412\n",
      "ppp -- 0.15502061060893887\n",
      "ga -- 0.13166408400883123\n",
      "ga -- 1.1629838282921716\n",
      "win -- 0.07687043104624058\n",
      "win -- 0.2578682460754789\n",
      "so -- 0.18294616861468516\n",
      "so -- 0.3725868408276006\n",
      "save -- 0.17484469063985064\n",
      "save -- 9.844253562557185\n",
      "icetime -- 0.19608094919618224\n",
      "icetime -- 1291.8171405179978\n"
     ]
    },
    {
     "name": "stderr",
     "output_type": "stream",
     "text": [
      "/opt/conda/envs/yh/lib/python3.12/site-packages/sklearn/linear_model/_coordinate_descent.py:697: ConvergenceWarning: Objective did not converge. You might want to increase the number of iterations, check the scale of the features or consider increasing regularisation. Duality gap: 1.908e+10, tolerance: 4.822e+06\n",
      "  model = cd_fast.enet_coordinate_descent(\n",
      "/opt/conda/envs/yh/lib/python3.12/site-packages/sklearn/linear_model/_coordinate_descent.py:697: ConvergenceWarning: Objective did not converge. You might want to increase the number of iterations, check the scale of the features or consider increasing regularisation. Duality gap: 2.240e+10, tolerance: 5.646e+06\n",
      "  model = cd_fast.enet_coordinate_descent(\n"
     ]
    }
   ],
   "source": [
    "from get_data import load_history, load_current, combine_history, process_y, load_bios, load_team_data\n",
    "# load_history()\n",
    "# load_current()\n",
    "# combine_history()\n",
    "# load_team_data()\n",
    "# load_bios()\n",
    "# process_y()\n",
    "\n",
    "from model_training import load_feature_maps, run_training\n",
    "\n",
    "full_features_map, player_features_map = load_feature_maps()\n",
    "pipes = run_training('skater', full_features_map, player_features_map, retrain=True)\n",
    "\n",
    "goalie_features_map, g_player_features_map = load_feature_maps('goalie')\n",
    "g_pipes = run_training('goalie', goalie_features_map, g_player_features_map, retrain=True)\n",
    "\n",
    "import pickle\n",
    "pickle.dump(pipes, open('data/skater_models.p', 'wb'))\n",
    "pickle.dump(g_pipes, open('data/goalie_models.p', 'wb'))"
   ]
  },
  {
   "cell_type": "code",
   "execution_count": 6,
   "id": "a5b2ea95-e537-45fc-96c8-b268dded9767",
   "metadata": {
    "tags": []
   },
   "outputs": [
    {
     "ename": "NameError",
     "evalue": "name 'players' is not defined",
     "output_type": "error",
     "traceback": [
      "\u001b[0;31m---------------------------------------------------------------------------\u001b[0m",
      "\u001b[0;31mNameError\u001b[0m                                 Traceback (most recent call last)",
      "Cell \u001b[0;32mIn[6], line 1\u001b[0m\n\u001b[0;32m----> 1\u001b[0m players\n",
      "\u001b[0;31mNameError\u001b[0m: name 'players' is not defined"
     ]
    }
   ],
   "source": []
  },
  {
   "cell_type": "code",
   "execution_count": null,
   "id": "ac719972-2425-424e-af96-fe60dac8b3d6",
   "metadata": {},
   "outputs": [],
   "source": []
  }
 ],
 "metadata": {
  "environment": {
   "kernel": "yahoo",
   "name": "workbench-notebooks.m123",
   "type": "gcloud",
   "uri": "us-docker.pkg.dev/deeplearning-platform-release/gcr.io/workbench-notebooks:m123"
  },
  "kernelspec": {
   "display_name": "yahoo",
   "language": "python",
   "name": "yahoo"
  },
  "language_info": {
   "codemirror_mode": {
    "name": "ipython",
    "version": 3
   },
   "file_extension": ".py",
   "mimetype": "text/x-python",
   "name": "python",
   "nbconvert_exporter": "python",
   "pygments_lexer": "ipython3",
   "version": "3.12.5"
  }
 },
 "nbformat": 4,
 "nbformat_minor": 5
}
