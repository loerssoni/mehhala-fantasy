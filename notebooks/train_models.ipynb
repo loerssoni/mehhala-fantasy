{
 "cells": [
  {
   "cell_type": "code",
   "execution_count": 1,
   "id": "06033494-0212-4bfa-b254-d05a63c8cd73",
   "metadata": {
    "tags": []
   },
   "outputs": [],
   "source": [
    "%load_ext autoreload\n",
    "%autoreload 2\n",
    "import sys\n",
    "sys.path.append('../src')"
   ]
  },
  {
   "cell_type": "code",
   "execution_count": 20,
   "id": "00591412-c294-4628-a1cb-266c46a9ffdc",
   "metadata": {
    "scrolled": true,
    "tags": []
   },
   "outputs": [
    {
     "name": "stdout",
     "output_type": "stream",
     "text": [
      "Processed y, writing to csv\n",
      "Processed y, writing to csv\n"
     ]
    }
   ],
   "source": [
    "from get_data import load_history, load_current, combine_history, process_pca, process_y, load_bios, load_team_data\n",
    "# load_history()\n",
    "# load_current()\n",
    "# combine_history()\n",
    "# load_team_data()\n",
    "# load_bios()\n",
    "process_y()"
   ]
  },
  {
   "cell_type": "code",
   "execution_count": 4,
   "id": "188b3858-a69c-4eb5-930a-1470a2b56fbd",
   "metadata": {
    "tags": []
   },
   "outputs": [],
   "source": [
    "import numpy as np\n",
    "import pandas as pd\n",
    "from sklearn.linear_model import LassoCV, LinearRegression\n",
    "from sklearn.ensemble import HistGradientBoostingRegressor\n",
    "from sklearn.model_selection import cross_val_score\n",
    "\n",
    "def forward_feature_selection_with_elimination(X, y, col, tol=1e-6, cv=3):\n",
    "    n_features = X.shape[1]\n",
    "    selected_features = []\n",
    "    remaining_features = X.columns.tolist()\n",
    "    best_score = 0\n",
    "    lasso_cv = LinearRegression()\n",
    "    \n",
    "    while remaining_features:\n",
    "        scores = []\n",
    "        n = len(remaining_features)\n",
    "        for i, feature in enumerate(remaining_features):\n",
    "            # Try adding the current feature to the selected features\n",
    "            features_to_try = selected_features + [feature]\n",
    "            X_subset = X[features_to_try]\n",
    "\n",
    "            # Use cross-validation to evaluate the model\n",
    "            score = np.mean(cross_val_score(lasso_cv, X_subset, y[col], cv=cv))\n",
    "            scores.append((score, feature))\n",
    "            if i % 100 == 0:\n",
    "                print(i, '/', n)\n",
    "\n",
    "        # Sort features by score\n",
    "        scores.sort(key=lambda x: x[0], reverse=True)\n",
    "\n",
    "        best_scores = [s for s in scores if s[0] - best_score > tol]\n",
    "        \n",
    "        # If the score improves, add the best feature\n",
    "        if len(best_scores) > 0:\n",
    "            selected_features.append(best_scores[0][1])\n",
    "            remaining_features = [f for _, f in best_scores[1:]]  # Keep top n_to_keep - 1 remaining features\n",
    "            best_score = best_scores[0][0]\n",
    "            print(f\"Selected feature {best_scores[0][1]} with score {best_score}\")\n",
    "        else:\n",
    "            # Stop if no improvement\n",
    "            break\n",
    "        \n",
    "    return selected_features, best_score\n",
    "\n",
    "def run_fselection(X, y):\n",
    "    features_map = {}\n",
    "    for col in y.columns:\n",
    "        print(f'Fitting for {col}')\n",
    "        features_map[col] = forward_feature_selection_with_elimination(X, y, col)\n",
    "    return feature_map"
   ]
  },
  {
   "cell_type": "code",
   "execution_count": 30,
   "id": "a054b9a0-d957-4620-b355-f1b0df7ec177",
   "metadata": {
    "scrolled": true,
    "tags": []
   },
   "outputs": [],
   "source": [
    "from process_data import get_player_stats, get_full_stats, PRED_COLS, run_training"
   ]
  },
  {
   "cell_type": "code",
   "execution_count": 6,
   "id": "849c0e47-5c49-4314-a3e2-a954e0658a9b",
   "metadata": {
    "tags": []
   },
   "outputs": [],
   "source": [
    "import json\n",
    "\n",
    "def load_player_feature_map(player_type):\n",
    "    player_feature_map_file = f'data/{player_type}_player_features.json'\n",
    "    try:\n",
    "        with open(player_feature_map_file, 'r') as f:\n",
    "            player_features_map = json.loads(f.read())\n",
    "    except FileNotFoundError:\n",
    "        print('File not found. Fitting...')\n",
    "        X_p, y = get_player_stats(player_type)\n",
    "        print('Data loaded')\n",
    "        player_features_map = {}\n",
    "        for col in y.columns:\n",
    "            print(f'Fitting for {col}')\n",
    "            player_features_map[col] = forward_feature_selection_with_elimination(X_p, y, col)\n",
    "        with open(player_feature_map_file, 'w') as f:\n",
    "            f.write(json.dumps(player_features_map))\n",
    "    return player_features_map\n",
    "\n",
    "\n",
    "def load_feature_maps(player_type='skater'):\n",
    "    player_features_map = load_player_feature_map(player_type)\n",
    "    \n",
    "    feature_map_file = f'data/full_{player_type}_features.json'\n",
    "    try:\n",
    "        with open(feature_map_file, 'r') as f:\n",
    "            full_features_map = json.loads(f.read())\n",
    "    except FileNotFoundError:\n",
    "        print('File not found. Fitting...')\n",
    "        full_features_map = {}\n",
    "        \n",
    "        for col in PRED_COLS[player_type]:\n",
    "            print(f'Fitting for {col}')\n",
    "            X_p, y = get_full_stats(player_type, cols=player_features_map[col][0])       \n",
    "            print('Loaded data')\n",
    "            full_features_map[col] = forward_feature_selection_with_elimination(X_p, y, col)\n",
    "        with open(feature_map_file, 'w') as f:\n",
    "            f.write(json.dumps(full_features_map))\n",
    "            \n",
    "    return full_features_map, player_features_map\n",
    "\n",
    "\n"
   ]
  },
  {
   "cell_type": "code",
   "execution_count": 37,
   "id": "7251fa06-4228-4fa1-93ff-b221984e5b33",
   "metadata": {
    "tags": []
   },
   "outputs": [
    {
     "name": "stdout",
     "output_type": "stream",
     "text": [
      "g -- 0.08215589819597358\n",
      "g -- 0.2691759409542468\n",
      "a -- 0.0928994577565353\n",
      "a -- 0.40650624968642257\n",
      "sog -- 0.23158330461124488\n",
      "sog -- 1.06760539188018\n",
      "fow -- 0.7523712678711754\n",
      "fow -- 0.7787308107006455\n",
      "hit -- 0.2683402959400334\n",
      "hit -- 0.9725752470849486\n",
      "block -- 0.23555499964492932\n",
      "block -- 0.7609384142545998\n",
      "pim -- 0.02597477820674554\n",
      "pim -- 0.706147428666212\n",
      "goalsfor -- 0.05142459596541038\n",
      "goalsfor -- 0.6330227565045711\n",
      "goalsaga -- 0.03328360085634807\n",
      "goalsaga -- 0.6266593657093465\n",
      "ppp -- 0.09983279086078412\n",
      "ppp -- 0.15502061060893887\n"
     ]
    }
   ],
   "source": [
    "full_features_map, player_features_map = load_feature_maps()\n",
    "pipes = run_training('skater', full_features_map, player_features_map, retrain=True)"
   ]
  },
  {
   "cell_type": "code",
   "execution_count": 38,
   "id": "54c294d9-2d57-4e58-a461-6d33286032ea",
   "metadata": {
    "scrolled": true,
    "tags": []
   },
   "outputs": [
    {
     "name": "stdout",
     "output_type": "stream",
     "text": [
      "ga -- 0.13166408400883123\n",
      "ga -- 1.1629838282921716\n",
      "win -- 0.07687043104624058\n",
      "win -- 0.2578682460754789\n",
      "so -- 0.18294616861468516\n",
      "so -- 0.3725868408276006\n",
      "save -- 0.17484469063985064\n",
      "save -- 9.844253562557185\n",
      "icetime -- 0.19608094919618224\n",
      "icetime -- 1291.8171405179978\n"
     ]
    },
    {
     "name": "stderr",
     "output_type": "stream",
     "text": [
      "/opt/conda/envs/yh/lib/python3.12/site-packages/sklearn/linear_model/_coordinate_descent.py:697: ConvergenceWarning: Objective did not converge. You might want to increase the number of iterations, check the scale of the features or consider increasing regularisation. Duality gap: 1.908e+10, tolerance: 4.822e+06\n",
      "  model = cd_fast.enet_coordinate_descent(\n",
      "/opt/conda/envs/yh/lib/python3.12/site-packages/sklearn/linear_model/_coordinate_descent.py:697: ConvergenceWarning: Objective did not converge. You might want to increase the number of iterations, check the scale of the features or consider increasing regularisation. Duality gap: 2.240e+10, tolerance: 5.646e+06\n",
      "  model = cd_fast.enet_coordinate_descent(\n"
     ]
    }
   ],
   "source": [
    "goalie_features_map, g_player_features_map = load_feature_maps('goalie')\n",
    "g_pipes = run_training('goalie', goalie_features_map, g_player_features_map, retrain=True)"
   ]
  },
  {
   "cell_type": "code",
   "execution_count": 41,
   "id": "a5b2ea95-e537-45fc-96c8-b268dded9767",
   "metadata": {
    "tags": []
   },
   "outputs": [],
   "source": [
    "import pickle\n",
    "pickle.dump(pipes, open('data/skater_models.p', 'wb'))\n",
    "pickle.dump(g_pipes, open('data/goalie_models.p', 'wb'))"
   ]
  },
  {
   "cell_type": "code",
   "execution_count": null,
   "id": "70a9d188-12be-4871-9009-65fb2f9ca049",
   "metadata": {},
   "outputs": [],
   "source": []
  }
 ],
 "metadata": {
  "environment": {
   "kernel": "yahoo",
   "name": "workbench-notebooks.m123",
   "type": "gcloud",
   "uri": "us-docker.pkg.dev/deeplearning-platform-release/gcr.io/workbench-notebooks:m123"
  },
  "kernelspec": {
   "display_name": "yahoo",
   "language": "python",
   "name": "yahoo"
  },
  "language_info": {
   "codemirror_mode": {
    "name": "ipython",
    "version": 3
   },
   "file_extension": ".py",
   "mimetype": "text/x-python",
   "name": "python",
   "nbconvert_exporter": "python",
   "pygments_lexer": "ipython3",
   "version": "3.12.5"
  }
 },
 "nbformat": 4,
 "nbformat_minor": 5
}
