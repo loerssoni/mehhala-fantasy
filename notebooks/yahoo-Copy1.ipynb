{
 "cells": [
  {
   "cell_type": "code",
   "execution_count": 1,
   "id": "f50124fa-4633-4dd0-b7d1-d05d6ae1be56",
   "metadata": {
    "tags": []
   },
   "outputs": [],
   "source": [
    "%load_ext autoreload\n",
    "%autoreload 2\n",
    "from yfpy.query import YahooFantasySportsQuery\n",
    "import sys\n",
    "sys.path.append('../src')"
   ]
  },
  {
   "cell_type": "code",
   "execution_count": 3,
   "id": "c6c4342b-cfd2-4c46-a841-6a9d1f96698c",
   "metadata": {
    "tags": []
   },
   "outputs": [],
   "source": [
    "def get_moves(t):\n",
    "    moves = []\n",
    "    for p in t.players:\n",
    "        if p.transaction_data.destination_team_key:\n",
    "            moves.append({'player': p.player_key, 'to': p.transaction_data.destination_team_key})\n",
    "        if p.transaction_data.source_team_key:\n",
    "            moves.append({'player': p.player_key, 'from': p.transaction_data.source_team_key})\n",
    "    return moves\n",
    "\n",
    "\n",
    "def argsort(seq):\n",
    "    return sorted(range(len(seq)), key=seq.__getitem__)\n",
    "\n",
    "def get_transactions(q):\n",
    "    transactions = q.get_league_transactions()\n",
    "    transactions = [transactions[i] for i in argsort([t.timestamp for t in transactions])]\n",
    "    tr_by_date = {}\n",
    "    for t in transactions:\n",
    "        k = (get_ts(t.timestamp) + pd.Timedelta('1d')).date()\n",
    "        if k not in tr_by_date.keys():\n",
    "            tr_by_date[k] = []\n",
    "        tr_by_date[k] += get_moves(t)\n",
    "    return tr_by_date"
   ]
  },
  {
   "cell_type": "code",
   "execution_count": 4,
   "id": "cbb61f81-6a77-499d-a00c-7cbe0c323390",
   "metadata": {
    "tags": []
   },
   "outputs": [],
   "source": [
    "def get_initial_teams(game_id):\n",
    "    q = get_q(game_id)\n",
    "    players = q.get_league_draft_results()\n",
    "    teams = {}\n",
    "    for p in players:\n",
    "        if p.team_key not in teams:\n",
    "            teams[p.team_key] = []\n",
    "        teams[p.team_key].append(p.player_key)\n",
    "    return teams\n",
    "\n",
    "def get_teams(game_id):\n",
    "    q = get_q(game_id)\n",
    "    s = q.get_league_settings()\n",
    "    dates = pd.date_range(get_ts(s.draft_time).strftime('%Y-%m-%d'),\n",
    "              weeks[-1].end, freq='d').date\n",
    "\n",
    "    from copy import deepcopy\n",
    "\n",
    "    teams = {}\n",
    "    transactions = get_transactions(q)\n",
    "    current_teams = get_initial_teams(q)\n",
    "    for date in dates:\n",
    "        trs = transactions.get(date, [])\n",
    "        for move in trs:\n",
    "            if 'to' in move:\n",
    "                current_teams[move['to']].append(move['player'])\n",
    "            if 'from' in move:\n",
    "                current_teams[move['from']].remove(move['player'])\n",
    "        teams[date] = deepcopy(current_teams)\n",
    "\n",
    "    df = pd.DataFrame(teams).T.melt(var_name='team_id', value_name='player', ignore_index=False)\n",
    "    df = df.reset_index()\n",
    "    df = df.join(df.player.explode(), rsuffix='_key', validate='one_to_many')\n",
    "    df['index'] = pd.to_datetime(df['index'])\n",
    "    df = df.drop('player', axis=1).set_index('index')\n",
    "    df.index.name = 'date'\n",
    "    return df"
   ]
  },
  {
   "cell_type": "code",
   "execution_count": 14,
   "id": "e3b8c95c-0325-4151-acc3-bf60c30aec9b",
   "metadata": {
    "tags": []
   },
   "outputs": [],
   "source": [
    "import pandas as pd\n"
   ]
  },
  {
   "cell_type": "code",
   "execution_count": 9,
   "id": "729b99c5-14da-4f14-86ec-810db9fc265c",
   "metadata": {
    "scrolled": true,
    "tags": []
   },
   "outputs": [
    {
     "name": "stdout",
     "output_type": "stream",
     "text": [
      "Loaded bios, writing to csv.\n",
      "Read in game data.\n",
      "Processed pca, writing to csv\n",
      "Processed y, writing to csv\n"
     ]
    }
   ],
   "source": [
    "from get_data import load_history, load_current, combine_history, process_pca, process_y, load_bios, load_team_data\n",
    "# load_history()\n",
    "# load_current()\n",
    "# combine_history()\n",
    "# load_team_data()\n",
    "# load_bios()\n",
    "# process_pca()\n",
    "# process_y()\n"
   ]
  },
  {
   "cell_type": "code",
   "execution_count": 29,
   "id": "a8476d57-1e07-4640-893e-27492f8ffcb8",
   "metadata": {
    "tags": []
   },
   "outputs": [],
   "source": [
    "game_id = 427\n",
    "# game_id = 453\n",
    "\n",
    "league_id = 21834\n",
    "q = YahooFantasySportsQuery(\n",
    "    game_id = game_id,\n",
    "    league_id = league_id,\n",
    "    game_code = 'nhl',\n",
    "    auth_dir = '/home/jupyter/creds',\n",
    "    browser_callback = False,\n",
    ")"
   ]
  },
  {
   "cell_type": "code",
   "execution_count": 17,
   "id": "0cfc2c73-3924-43ab-b49a-838ce39c7a14",
   "metadata": {
    "tags": []
   },
   "outputs": [
    {
     "name": "stderr",
     "output_type": "stream",
     "text": [
      "2024-09-23 13:26:24.042 - ERROR - query.py - yfpy.query:291 - No data found when attempting extraction from fields: ['league', 'players']\n"
     ]
    }
   ],
   "source": [
    "# weeks = q.get_game_weeks_by_game_id(game_id)\n",
    "players = get_players(q)\n",
    "# teams = get_teams(q)\n",
    "# teams = teams.reset_index().merge(players, on='player_key', how='left')\n"
   ]
  },
  {
   "cell_type": "code",
   "execution_count": 30,
   "id": "83f735f0-bda1-4d11-b97a-f4c361498636",
   "metadata": {
    "tags": []
   },
   "outputs": [],
   "source": [
    "from process_data import get_player_stats, get_team_stats, get_bios, run_training, INDEX_COLS\n",
    "X_p, y = get_player_stats()\n",
    "X_b = get_bios(X_p)\n",
    "X_t = get_team_stats()"
   ]
  },
  {
   "cell_type": "code",
   "execution_count": 23,
   "id": "a8928e6e-765f-475c-8237-ff14a72ce525",
   "metadata": {
    "tags": []
   },
   "outputs": [],
   "source": [
    "X = X_p.groupby('playerId').shift(1)\n",
    "X = X.join(X_b)\n",
    "\n",
    "X_pt = X_t.groupby('team').shift(1).copy()\n",
    "X_pt['home'] = X_t['home'].copy()\n",
    "\n",
    "X_pt.index.names = ['opposingTeam','gameId','gameDate']\n",
    "X = X.join(X_pt, rsuffix='_opp')\n",
    "\n",
    "X_pt.index.names = ['playerTeam','gameId','gameDate']\n",
    "X = X.join(X_pt, rsuffix='_team')\n",
    "\n",
    "X = X.reset_index().set_index(INDEX_COLS)\n",
    "X = X[~X[[str(i) for i in range(35)]].isna().all(1)]\n",
    "y = y.loc[X.index]"
   ]
  },
  {
   "cell_type": "code",
   "execution_count": 25,
   "id": "4aad23a4-df17-464a-945f-8743247dd220",
   "metadata": {
    "tags": []
   },
   "outputs": [
    {
     "name": "stdout",
     "output_type": "stream",
     "text": [
      "fow -- 0.7414251367418632\n",
      "fow -- 0.7901185749527758\n",
      "goals -- 0.07357906986823237\n",
      "goals -- 0.2720227817788389\n",
      "assists -- 0.08688721114812958\n",
      "assists -- 0.39888354828236905\n",
      "shots -- 0.2257047788509583\n",
      "shots -- 1.0684372334351537\n",
      "hits -- 0.16546566719263378\n",
      "hits -- 1.0118081149267546\n",
      "blocks -- 0.2236169059349279\n",
      "blocks -- 0.7654522918586214\n",
      "pim -- 0.02645390322644614\n",
      "pim -- 0.7137072948602097\n",
      "goalsfor -- 0.03874478359033917\n",
      "goalsfor -- 0.6289361285565018\n",
      "goalsaga -- 0.025841764003764034\n",
      "goalsaga -- 0.6291549350778155\n",
      "ppp -- 0.10559534277704385\n",
      "ppp -- 0.15195601095192351\n"
     ]
    }
   ],
   "source": [
    "pipes = run_training(X, y, True)"
   ]
  },
  {
   "cell_type": "markdown",
   "id": "83ee3ff1-6176-4c35-b505-86f27af2a1f3",
   "metadata": {},
   "source": [
    "## DRAFT"
   ]
  },
  {
   "cell_type": "code",
   "execution_count": 31,
   "id": "e6cd5c64-be77-4512-b21c-e056fafcca40",
   "metadata": {
    "scrolled": true,
    "tags": []
   },
   "outputs": [],
   "source": [
    "game_id = 427\n",
    "\n",
    "q = YahooFantasySportsQuery(\n",
    "    game_id = game_id,\n",
    "    league_id = league_id,\n",
    "    game_code = 'nhl',\n",
    "    auth_dir = '/home/jupyter/creds',\n",
    "    browser_callback = False,\n",
    ")\n",
    "def get_all_matchups(game_id):\n",
    "    q = get_q(game_id)\n",
    "    all_matchups = []\n",
    "    for i in range(1, 27):\n",
    "        all_matchups += q.get_league_matchups_by_week(i)\n",
    "    return all_matchups\n",
    "\n",
    "def get_matchup_results(matchups):\n",
    "    stats_map = {\n",
    "        1: 'goals',\n",
    "        2: 'assists',\n",
    "        4: 'plusmin',\n",
    "        5: 'pim',\n",
    "        8: 'ppp',\n",
    "        14: 'shots',\n",
    "        16: 'fow',\n",
    "        31: 'hits',\n",
    "        32: 'blocks'\n",
    "    }\n",
    "    stats = []\n",
    "    for match in matchups:\n",
    "        for mt in match.teams:\n",
    "            for s in mt.team_stats.stats:\n",
    "                stats.append({'id': s.stat_id, 'val': s.value})\n",
    "    stats = pd.DataFrame(stats)\n",
    "    stats['name'] = stats.id.apply(lambda x: stats_map.get(x, None))\n",
    "    return stats\n",
    "    \n",
    "    s_exp = stats.groupby('name')['val'].mean()"
   ]
  },
  {
   "cell_type": "code",
   "execution_count": 35,
   "id": "8790a43e-ee11-4471-800e-676b1d9d882f",
   "metadata": {},
   "outputs": [],
   "source": [
    "game_id = 453\n",
    "q = YahooFantasySportsQuery(\n",
    "    game_id = game_id,\n",
    "    league_id = league_id,\n",
    "    game_code = 'nhl',\n",
    "    auth_dir = '/home/jupyter/creds',\n",
    "    browser_callback = False,\n",
    ")"
   ]
  },
  {
   "cell_type": "code",
   "execution_count": 36,
   "id": "a011d723-45e8-4673-9bfd-bb4f42279b0a",
   "metadata": {
    "tags": []
   },
   "outputs": [],
   "source": [
    "def get_week_data(dates, games, X_p, X_t):\n",
    "    dates = pd.to_datetime(X_p.index.get_level_values('gameDate'), format='%Y%m%d')\n",
    "    player_stats = X_p[dates < week.start].reset_index(level='playerTeam').groupby(['playerId']).last()\n",
    "    dates = pd.to_datetime(X_t.index.get_level_values('gameDate'), format='%Y%m%d')\n",
    "    team_stats = X_t[dates < week.start].groupby('team').last()\n",
    "    team_stats = team_stats.drop('home', axis=1)\n",
    "    gs = pd.DataFrame(games)\n",
    "\n",
    "    home_games = gs.merge(player_stats.reset_index(), left_on='home', right_on='playerTeam')\n",
    "    home_games = home_games.merge(team_stats.reset_index(), left_on='home', right_on='team', suffixes=('', '_team'))\n",
    "    home_games = home_games.merge(team_stats.reset_index(), left_on='away', right_on='team', suffixes=('', '_opp'))\n",
    "\n",
    "    away_games = gs.merge(player_stats.reset_index(), left_on='away', right_on='playerTeam')\n",
    "    away_games = away_games.merge(team_stats.reset_index(), left_on='away', right_on='team', suffixes=('', '_team'))\n",
    "    away_games = away_games.merge(team_stats.reset_index(), left_on='home', right_on='team', suffixes=('', '_opp'))\n",
    "\n",
    "    gs = pd.concat([home_games, away_games]).sort_values('gameId')\n",
    "    gs['home_team'] = (gs['playerTeam']  == gs['home']).astype(int)\n",
    "    gs['gameDate'] = pd.to_datetime(gs['ts'])\n",
    "    gs['opposingTeam'] = gs.apply(lambda row: row['home'] if row['playerTeam'] == row['away'] else row['away'], axis=1)\n",
    "    gs = gs.set_index(['gameId','gameDate','playerId','playerTeam', 'opposingTeam'])\n",
    "    bios = get_bios(gs)\n",
    "    gs = gs.join(bios)\n",
    "    gs['home'] = 1 - gs['home_team']\n",
    "    return gs\n",
    "\n",
    "def get_opponent(m):\n",
    "    m_t = [t.team_key for t in m.teams]\n",
    "    if own_team in m_t:\n",
    "        opponent = [t for t in m_t if t != own_team][0]\n",
    "    return opponent\n",
    "\n",
    "from scipy import stats\n",
    "def get_added_val(x, opp_exp, stat_cols):\n",
    "    vals = {}\n",
    "    for col in stat_cols:\n",
    "        if col == 'plusmin':\n",
    "            vals[col] = stats.skellam.cdf(0, opp_exp['goalsfor']+x['goalsaga'], opp_exp['goalsaga']+x['goalsfor'])\n",
    "        else:\n",
    "            vals[col] = stats.skellam.cdf(0, opp_exp[col], x[col])\n",
    "    return vals\n",
    "\n",
    "d"
   ]
  },
  {
   "cell_type": "code",
   "execution_count": 1,
   "id": "72e9e667-2961-4adf-bf32-45a201fe5872",
   "metadata": {
    "tags": []
   },
   "outputs": [],
   "source": [
    "def can_include_player(new_player, position_lookup, selected_players, position_limits, wildcard=None):\n",
    "    from collections import defaultdict\n",
    "\n",
    "    # Helper function to check if the current assignment of players to positions is valid\n",
    "    def is_valid_assignment(assignments):\n",
    "        counts = defaultdict(int)\n",
    "        for player, pos in assignments.items():\n",
    "            counts[pos] += 1\n",
    "            if counts[pos] > position_limits.get(pos, 0):\n",
    "                return False\n",
    "        return True\n",
    "    \n",
    "    # Helper function for the backtracking algorithm\n",
    "    def backtrack(assignments, players):\n",
    "        if not players:\n",
    "            return is_valid_assignment(assignments)\n",
    "        \n",
    "        current_player = players[0]\n",
    "        possible_positions = position_lookup.get(current_player, [])\n",
    "        \n",
    "        # Include wildcard positions if the current player is the wildcard\n",
    "        if current_player == wildcard:\n",
    "            possible_positions = position_limits.keys()\n",
    "        \n",
    "        for pos in possible_positions:\n",
    "            assignments[current_player] = pos\n",
    "            if is_valid_assignment(assignments):\n",
    "                if backtrack(assignments, players[1:]):\n",
    "                    return True\n",
    "            assignments.pop(current_player, None)\n",
    "        return False\n",
    "    \n",
    "    # List of players to be considered (already selected + new player)\n",
    "    all_players = selected_players + [new_player]\n",
    "    \n",
    "    # Initial assignments\n",
    "    initial_assignments = {}\n",
    "    \n",
    "    # Run the backtracking algorithm\n",
    "    return backtrack(initial_assignments, all_players)\n",
    "\n",
    "def get_days_games(todays_games, players, selected_team):\n",
    "    position_lookup = players.set_index('playerId')['pos'].to_dict()\n",
    "    position_limits = {\n",
    "        'D': 4,\n",
    "        'C': 2,\n",
    "        'RW': 2,\n",
    "        'LW': 2,\n",
    "        'G': 0\n",
    "    }\n",
    "    todays_players = todays_games[todays_games.index.get_level_values('playerId').isin(selected_team)].index.get_level_values('playerId').tolist()\n",
    "\n",
    "    is_included = todays_games.reset_index(level='playerId')['playerId'].apply(lambda x: can_include_player(x, position_lookup, todays_players, position_limits, wildcard=None)).values\n",
    "    is_inteam = todays_games.reset_index(level='playerId')['playerId'].isin(selected_team).values\n",
    "    todays_games = todays_games[is_included|is_inteam]\n",
    "    return todays_games"
   ]
  },
  {
   "cell_type": "code",
   "execution_count": 38,
   "id": "c3ab4200-6900-4dbf-b6a8-8aa77e00a7c1",
   "metadata": {
    "tags": []
   },
   "outputs": [],
   "source": [
    "\n",
    "\n",
    "\n",
    "def get_week_games(dates, preds, players, selected_team):\n",
    "    week_games = []\n",
    "    for date in dates:\n",
    "        week_games.append(get_days_games(date, preds, players, selected_team))\n",
    "    week_games = pd.concat(week_games)\n",
    "    return week_games\n",
    "    "
   ]
  },
  {
   "cell_type": "code",
   "execution_count": 39,
   "id": "9ab11abb-f5ff-45e2-923d-0731644c1f97",
   "metadata": {
    "tags": []
   },
   "outputs": [],
   "source": [
    "# own_team = '427.l.21834.t.3'\n",
    "# matchups = q.get_team_matchups(own_team.split('.')[-1])"
   ]
  },
  {
   "cell_type": "code",
   "execution_count": 41,
   "id": "554a7b32-e6ea-44cf-8882-1b19392c8bfc",
   "metadata": {
    "tags": []
   },
   "outputs": [],
   "source": [
    "def get_preds(pipes, gs):\n",
    "    import numpy as np\n",
    "    preds = {}\n",
    "    for c in PRED_COLS:\n",
    "        preds[c] = pipes[c].predict(gs[pipes[c].feature_names_in_])\n",
    "        preds[c] = np.clip(preds[c], 0, np.inf)\n",
    "\n",
    "    preds = pd.DataFrame(preds, index=gs.index)\n",
    "    return preds\n",
    "\n",
    "def get_results(dates, preds, players, selected_team):\n",
    "    player_ids = get_week_games(dates, preds, players.iloc[:0], selected_team)\n",
    "    player_ids = player_ids.join(players.groupby('playerId')['player_key'].first()).groupby('gameDate')['player_key'].apply(list).to_dict()\n",
    "    stats_map = {\n",
    "        1: 'goals',\n",
    "        2: 'assists',\n",
    "        4: 'plusmin',\n",
    "        5: 'pim',\n",
    "        8: 'ppp',\n",
    "        14: 'shots',\n",
    "        16: 'fow',\n",
    "        31: 'hits',\n",
    "        32: 'blocks'\n",
    "    }\n",
    "    results = []\n",
    "    for d, ps in player_ids.items():\n",
    "        for p in ps:\n",
    "            pstats = q.get_player_stats_by_date(p, d.strftime('%Y-%m-%d')).player_stats.stats\n",
    "            pstats = {stats_map[s.stat_id]: s.value for s in pstats}\n",
    "            results.append(pstats)\n",
    "    return pd.DataFrame(results).sum()"
   ]
  },
  {
   "cell_type": "code",
   "execution_count": null,
   "id": "4b523396-1660-4421-b1df-7e0299aa4798",
   "metadata": {},
   "outputs": [],
   "source": []
  },
  {
   "cell_type": "code",
   "execution_count": null,
   "id": "cb6073d8-913c-4eea-9347-2f4216a7e20f",
   "metadata": {},
   "outputs": [],
   "source": [
    "dates = pd.date_range(, m.week_end)\n",
    "games = get_schedule(dates)\n"
   ]
  },
  {
   "cell_type": "code",
   "execution_count": 1164,
   "id": "e6be756f-28df-4ba5-ad1e-f8359255065c",
   "metadata": {
    "scrolled": true,
    "tags": []
   },
   "outputs": [
    {
     "name": "stdout",
     "output_type": "stream",
     "text": [
      "WEEK 13\n",
      "DROPS\n",
      "                      name      pos\n",
      "playerId                          \n",
      "8470794      Joe Pavelski  [C, RW]\n",
      "8474593   Jacob Markstrom      [G]\n",
      "8477465     Tristan Jarry      [G]\n",
      "8475753      Justin Faulk      [D]\n",
      "8478444      Brock Boeser     [RW]\n",
      "8479394       Carter Hart      [G]\n",
      "ADDS\n",
      "                    name      pos\n",
      "playerId                        \n",
      "8478366   Frank Vatrano  [C, LW]\n",
      "8474590    John Carlson      [D]\n",
      "TEAM\n",
      "                        name       pos\n",
      "playerId                             \n",
      "8478483     Mitchell Marner      [RW]\n",
      "8475184       Chris Kreider      [LW]\n",
      "8474564      Steven Stamkos   [C, LW]\n",
      "8471685        Anze Kopitar       [C]\n",
      "8476468         J.T. Miller   [C, RW]\n",
      "8477934      Leon Draisaitl   [C, LW]\n",
      "8477346    MacKenzie Weegar       [D]\n",
      "8475167       Victor Hedman       [D]\n",
      "8476372         Nick Seeler       [D]\n",
      "8474565    Alex Pietrangelo       [D]\n",
      "8477501   Valeri Nichushkin  [LW, RW]\n",
      "8478445       Mathew Barzal   [C, RW]\n",
      "8478366       Frank Vatrano   [C, LW]\n",
      "8474590        John Carlson       [D]\n",
      "RESULT\n",
      " goals       17.0\n",
      "assists     19.0\n",
      "plusmin      3.0\n",
      "pim         18.0\n",
      "ppp         13.0\n",
      "shots      117.0\n",
      "fow         92.0\n",
      "hits        50.0\n",
      "blocks      59.0\n",
      "dtype: float64\n",
      "WEEK 14\n",
      "DROPS\n",
      "                    name      pos\n",
      "playerId                        \n",
      "8471685    Anze Kopitar      [C]\n",
      "8478445   Mathew Barzal  [C, RW]\n",
      "ADDS\n",
      "                   name       pos\n",
      "playerId                        \n",
      "8480015   Owen Tippett  [LW, RW]\n",
      "8481557     Matt Boldy  [LW, RW]\n",
      "TEAM\n",
      "                        name       pos\n",
      "playerId                             \n",
      "8474564      Steven Stamkos   [C, LW]\n",
      "8478483     Mitchell Marner      [RW]\n",
      "8477934      Leon Draisaitl   [C, LW]\n",
      "8475167       Victor Hedman       [D]\n",
      "8476468         J.T. Miller   [C, RW]\n",
      "8475184       Chris Kreider      [LW]\n",
      "8477501   Valeri Nichushkin  [LW, RW]\n",
      "8474590        John Carlson       [D]\n",
      "8477346    MacKenzie Weegar       [D]\n",
      "8476372         Nick Seeler       [D]\n",
      "8474565    Alex Pietrangelo       [D]\n",
      "8478366       Frank Vatrano   [C, LW]\n",
      "8480015        Owen Tippett  [LW, RW]\n",
      "8481557          Matt Boldy  [LW, RW]\n",
      "RESULT\n",
      " goals       20.0\n",
      "assists     16.0\n",
      "plusmin     -2.0\n",
      "pim         39.0\n",
      "ppp         16.0\n",
      "shots      133.0\n",
      "fow        104.0\n",
      "hits        63.0\n",
      "blocks      34.0\n",
      "dtype: float64\n",
      "WEEK 15\n",
      "DROPS\n",
      "                       name      pos\n",
      "playerId                           \n",
      "8474564     Steven Stamkos  [C, LW]\n",
      "8474565   Alex Pietrangelo      [D]\n",
      "ADDS\n",
      "                     name      pos\n",
      "playerId                         \n",
      "8476429   Scott Mayfield      [D]\n",
      "8478445    Mathew Barzal  [C, RW]\n",
      "TEAM\n",
      "                        name       pos\n",
      "playerId                             \n",
      "8476372         Nick Seeler       [D]\n",
      "8480015        Owen Tippett  [LW, RW]\n",
      "8476468         J.T. Miller   [C, RW]\n",
      "8481557          Matt Boldy  [LW, RW]\n",
      "8478366       Frank Vatrano   [C, LW]\n",
      "8475184       Chris Kreider      [LW]\n",
      "8477501   Valeri Nichushkin  [LW, RW]\n",
      "8477346    MacKenzie Weegar       [D]\n",
      "8474590        John Carlson       [D]\n",
      "8475167       Victor Hedman       [D]\n",
      "8477934      Leon Draisaitl   [C, LW]\n",
      "8478483     Mitchell Marner      [RW]\n",
      "8476429      Scott Mayfield       [D]\n",
      "8478445       Mathew Barzal   [C, RW]\n",
      "RESULT\n",
      " goals       14.0\n",
      "assists     28.0\n",
      "plusmin     20.0\n",
      "pim         16.0\n",
      "ppp         15.0\n",
      "shots      103.0\n",
      "fow         78.0\n",
      "hits        48.0\n",
      "blocks      66.0\n",
      "dtype: float64\n",
      "WEEK 16\n"
     ]
    },
    {
     "ename": "KeyboardInterrupt",
     "evalue": "",
     "output_type": "error",
     "traceback": [
      "\u001b[0;31m---------------------------------------------------------------------------\u001b[0m",
      "\u001b[0;31mKeyboardInterrupt\u001b[0m                         Traceback (most recent call last)",
      "Cell \u001b[0;32mIn[1164], line 25\u001b[0m\n\u001b[1;32m     23\u001b[0m player_info \u001b[38;5;241m=\u001b[39m players\u001b[38;5;241m.\u001b[39mset_index(\u001b[38;5;124m'\u001b[39m\u001b[38;5;124mplayerId\u001b[39m\u001b[38;5;124m'\u001b[39m)[[\u001b[38;5;124m'\u001b[39m\u001b[38;5;124mname\u001b[39m\u001b[38;5;124m'\u001b[39m, \u001b[38;5;124m'\u001b[39m\u001b[38;5;124mpos\u001b[39m\u001b[38;5;124m'\u001b[39m]]\n\u001b[1;32m     24\u001b[0m \u001b[38;5;28;01mwhile\u001b[39;00m \u001b[38;5;28mlen\u001b[39m(selected_team) \u001b[38;5;241m<\u001b[39m \u001b[38;5;241m14\u001b[39m:\n\u001b[0;32m---> 25\u001b[0m     week_ind_preds \u001b[38;5;241m=\u001b[39m \u001b[43mget_week_games\u001b[49m\u001b[43m(\u001b[49m\u001b[43mdates\u001b[49m\u001b[43m,\u001b[49m\u001b[43m \u001b[49m\u001b[43mpreds\u001b[49m\u001b[43m,\u001b[49m\u001b[43m \u001b[49m\u001b[43mplayers\u001b[49m\u001b[43m,\u001b[49m\u001b[43m \u001b[49m\u001b[43mselected_team\u001b[49m\u001b[43m)\u001b[49m\n\u001b[1;32m     26\u001b[0m     week_preds \u001b[38;5;241m=\u001b[39m week_ind_preds\u001b[38;5;241m.\u001b[39mgroupby(\u001b[38;5;124m'\u001b[39m\u001b[38;5;124mplayerId\u001b[39m\u001b[38;5;124m'\u001b[39m)\u001b[38;5;241m.\u001b[39msum()\n\u001b[1;32m     27\u001b[0m     \u001b[38;5;28;01mif\u001b[39;00m \u001b[38;5;28mlen\u001b[39m(selected_team) \u001b[38;5;241m<\u001b[39m \u001b[38;5;241m12\u001b[39m:\n",
      "Cell \u001b[0;32mIn[952], line 21\u001b[0m, in \u001b[0;36mget_week_games\u001b[0;34m(dates, preds, players, selected_team)\u001b[0m\n\u001b[1;32m     19\u001b[0m week_games \u001b[38;5;241m=\u001b[39m []\n\u001b[1;32m     20\u001b[0m \u001b[38;5;28;01mfor\u001b[39;00m date \u001b[38;5;129;01min\u001b[39;00m dates:\n\u001b[0;32m---> 21\u001b[0m     week_games\u001b[38;5;241m.\u001b[39mappend(\u001b[43mget_days_games\u001b[49m\u001b[43m(\u001b[49m\u001b[43mdate\u001b[49m\u001b[43m,\u001b[49m\u001b[43m \u001b[49m\u001b[43mpreds\u001b[49m\u001b[43m,\u001b[49m\u001b[43m \u001b[49m\u001b[43mplayers\u001b[49m\u001b[43m,\u001b[49m\u001b[43m \u001b[49m\u001b[43mselected_team\u001b[49m\u001b[43m)\u001b[49m)\n\u001b[1;32m     22\u001b[0m week_games \u001b[38;5;241m=\u001b[39m pd\u001b[38;5;241m.\u001b[39mconcat(week_games)\n\u001b[1;32m     23\u001b[0m \u001b[38;5;28;01mreturn\u001b[39;00m week_games\n",
      "Cell \u001b[0;32mIn[952], line 13\u001b[0m, in \u001b[0;36mget_days_games\u001b[0;34m(date, preds, players, selected_team)\u001b[0m\n\u001b[1;32m     10\u001b[0m todays_games \u001b[38;5;241m=\u001b[39m preds[(preds\u001b[38;5;241m.\u001b[39mindex\u001b[38;5;241m.\u001b[39mget_level_values(\u001b[38;5;124m'\u001b[39m\u001b[38;5;124mgameDate\u001b[39m\u001b[38;5;124m'\u001b[39m) \u001b[38;5;241m==\u001b[39m date)]\n\u001b[1;32m     11\u001b[0m todays_players \u001b[38;5;241m=\u001b[39m todays_games[todays_games\u001b[38;5;241m.\u001b[39mindex\u001b[38;5;241m.\u001b[39mget_level_values(\u001b[38;5;124m'\u001b[39m\u001b[38;5;124mplayerId\u001b[39m\u001b[38;5;124m'\u001b[39m)\u001b[38;5;241m.\u001b[39misin(selected_team)]\u001b[38;5;241m.\u001b[39mindex\u001b[38;5;241m.\u001b[39mget_level_values(\u001b[38;5;124m'\u001b[39m\u001b[38;5;124mplayerId\u001b[39m\u001b[38;5;124m'\u001b[39m)\u001b[38;5;241m.\u001b[39mtolist()\n\u001b[0;32m---> 13\u001b[0m is_included \u001b[38;5;241m=\u001b[39m \u001b[43mtodays_games\u001b[49m\u001b[38;5;241;43m.\u001b[39;49m\u001b[43mreset_index\u001b[49m\u001b[43m(\u001b[49m\u001b[43mlevel\u001b[49m\u001b[38;5;241;43m=\u001b[39;49m\u001b[38;5;124;43m'\u001b[39;49m\u001b[38;5;124;43mplayerId\u001b[39;49m\u001b[38;5;124;43m'\u001b[39;49m\u001b[43m)\u001b[49m\u001b[43m[\u001b[49m\u001b[38;5;124;43m'\u001b[39;49m\u001b[38;5;124;43mplayerId\u001b[39;49m\u001b[38;5;124;43m'\u001b[39;49m\u001b[43m]\u001b[49m\u001b[38;5;241;43m.\u001b[39;49m\u001b[43mapply\u001b[49m\u001b[43m(\u001b[49m\u001b[38;5;28;43;01mlambda\u001b[39;49;00m\u001b[43m \u001b[49m\u001b[43mx\u001b[49m\u001b[43m:\u001b[49m\u001b[43m \u001b[49m\u001b[43mcan_include_player\u001b[49m\u001b[43m(\u001b[49m\u001b[43mx\u001b[49m\u001b[43m,\u001b[49m\u001b[43m \u001b[49m\u001b[43mposition_lookup\u001b[49m\u001b[43m,\u001b[49m\u001b[43m \u001b[49m\u001b[43mtodays_players\u001b[49m\u001b[43m,\u001b[49m\u001b[43m \u001b[49m\u001b[43mposition_limits\u001b[49m\u001b[43m,\u001b[49m\u001b[43m \u001b[49m\u001b[43mwildcard\u001b[49m\u001b[38;5;241;43m=\u001b[39;49m\u001b[38;5;28;43;01mNone\u001b[39;49;00m\u001b[43m)\u001b[49m\u001b[43m)\u001b[49m\u001b[38;5;241m.\u001b[39mvalues\n\u001b[1;32m     14\u001b[0m is_inteam \u001b[38;5;241m=\u001b[39m todays_games\u001b[38;5;241m.\u001b[39mreset_index(level\u001b[38;5;241m=\u001b[39m\u001b[38;5;124m'\u001b[39m\u001b[38;5;124mplayerId\u001b[39m\u001b[38;5;124m'\u001b[39m)[\u001b[38;5;124m'\u001b[39m\u001b[38;5;124mplayerId\u001b[39m\u001b[38;5;124m'\u001b[39m]\u001b[38;5;241m.\u001b[39misin(selected_team)\u001b[38;5;241m.\u001b[39mvalues\n\u001b[1;32m     15\u001b[0m todays_games \u001b[38;5;241m=\u001b[39m todays_games[is_included\u001b[38;5;241m|\u001b[39mis_inteam]\n",
      "File \u001b[0;32m/opt/conda/lib/python3.10/site-packages/pandas/core/series.py:4630\u001b[0m, in \u001b[0;36mSeries.apply\u001b[0;34m(self, func, convert_dtype, args, **kwargs)\u001b[0m\n\u001b[1;32m   4520\u001b[0m \u001b[38;5;28;01mdef\u001b[39;00m \u001b[38;5;21mapply\u001b[39m(\n\u001b[1;32m   4521\u001b[0m     \u001b[38;5;28mself\u001b[39m,\n\u001b[1;32m   4522\u001b[0m     func: AggFuncType,\n\u001b[0;32m   (...)\u001b[0m\n\u001b[1;32m   4525\u001b[0m     \u001b[38;5;241m*\u001b[39m\u001b[38;5;241m*\u001b[39mkwargs,\n\u001b[1;32m   4526\u001b[0m ) \u001b[38;5;241m-\u001b[39m\u001b[38;5;241m>\u001b[39m DataFrame \u001b[38;5;241m|\u001b[39m Series:\n\u001b[1;32m   4527\u001b[0m \u001b[38;5;250m    \u001b[39m\u001b[38;5;124;03m\"\"\"\u001b[39;00m\n\u001b[1;32m   4528\u001b[0m \u001b[38;5;124;03m    Invoke function on values of Series.\u001b[39;00m\n\u001b[1;32m   4529\u001b[0m \n\u001b[0;32m   (...)\u001b[0m\n\u001b[1;32m   4628\u001b[0m \u001b[38;5;124;03m    dtype: float64\u001b[39;00m\n\u001b[1;32m   4629\u001b[0m \u001b[38;5;124;03m    \"\"\"\u001b[39;00m\n\u001b[0;32m-> 4630\u001b[0m     \u001b[38;5;28;01mreturn\u001b[39;00m \u001b[43mSeriesApply\u001b[49m\u001b[43m(\u001b[49m\u001b[38;5;28;43mself\u001b[39;49m\u001b[43m,\u001b[49m\u001b[43m \u001b[49m\u001b[43mfunc\u001b[49m\u001b[43m,\u001b[49m\u001b[43m \u001b[49m\u001b[43mconvert_dtype\u001b[49m\u001b[43m,\u001b[49m\u001b[43m \u001b[49m\u001b[43margs\u001b[49m\u001b[43m,\u001b[49m\u001b[43m \u001b[49m\u001b[43mkwargs\u001b[49m\u001b[43m)\u001b[49m\u001b[38;5;241;43m.\u001b[39;49m\u001b[43mapply\u001b[49m\u001b[43m(\u001b[49m\u001b[43m)\u001b[49m\n",
      "File \u001b[0;32m/opt/conda/lib/python3.10/site-packages/pandas/core/apply.py:1025\u001b[0m, in \u001b[0;36mSeriesApply.apply\u001b[0;34m(self)\u001b[0m\n\u001b[1;32m   1022\u001b[0m     \u001b[38;5;28;01mreturn\u001b[39;00m \u001b[38;5;28mself\u001b[39m\u001b[38;5;241m.\u001b[39mapply_str()\n\u001b[1;32m   1024\u001b[0m \u001b[38;5;66;03m# self.f is Callable\u001b[39;00m\n\u001b[0;32m-> 1025\u001b[0m \u001b[38;5;28;01mreturn\u001b[39;00m \u001b[38;5;28;43mself\u001b[39;49m\u001b[38;5;241;43m.\u001b[39;49m\u001b[43mapply_standard\u001b[49m\u001b[43m(\u001b[49m\u001b[43m)\u001b[49m\n",
      "File \u001b[0;32m/opt/conda/lib/python3.10/site-packages/pandas/core/apply.py:1076\u001b[0m, in \u001b[0;36mSeriesApply.apply_standard\u001b[0;34m(self)\u001b[0m\n\u001b[1;32m   1074\u001b[0m     \u001b[38;5;28;01melse\u001b[39;00m:\n\u001b[1;32m   1075\u001b[0m         values \u001b[38;5;241m=\u001b[39m obj\u001b[38;5;241m.\u001b[39mastype(\u001b[38;5;28mobject\u001b[39m)\u001b[38;5;241m.\u001b[39m_values\n\u001b[0;32m-> 1076\u001b[0m         mapped \u001b[38;5;241m=\u001b[39m \u001b[43mlib\u001b[49m\u001b[38;5;241;43m.\u001b[39;49m\u001b[43mmap_infer\u001b[49m\u001b[43m(\u001b[49m\n\u001b[1;32m   1077\u001b[0m \u001b[43m            \u001b[49m\u001b[43mvalues\u001b[49m\u001b[43m,\u001b[49m\n\u001b[1;32m   1078\u001b[0m \u001b[43m            \u001b[49m\u001b[43mf\u001b[49m\u001b[43m,\u001b[49m\n\u001b[1;32m   1079\u001b[0m \u001b[43m            \u001b[49m\u001b[43mconvert\u001b[49m\u001b[38;5;241;43m=\u001b[39;49m\u001b[38;5;28;43mself\u001b[39;49m\u001b[38;5;241;43m.\u001b[39;49m\u001b[43mconvert_dtype\u001b[49m\u001b[43m,\u001b[49m\n\u001b[1;32m   1080\u001b[0m \u001b[43m        \u001b[49m\u001b[43m)\u001b[49m\n\u001b[1;32m   1082\u001b[0m \u001b[38;5;28;01mif\u001b[39;00m \u001b[38;5;28mlen\u001b[39m(mapped) \u001b[38;5;129;01mand\u001b[39;00m \u001b[38;5;28misinstance\u001b[39m(mapped[\u001b[38;5;241m0\u001b[39m], ABCSeries):\n\u001b[1;32m   1083\u001b[0m     \u001b[38;5;66;03m# GH#43986 Need to do list(mapped) in order to get treated as nested\u001b[39;00m\n\u001b[1;32m   1084\u001b[0m     \u001b[38;5;66;03m#  See also GH#25959 regarding EA support\u001b[39;00m\n\u001b[1;32m   1085\u001b[0m     \u001b[38;5;28;01mreturn\u001b[39;00m obj\u001b[38;5;241m.\u001b[39m_constructor_expanddim(\u001b[38;5;28mlist\u001b[39m(mapped), index\u001b[38;5;241m=\u001b[39mobj\u001b[38;5;241m.\u001b[39mindex)\n",
      "File \u001b[0;32m/opt/conda/lib/python3.10/site-packages/pandas/_libs/lib.pyx:2834\u001b[0m, in \u001b[0;36mpandas._libs.lib.map_infer\u001b[0;34m()\u001b[0m\n",
      "Cell \u001b[0;32mIn[952], line 13\u001b[0m, in \u001b[0;36mget_days_games.<locals>.<lambda>\u001b[0;34m(x)\u001b[0m\n\u001b[1;32m     10\u001b[0m todays_games \u001b[38;5;241m=\u001b[39m preds[(preds\u001b[38;5;241m.\u001b[39mindex\u001b[38;5;241m.\u001b[39mget_level_values(\u001b[38;5;124m'\u001b[39m\u001b[38;5;124mgameDate\u001b[39m\u001b[38;5;124m'\u001b[39m) \u001b[38;5;241m==\u001b[39m date)]\n\u001b[1;32m     11\u001b[0m todays_players \u001b[38;5;241m=\u001b[39m todays_games[todays_games\u001b[38;5;241m.\u001b[39mindex\u001b[38;5;241m.\u001b[39mget_level_values(\u001b[38;5;124m'\u001b[39m\u001b[38;5;124mplayerId\u001b[39m\u001b[38;5;124m'\u001b[39m)\u001b[38;5;241m.\u001b[39misin(selected_team)]\u001b[38;5;241m.\u001b[39mindex\u001b[38;5;241m.\u001b[39mget_level_values(\u001b[38;5;124m'\u001b[39m\u001b[38;5;124mplayerId\u001b[39m\u001b[38;5;124m'\u001b[39m)\u001b[38;5;241m.\u001b[39mtolist()\n\u001b[0;32m---> 13\u001b[0m is_included \u001b[38;5;241m=\u001b[39m todays_games\u001b[38;5;241m.\u001b[39mreset_index(level\u001b[38;5;241m=\u001b[39m\u001b[38;5;124m'\u001b[39m\u001b[38;5;124mplayerId\u001b[39m\u001b[38;5;124m'\u001b[39m)[\u001b[38;5;124m'\u001b[39m\u001b[38;5;124mplayerId\u001b[39m\u001b[38;5;124m'\u001b[39m]\u001b[38;5;241m.\u001b[39mapply(\u001b[38;5;28;01mlambda\u001b[39;00m x: \u001b[43mcan_include_player\u001b[49m\u001b[43m(\u001b[49m\u001b[43mx\u001b[49m\u001b[43m,\u001b[49m\u001b[43m \u001b[49m\u001b[43mposition_lookup\u001b[49m\u001b[43m,\u001b[49m\u001b[43m \u001b[49m\u001b[43mtodays_players\u001b[49m\u001b[43m,\u001b[49m\u001b[43m \u001b[49m\u001b[43mposition_limits\u001b[49m\u001b[43m,\u001b[49m\u001b[43m \u001b[49m\u001b[43mwildcard\u001b[49m\u001b[38;5;241;43m=\u001b[39;49m\u001b[38;5;28;43;01mNone\u001b[39;49;00m\u001b[43m)\u001b[49m)\u001b[38;5;241m.\u001b[39mvalues\n\u001b[1;32m     14\u001b[0m is_inteam \u001b[38;5;241m=\u001b[39m todays_games\u001b[38;5;241m.\u001b[39mreset_index(level\u001b[38;5;241m=\u001b[39m\u001b[38;5;124m'\u001b[39m\u001b[38;5;124mplayerId\u001b[39m\u001b[38;5;124m'\u001b[39m)[\u001b[38;5;124m'\u001b[39m\u001b[38;5;124mplayerId\u001b[39m\u001b[38;5;124m'\u001b[39m]\u001b[38;5;241m.\u001b[39misin(selected_team)\u001b[38;5;241m.\u001b[39mvalues\n\u001b[1;32m     15\u001b[0m todays_games \u001b[38;5;241m=\u001b[39m todays_games[is_included\u001b[38;5;241m|\u001b[39mis_inteam]\n",
      "Cell \u001b[0;32mIn[944], line 40\u001b[0m, in \u001b[0;36mcan_include_player\u001b[0;34m(new_player, position_lookup, selected_players, position_limits, wildcard)\u001b[0m\n\u001b[1;32m     37\u001b[0m initial_assignments \u001b[38;5;241m=\u001b[39m {}\n\u001b[1;32m     39\u001b[0m \u001b[38;5;66;03m# Run the backtracking algorithm\u001b[39;00m\n\u001b[0;32m---> 40\u001b[0m \u001b[38;5;28;01mreturn\u001b[39;00m \u001b[43mbacktrack\u001b[49m\u001b[43m(\u001b[49m\u001b[43minitial_assignments\u001b[49m\u001b[43m,\u001b[49m\u001b[43m \u001b[49m\u001b[43mall_players\u001b[49m\u001b[43m)\u001b[49m\n",
      "Cell \u001b[0;32mIn[944], line 28\u001b[0m, in \u001b[0;36mcan_include_player.<locals>.backtrack\u001b[0;34m(assignments, players)\u001b[0m\n\u001b[1;32m     26\u001b[0m assignments[current_player] \u001b[38;5;241m=\u001b[39m pos\n\u001b[1;32m     27\u001b[0m \u001b[38;5;28;01mif\u001b[39;00m is_valid_assignment(assignments):\n\u001b[0;32m---> 28\u001b[0m     \u001b[38;5;28;01mif\u001b[39;00m \u001b[43mbacktrack\u001b[49m\u001b[43m(\u001b[49m\u001b[43massignments\u001b[49m\u001b[43m,\u001b[49m\u001b[43m \u001b[49m\u001b[43mplayers\u001b[49m\u001b[43m[\u001b[49m\u001b[38;5;241;43m1\u001b[39;49m\u001b[43m:\u001b[49m\u001b[43m]\u001b[49m\u001b[43m)\u001b[49m:\n\u001b[1;32m     29\u001b[0m         \u001b[38;5;28;01mreturn\u001b[39;00m \u001b[38;5;28;01mTrue\u001b[39;00m\n\u001b[1;32m     30\u001b[0m assignments\u001b[38;5;241m.\u001b[39mpop(current_player, \u001b[38;5;28;01mNone\u001b[39;00m)\n",
      "Cell \u001b[0;32mIn[944], line 27\u001b[0m, in \u001b[0;36mcan_include_player.<locals>.backtrack\u001b[0;34m(assignments, players)\u001b[0m\n\u001b[1;32m     25\u001b[0m \u001b[38;5;28;01mfor\u001b[39;00m pos \u001b[38;5;129;01min\u001b[39;00m possible_positions:\n\u001b[1;32m     26\u001b[0m     assignments[current_player] \u001b[38;5;241m=\u001b[39m pos\n\u001b[0;32m---> 27\u001b[0m     \u001b[38;5;28;01mif\u001b[39;00m \u001b[43mis_valid_assignment\u001b[49m\u001b[43m(\u001b[49m\u001b[43massignments\u001b[49m\u001b[43m)\u001b[49m:\n\u001b[1;32m     28\u001b[0m         \u001b[38;5;28;01mif\u001b[39;00m backtrack(assignments, players[\u001b[38;5;241m1\u001b[39m:]):\n\u001b[1;32m     29\u001b[0m             \u001b[38;5;28;01mreturn\u001b[39;00m \u001b[38;5;28;01mTrue\u001b[39;00m\n",
      "Cell \u001b[0;32mIn[944], line 9\u001b[0m, in \u001b[0;36mcan_include_player.<locals>.is_valid_assignment\u001b[0;34m(assignments)\u001b[0m\n\u001b[1;32m      7\u001b[0m \u001b[38;5;28;01mfor\u001b[39;00m player, pos \u001b[38;5;129;01min\u001b[39;00m assignments\u001b[38;5;241m.\u001b[39mitems():\n\u001b[1;32m      8\u001b[0m     counts[pos] \u001b[38;5;241m+\u001b[39m\u001b[38;5;241m=\u001b[39m \u001b[38;5;241m1\u001b[39m\n\u001b[0;32m----> 9\u001b[0m     \u001b[38;5;28;01mif\u001b[39;00m counts[pos] \u001b[38;5;241m>\u001b[39m \u001b[43mposition_limits\u001b[49m\u001b[38;5;241;43m.\u001b[39;49m\u001b[43mget\u001b[49m\u001b[43m(\u001b[49m\u001b[43mpos\u001b[49m\u001b[43m,\u001b[49m\u001b[43m \u001b[49m\u001b[38;5;241;43m0\u001b[39;49m\u001b[43m)\u001b[49m:\n\u001b[1;32m     10\u001b[0m         \u001b[38;5;28;01mreturn\u001b[39;00m \u001b[38;5;28;01mFalse\u001b[39;00m\n\u001b[1;32m     11\u001b[0m \u001b[38;5;28;01mreturn\u001b[39;00m \u001b[38;5;28;01mTrue\u001b[39;00m\n",
      "\u001b[0;31mKeyboardInterrupt\u001b[0m: "
     ]
    }
   ],
   "source": [
    "i = 0\n",
    "for m in matchups:\n",
    "    print('WEEK', m.week)\n",
    "    dates = pd.date_range(m.week_start, m.week_end)\n",
    "    games = get_schedule(dates)\n",
    "    opponent = get_opponent(m)\n",
    "    gs = get_week_data(dates, games, X_p, X_t)\n",
    "    \n",
    "    preds = get_preds(pipes, gs)\n",
    "\n",
    "\n",
    "    opp_exp = teams[(teams['team_id'] == opponent)&(teams['date'] == dates[0])].merge(preds, on='playerId').set_index(['playerId', 'name'])[PRED_COLS]\n",
    "    \n",
    "    if i == 0:\n",
    "        own_current = teams[(teams['team_id'] == own_team)&(teams['date'] == dates[0])].playerId.tolist()\n",
    "    i+=1\n",
    "    \n",
    "    taken = teams[(teams['date'] == dates[0])&(teams['team_id'] != own_team)]['playerId'].tolist()\n",
    "    \n",
    "    \n",
    "    selected_team = []\n",
    "\n",
    "    player_info = players.set_index('playerId')[['name', 'pos']]\n",
    "    while len(selected_team) < 14:\n",
    "        week_ind_preds = get_week_games(dates, preds, players, selected_team)\n",
    "        week_preds = week_ind_preds.groupby('playerId').sum()\n",
    "        if len(selected_team) < 12:\n",
    "            team_left = [p for p in own_current if p not in selected_team]\n",
    "            current_exp = week_preds.loc[week_preds.index.isin(team_left)].copy()\n",
    "        else:\n",
    "            current_exp = week_preds[~week_preds.index.isin(taken+selected_team)].copy()\n",
    "\n",
    "        current_exp += week_preds.loc[selected_team].sum()\n",
    "\n",
    "        exp = get_added_vals(current_exp, opp_exp.sum())\n",
    "        selected_team.append(exp.idxmax())\n",
    "    \n",
    "    res = get_results(dates, preds, players, selected_team)\n",
    "    print('DROPS\\n', player_info.loc[[t for t in own_current if t not in selected_team]])\n",
    "    print('ADDS\\n', player_info.loc[[t for t in selected_team if t not in own_current]])\n",
    "    print('TEAM\\n', player_info.loc[selected_team])\n",
    "    print('RESULT\\n', res)\n",
    "    own_current = [n for n in selected_team]"
   ]
  }
 ],
 "metadata": {
  "environment": {
   "kernel": "yahoo",
   "name": "workbench-notebooks.m123",
   "type": "gcloud",
   "uri": "us-docker.pkg.dev/deeplearning-platform-release/gcr.io/workbench-notebooks:m123"
  },
  "kernelspec": {
   "display_name": "yahoo",
   "language": "python",
   "name": "yahoo"
  },
  "language_info": {
   "codemirror_mode": {
    "name": "ipython",
    "version": 3
   },
   "file_extension": ".py",
   "mimetype": "text/x-python",
   "name": "python",
   "nbconvert_exporter": "python",
   "pygments_lexer": "ipython3",
   "version": "3.12.2"
  }
 },
 "nbformat": 4,
 "nbformat_minor": 5
}
