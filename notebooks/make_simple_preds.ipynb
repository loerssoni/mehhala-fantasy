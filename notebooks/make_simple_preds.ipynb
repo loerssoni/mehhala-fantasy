{
 "cells": [
  {
   "cell_type": "code",
   "execution_count": 1,
   "id": "06033494-0212-4bfa-b254-d05a63c8cd73",
   "metadata": {
    "tags": []
   },
   "outputs": [],
   "source": [
    "%load_ext autoreload\n",
    "%autoreload 2\n",
    "import sys\n",
    "sys.path.append('../src')"
   ]
  },
  {
   "cell_type": "code",
   "execution_count": 2,
   "id": "d0927cc0-90dc-405c-8118-3e08f838d8af",
   "metadata": {
    "scrolled": true,
    "tags": []
   },
   "outputs": [],
   "source": [
    "from get_data import load_history, load_current, combine_history, process_y, load_bios, load_team_data\n",
    "# load_history()\n",
    "# load_current()\n",
    "# combine_history()\n",
    "# load_team_data()\n",
    "# load_bios()\n",
    "# process_y()\n"
   ]
  },
  {
   "cell_type": "code",
   "execution_count": null,
   "id": "cb9c1cc8-7d3f-436b-bd71-abf182bb1747",
   "metadata": {
    "tags": []
   },
   "outputs": [],
   "source": []
  },
  {
   "cell_type": "code",
   "execution_count": 3,
   "id": "7acb5dc4-9411-4972-93ad-a42139479f9d",
   "metadata": {
    "tags": []
   },
   "outputs": [],
   "source": [
    "from process_data import get_rest_of_season_player_stats, PRED_COLS\n",
    "from model_training import get_data_by_windows, get_simple_pipelines, load_player_feature_map"
   ]
  },
  {
   "cell_type": "code",
   "execution_count": 59,
   "id": "317cbe8d-cacc-4ac7-8b19-053c931a0e61",
   "metadata": {
    "scrolled": true,
    "tags": []
   },
   "outputs": [
    {
     "name": "stdout",
     "output_type": "stream",
     "text": [
      "fitting ga\n",
      "ga -- 0.28972526946089083\n",
      "ga -- 0.40065374507010043\n",
      "fitting win\n",
      "win -- 0.31660576456012657\n",
      "win -- 0.07152999104436228\n",
      "fitting so\n",
      "so -- 0.10124124126963907\n",
      "so -- 0.012685201349548569\n",
      "fitting save\n",
      "save -- 0.34437087193181837\n",
      "save -- 3.4275143940126074\n",
      "fitting icetime\n",
      "icetime -- 0.35785037723553137\n",
      "icetime -- 0.1276074286424566\n",
      "fitting g\n",
      "g -- 0.4141071269918828\n",
      "g -- 0.06893484371849458\n",
      "fitting a\n",
      "a -- 0.4913999081985607\n",
      "a -- 0.09070259443144378\n",
      "fitting sog\n",
      "sog -- 0.7141968560168623\n",
      "sog -- 0.26608018089710656\n",
      "fitting fow\n",
      "fow -- 0.8672928904975596\n",
      "fow -- 0.33557868474717933\n",
      "fitting hit\n",
      "hit -- 0.7380527942445838\n",
      "hit -- 0.2900396579971427\n",
      "fitting block\n",
      "block -- 0.7557504268651606\n",
      "block -- 0.18557855588215072\n",
      "fitting pim\n",
      "pim -- 0.3269239672163742\n",
      "pim -- 0.16946025636822443\n",
      "fitting goalsfor\n",
      "goalsfor -- 0.3503619725348208\n",
      "goalsfor -- 0.13763992443477568\n",
      "fitting goalsaga\n",
      "goalsaga -- 0.3090926791146319\n",
      "goalsaga -- 0.13380288220262468\n",
      "fitting ppp\n",
      "ppp -- 0.5476590049990198\n",
      "ppp -- 0.04234620814638908\n"
     ]
    }
   ],
   "source": [
    "force_retrain = True\n",
    "\n",
    "player_type = 'goalie'\n",
    "# X_g, y_g, g_feature_map = get_data_by_windows(player_type, [50, 30, 20, 15, 10, 8, 3, 1])\n",
    "pipelines = get_simple_pipelines(player_type, (X_g, y_g.loc[X_g.index]), g_feature_map, force_retrain=force_retrain)\n",
    "\n",
    "player_type = 'skater'\n",
    "# X, y, full_feature_map = get_data_by_windows(player_type, [30, 15, 10, 5, 3])\n",
    "pipelines = get_simple_pipelines(player_type, (X, y.loc[X.index]), full_feature_map, force_retrain=force_retrain)\n"
   ]
  },
  {
   "cell_type": "code",
   "execution_count": null,
   "id": "f4b40f4b-e13b-4ba4-9132-8ba7021e2c21",
   "metadata": {
    "tags": []
   },
   "outputs": [],
   "source": [
    "retrieved data for window 50\n",
    "retrieved data for window 30\n",
    "retrieved data for window 20\n",
    "retrieved data for window 15\n",
    "retrieved data for window 10\n",
    "retrieved data for window 8\n",
    "retrieved data for window 3\n",
    "retrieved data for window 1\n",
    "fitting ga\n",
    "ga -- 0.2897052272708449\n",
    "ga -- 0.40064544875849517\n",
    "fitting win\n",
    "win -- 0.31658687436794275\n",
    "win -- 0.07153053044298194\n",
    "fitting so\n",
    "so -- 0.10125521384063552\n",
    "so -- 0.012684925207647276\n",
    "fitting save\n",
    "save -- 0.3444708019714485\n",
    "save -- 3.4267838106705746\n",
    "fitting icetime\n",
    "icetime -- 0.35784658121593604\n",
    "icetime -- 0.12760588320019328\n",
    "retrieved data for window 30\n",
    "retrieved data for window 15\n",
    "retrieved data for window 10\n",
    "retrieved data for window 5\n",
    "retrieved data for window 3\n",
    "fitting g\n",
    "g -- 0.41410366856026026\n",
    "g -- 0.06893503157785265\n",
    "fitting a\n",
    "a -- 0.49140088580460517\n",
    "a -- 0.09070265491782278\n",
    "fitting sog\n",
    "sog -- 0.7141934309633137\n",
    "sog -- 0.26608251064688077\n",
    "fitting fow\n",
    "fow -- 0.867288430127758\n",
    "fow -- 0.3355780972215602\n",
    "fitting hit\n",
    "hit -- 0.738052263806542\n",
    "hit -- 0.29003904906298844\n",
    "fitting block\n",
    "block -- 0.7557499937450254\n",
    "block -- 0.18557826602146824\n",
    "fitting pim\n",
    "pim -- 0.3269243980176004\n",
    "pim -- 0.16946047164932024\n",
    "fitting goalsfor\n",
    "goalsfor -- 0.35036080358785093\n",
    "goalsfor -- 0.13764021167124563\n",
    "fitting goalsaga\n",
    "goalsaga -- 0.309096361647745\n",
    "goalsaga -- 0.13380339772570363\n",
    "fitting ppp\n",
    "ppp -- 0.5476576055823166\n",
    "ppp -- 0.042346444987147534"
   ]
  },
  {
   "cell_type": "code",
   "execution_count": null,
   "id": "e74be97c-a085-4faf-a3bc-7ae395f0f02c",
   "metadata": {
    "scrolled": true,
    "tags": []
   },
   "outputs": [],
   "source": [
    "for col in PRED_COLS['skater']:    \n",
    "    preds[col] = pipelines['skater'][col].predict(X[skaters_p_feats[col][0]])\n",
    "preds_df = pd.DataFrame(preds, index=X.index)\n",
    "\n",
    "gl_p_cols = list(set([c for s in goalies_p_feats.values() for c in s[0]]))\n",
    "for col in PRED_COLS['goalie']:\n",
    "    goalie_preds[col] = pipelines['goalie'][col].predict(X_g[goalies_p_feats[col][0]])\n",
    "goalie_preds_df = pd.DataFrame(goalie_preds, index=X_g.index)\n",
    "\n",
    "\n",
    "\n",
    "games_df = pd.DataFrame([dict(week=week, **game) for week, games in current_schedule.items() for game in games])\n",
    "\n",
    "preds_df = preds_df.merge(games_df[['gameId','week']], on='gameId', how='left')\\\n",
    "    .set_index(preds_df.index)\n",
    "goalie_preds_df = goalie_preds_df.merge(games_df[['gameId','week']], on='gameId', how='left')\\\n",
    "    .set_index(goalie_preds_df.index)\n",
    "\n",
    "preds_df = pd.concat([preds_df, goalie_preds_df], axis=0)\n",
    "weekly_preds = preds_df[preds_df['week'] > 0].set_index('week', append=True)\n",
    "weekly_preds = weekly_preds.drop('gameId', axis=1)\n",
    "\n",
    "weekly_preds.to_csv('data/2324_preds_simple.csv')"
   ]
  },
  {
   "cell_type": "code",
   "execution_count": 15,
   "id": "8d794c1c-f421-4558-8af8-f9eaa13c55e3",
   "metadata": {
    "tags": []
   },
   "outputs": [
    {
     "data": {
      "text/plain": [
       "Index(['playerId', 'name', 'pos', 'team', 'rank', 'week_rank', 'games',\n",
       "       'week_games', 'g', 'a', 'sog', 'fow', 'hit', 'block', 'pim', 'plusmin',\n",
       "       'ga', 'win', 'so', 'save', 'g_week', 'a_week', 'sog_week', 'fow_week',\n",
       "       'hit_week', 'block_week', 'pim_week', 'plusmin_week', 'ga_week',\n",
       "       'win_week', 'so_week', 'save_week', 'current_lineup', 'selection'],\n",
       "      dtype='object')"
      ]
     },
     "execution_count": 15,
     "metadata": {},
     "output_type": "execute_result"
    }
   ],
   "source": [
    "import pandas as pd\n",
    "player_data = pd.read_csv('data/player_data.csv')\n",
    "player_data.loc[player_data.pos != \"['G']\"].columns"
   ]
  },
  {
   "cell_type": "code",
   "execution_count": null,
   "id": "6d1b3953-3cf4-4cff-a531-74c5b66d928d",
   "metadata": {
    "tags": []
   },
   "outputs": [],
   "source": [
    "from yahoo_utils import get_games_by_week\n",
    "current_schedule = get_games_by_week(427)"
   ]
  },
  {
   "cell_type": "code",
   "execution_count": null,
   "id": "acaad809-bc3f-4db5-a0ad-2660fb47d32e",
   "metadata": {
    "tags": []
   },
   "outputs": [],
   "source": [
    "preds = {}\n",
    "goalie_preds = {}\n",
    "\n",
    "for col in PRED_COLS['skater']:    \n",
    "    preds[col] = pipelines['skater'][col].predict(skater_latest.dropna()[skaters_p_feats[col][0]])\n",
    "preds_df = pd.DataFrame(preds, index=skater_latest.dropna().index)\n",
    "\n",
    "gl_p_cols = list(set([c for s in goalies_p_feats.values() for c in s[0]]))\n",
    "for col in PRED_COLS['goalie']:\n",
    "    goalie_preds[col] = pipelines['goalie'][col].predict(goalie_latest.dropna()[goalies_p_feats[col][0]])\n",
    "goalie_preds_df = pd.DataFrame(goalie_preds, index=goalie_latest.dropna().index)\n",
    "\n",
    "preds_df = pd.concat([preds_df, goalie_preds_df], axis=0)\n",
    "weekly_preds.to_csv('data/latest_preds.csv')"
   ]
  },
  {
   "cell_type": "code",
   "execution_count": null,
   "id": "b430aee7-152c-4b5a-8a4d-aea386b21ecf",
   "metadata": {},
   "outputs": [],
   "source": []
  }
 ],
 "metadata": {
  "environment": {
   "kernel": "yahoo",
   "name": "workbench-notebooks.m123",
   "type": "gcloud",
   "uri": "us-docker.pkg.dev/deeplearning-platform-release/gcr.io/workbench-notebooks:m123"
  },
  "kernelspec": {
   "display_name": "yahoo",
   "language": "python",
   "name": "yahoo"
  },
  "language_info": {
   "codemirror_mode": {
    "name": "ipython",
    "version": 3
   },
   "file_extension": ".py",
   "mimetype": "text/x-python",
   "name": "python",
   "nbconvert_exporter": "python",
   "pygments_lexer": "ipython3",
   "version": "3.12.2"
  }
 },
 "nbformat": 4,
 "nbformat_minor": 5
}
