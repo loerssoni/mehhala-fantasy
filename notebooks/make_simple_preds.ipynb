{
 "cells": [
  {
   "cell_type": "code",
   "execution_count": 2,
   "id": "06033494-0212-4bfa-b254-d05a63c8cd73",
   "metadata": {
    "tags": []
   },
   "outputs": [],
   "source": [
    "%load_ext autoreload\n",
    "%autoreload 2\n",
    "import sys\n",
    "sys.path.append('../src')"
   ]
  },
  {
   "cell_type": "code",
   "execution_count": 4,
   "id": "d0927cc0-90dc-405c-8118-3e08f838d8af",
   "metadata": {
    "scrolled": true,
    "tags": []
   },
   "outputs": [
    {
     "name": "stdout",
     "output_type": "stream",
     "text": [
      "https://moneypuck.com/moneypuck/playerData/teamPlayerGameByGame/2021/regular/skaters/\n"
     ]
    },
    {
     "name": "stderr",
     "output_type": "stream",
     "text": [
      "/home/jupyter/mehhala-fantasy/notebooks/../src/get_data.py:17: GuessedAtParserWarning: No parser was explicitly specified, so I'm using the best available HTML parser for this system (\"html.parser\"). This usually isn't a problem, but if you run this code on another system, or in a different virtual environment, it may use a different parser and behave differently.\n",
      "\n",
      "The code that caused this warning is on line 17 of the file /home/jupyter/mehhala-fantasy/notebooks/../src/get_data.py. To get rid of this warning, pass the additional argument 'features=\"html.parser\"' to the BeautifulSoup constructor.\n",
      "\n",
      "  soup = BeautifulSoup(r.text)\n"
     ]
    },
    {
     "name": "stdout",
     "output_type": "stream",
     "text": [
      "https://moneypuck.com/moneypuck/playerData/teamPlayerGameByGame/2022/regular/skaters/\n",
      "https://moneypuck.com/moneypuck/playerData/teamPlayerGameByGame/2023/regular/skaters/\n",
      "urls: ['https://moneypuck.com/moneypuck/playerData/teamPlayerGameByGame/2021/regular/skaters/ANA.csv', 'https://moneypuck.com/moneypuck/playerData/teamPlayerGameByGame/2021/regular/skaters/ARI.csv', 'https://moneypuck.com/moneypuck/playerData/teamPlayerGameByGame/2021/regular/skaters/BOS.csv', 'https://moneypuck.com/moneypuck/playerData/teamPlayerGameByGame/2021/regular/skaters/BUF.csv', 'https://moneypuck.com/moneypuck/playerData/teamPlayerGameByGame/2021/regular/skaters/CAR.csv', 'https://moneypuck.com/moneypuck/playerData/teamPlayerGameByGame/2021/regular/skaters/CBJ.csv', 'https://moneypuck.com/moneypuck/playerData/teamPlayerGameByGame/2021/regular/skaters/CGY.csv', 'https://moneypuck.com/moneypuck/playerData/teamPlayerGameByGame/2021/regular/skaters/CHI.csv', 'https://moneypuck.com/moneypuck/playerData/teamPlayerGameByGame/2021/regular/skaters/COL.csv', 'https://moneypuck.com/moneypuck/playerData/teamPlayerGameByGame/2021/regular/skaters/DAL.csv', 'https://moneypuck.com/moneypuck/playerData/teamPlayerGameByGame/2021/regular/skaters/DET.csv', 'https://moneypuck.com/moneypuck/playerData/teamPlayerGameByGame/2021/regular/skaters/EDM.csv', 'https://moneypuck.com/moneypuck/playerData/teamPlayerGameByGame/2021/regular/skaters/FLA.csv', 'https://moneypuck.com/moneypuck/playerData/teamPlayerGameByGame/2021/regular/skaters/LAK.csv', 'https://moneypuck.com/moneypuck/playerData/teamPlayerGameByGame/2021/regular/skaters/MIN.csv', 'https://moneypuck.com/moneypuck/playerData/teamPlayerGameByGame/2021/regular/skaters/MTL.csv', 'https://moneypuck.com/moneypuck/playerData/teamPlayerGameByGame/2021/regular/skaters/NJD.csv', 'https://moneypuck.com/moneypuck/playerData/teamPlayerGameByGame/2021/regular/skaters/NSH.csv', 'https://moneypuck.com/moneypuck/playerData/teamPlayerGameByGame/2021/regular/skaters/NYI.csv', 'https://moneypuck.com/moneypuck/playerData/teamPlayerGameByGame/2021/regular/skaters/NYR.csv', 'https://moneypuck.com/moneypuck/playerData/teamPlayerGameByGame/2021/regular/skaters/OTT.csv', 'https://moneypuck.com/moneypuck/playerData/teamPlayerGameByGame/2021/regular/skaters/PHI.csv', 'https://moneypuck.com/moneypuck/playerData/teamPlayerGameByGame/2021/regular/skaters/PIT.csv', 'https://moneypuck.com/moneypuck/playerData/teamPlayerGameByGame/2021/regular/skaters/SEA.csv', 'https://moneypuck.com/moneypuck/playerData/teamPlayerGameByGame/2021/regular/skaters/SJS.csv', 'https://moneypuck.com/moneypuck/playerData/teamPlayerGameByGame/2021/regular/skaters/STL.csv', 'https://moneypuck.com/moneypuck/playerData/teamPlayerGameByGame/2021/regular/skaters/TBL.csv', 'https://moneypuck.com/moneypuck/playerData/teamPlayerGameByGame/2021/regular/skaters/TOR.csv', 'https://moneypuck.com/moneypuck/playerData/teamPlayerGameByGame/2021/regular/skaters/VAN.csv', 'https://moneypuck.com/moneypuck/playerData/teamPlayerGameByGame/2021/regular/skaters/VGK.csv', 'https://moneypuck.com/moneypuck/playerData/teamPlayerGameByGame/2021/regular/skaters/WPG.csv', 'https://moneypuck.com/moneypuck/playerData/teamPlayerGameByGame/2021/regular/skaters/WSH.csv', 'https://moneypuck.com/moneypuck/playerData/teamPlayerGameByGame/2022/regular/skaters/ANA.csv', 'https://moneypuck.com/moneypuck/playerData/teamPlayerGameByGame/2022/regular/skaters/ARI.csv', 'https://moneypuck.com/moneypuck/playerData/teamPlayerGameByGame/2022/regular/skaters/BOS.csv', 'https://moneypuck.com/moneypuck/playerData/teamPlayerGameByGame/2022/regular/skaters/BUF.csv', 'https://moneypuck.com/moneypuck/playerData/teamPlayerGameByGame/2022/regular/skaters/CAR.csv', 'https://moneypuck.com/moneypuck/playerData/teamPlayerGameByGame/2022/regular/skaters/CBJ.csv', 'https://moneypuck.com/moneypuck/playerData/teamPlayerGameByGame/2022/regular/skaters/CGY.csv', 'https://moneypuck.com/moneypuck/playerData/teamPlayerGameByGame/2022/regular/skaters/CHI.csv', 'https://moneypuck.com/moneypuck/playerData/teamPlayerGameByGame/2022/regular/skaters/COL.csv', 'https://moneypuck.com/moneypuck/playerData/teamPlayerGameByGame/2022/regular/skaters/DAL.csv', 'https://moneypuck.com/moneypuck/playerData/teamPlayerGameByGame/2022/regular/skaters/DET.csv', 'https://moneypuck.com/moneypuck/playerData/teamPlayerGameByGame/2022/regular/skaters/EDM.csv', 'https://moneypuck.com/moneypuck/playerData/teamPlayerGameByGame/2022/regular/skaters/FLA.csv', 'https://moneypuck.com/moneypuck/playerData/teamPlayerGameByGame/2022/regular/skaters/LAK.csv', 'https://moneypuck.com/moneypuck/playerData/teamPlayerGameByGame/2022/regular/skaters/MIN.csv', 'https://moneypuck.com/moneypuck/playerData/teamPlayerGameByGame/2022/regular/skaters/MTL.csv', 'https://moneypuck.com/moneypuck/playerData/teamPlayerGameByGame/2022/regular/skaters/NJD.csv', 'https://moneypuck.com/moneypuck/playerData/teamPlayerGameByGame/2022/regular/skaters/NSH.csv', 'https://moneypuck.com/moneypuck/playerData/teamPlayerGameByGame/2022/regular/skaters/NYI.csv', 'https://moneypuck.com/moneypuck/playerData/teamPlayerGameByGame/2022/regular/skaters/NYR.csv', 'https://moneypuck.com/moneypuck/playerData/teamPlayerGameByGame/2022/regular/skaters/OTT.csv', 'https://moneypuck.com/moneypuck/playerData/teamPlayerGameByGame/2022/regular/skaters/PHI.csv', 'https://moneypuck.com/moneypuck/playerData/teamPlayerGameByGame/2022/regular/skaters/PIT.csv', 'https://moneypuck.com/moneypuck/playerData/teamPlayerGameByGame/2022/regular/skaters/SEA.csv', 'https://moneypuck.com/moneypuck/playerData/teamPlayerGameByGame/2022/regular/skaters/SJS.csv', 'https://moneypuck.com/moneypuck/playerData/teamPlayerGameByGame/2022/regular/skaters/STL.csv', 'https://moneypuck.com/moneypuck/playerData/teamPlayerGameByGame/2022/regular/skaters/TBL.csv', 'https://moneypuck.com/moneypuck/playerData/teamPlayerGameByGame/2022/regular/skaters/TOR.csv', 'https://moneypuck.com/moneypuck/playerData/teamPlayerGameByGame/2022/regular/skaters/VAN.csv', 'https://moneypuck.com/moneypuck/playerData/teamPlayerGameByGame/2022/regular/skaters/VGK.csv', 'https://moneypuck.com/moneypuck/playerData/teamPlayerGameByGame/2022/regular/skaters/WPG.csv', 'https://moneypuck.com/moneypuck/playerData/teamPlayerGameByGame/2022/regular/skaters/WSH.csv', 'https://moneypuck.com/moneypuck/playerData/teamPlayerGameByGame/2023/regular/skaters/ANA.csv', 'https://moneypuck.com/moneypuck/playerData/teamPlayerGameByGame/2023/regular/skaters/ARI.csv', 'https://moneypuck.com/moneypuck/playerData/teamPlayerGameByGame/2023/regular/skaters/BOS.csv', 'https://moneypuck.com/moneypuck/playerData/teamPlayerGameByGame/2023/regular/skaters/BUF.csv', 'https://moneypuck.com/moneypuck/playerData/teamPlayerGameByGame/2023/regular/skaters/CAR.csv', 'https://moneypuck.com/moneypuck/playerData/teamPlayerGameByGame/2023/regular/skaters/CBJ.csv', 'https://moneypuck.com/moneypuck/playerData/teamPlayerGameByGame/2023/regular/skaters/CGY.csv', 'https://moneypuck.com/moneypuck/playerData/teamPlayerGameByGame/2023/regular/skaters/CHI.csv', 'https://moneypuck.com/moneypuck/playerData/teamPlayerGameByGame/2023/regular/skaters/COL.csv', 'https://moneypuck.com/moneypuck/playerData/teamPlayerGameByGame/2023/regular/skaters/DAL.csv', 'https://moneypuck.com/moneypuck/playerData/teamPlayerGameByGame/2023/regular/skaters/DET.csv', 'https://moneypuck.com/moneypuck/playerData/teamPlayerGameByGame/2023/regular/skaters/EDM.csv', 'https://moneypuck.com/moneypuck/playerData/teamPlayerGameByGame/2023/regular/skaters/FLA.csv', 'https://moneypuck.com/moneypuck/playerData/teamPlayerGameByGame/2023/regular/skaters/LAK.csv', 'https://moneypuck.com/moneypuck/playerData/teamPlayerGameByGame/2023/regular/skaters/MIN.csv', 'https://moneypuck.com/moneypuck/playerData/teamPlayerGameByGame/2023/regular/skaters/MTL.csv', 'https://moneypuck.com/moneypuck/playerData/teamPlayerGameByGame/2023/regular/skaters/NJD.csv', 'https://moneypuck.com/moneypuck/playerData/teamPlayerGameByGame/2023/regular/skaters/NSH.csv', 'https://moneypuck.com/moneypuck/playerData/teamPlayerGameByGame/2023/regular/skaters/NYI.csv', 'https://moneypuck.com/moneypuck/playerData/teamPlayerGameByGame/2023/regular/skaters/NYR.csv', 'https://moneypuck.com/moneypuck/playerData/teamPlayerGameByGame/2023/regular/skaters/OTT.csv', 'https://moneypuck.com/moneypuck/playerData/teamPlayerGameByGame/2023/regular/skaters/PHI.csv', 'https://moneypuck.com/moneypuck/playerData/teamPlayerGameByGame/2023/regular/skaters/PIT.csv', 'https://moneypuck.com/moneypuck/playerData/teamPlayerGameByGame/2023/regular/skaters/SEA.csv', 'https://moneypuck.com/moneypuck/playerData/teamPlayerGameByGame/2023/regular/skaters/SJS.csv', 'https://moneypuck.com/moneypuck/playerData/teamPlayerGameByGame/2023/regular/skaters/STL.csv', 'https://moneypuck.com/moneypuck/playerData/teamPlayerGameByGame/2023/regular/skaters/TBL.csv', 'https://moneypuck.com/moneypuck/playerData/teamPlayerGameByGame/2023/regular/skaters/TOR.csv', 'https://moneypuck.com/moneypuck/playerData/teamPlayerGameByGame/2023/regular/skaters/VAN.csv', 'https://moneypuck.com/moneypuck/playerData/teamPlayerGameByGame/2023/regular/skaters/VGK.csv', 'https://moneypuck.com/moneypuck/playerData/teamPlayerGameByGame/2023/regular/skaters/WPG.csv', 'https://moneypuck.com/moneypuck/playerData/teamPlayerGameByGame/2023/regular/skaters/WSH.csv']\n",
      "200\n",
      "9 / 96\n",
      "200\n",
      "19 / 96\n",
      "200\n",
      "29 / 96\n",
      "200\n",
      "39 / 96\n",
      "200\n",
      "49 / 96\n",
      "200\n",
      "59 / 96\n",
      "200\n",
      "69 / 96\n",
      "200\n",
      "79 / 96\n",
      "200\n",
      "89 / 96\n",
      "received: 96 csvs of 96\n"
     ]
    },
    {
     "name": "stderr",
     "output_type": "stream",
     "text": [
      "/home/jupyter/mehhala-fantasy/notebooks/../src/get_data.py:40: FutureWarning: Starting with pandas version 3.0 all arguments of to_hdf except for the argument 'path_or_buf' will be keyword-only.\n",
      "  df.to_hdf(filename, 'data', index=False)\n"
     ]
    },
    {
     "name": "stdout",
     "output_type": "stream",
     "text": [
      "https://moneypuck.com/moneypuck/playerData/teamPlayerGameByGame/2021/regular/goalies/\n"
     ]
    },
    {
     "name": "stderr",
     "output_type": "stream",
     "text": [
      "/home/jupyter/mehhala-fantasy/notebooks/../src/get_data.py:17: GuessedAtParserWarning: No parser was explicitly specified, so I'm using the best available HTML parser for this system (\"html.parser\"). This usually isn't a problem, but if you run this code on another system, or in a different virtual environment, it may use a different parser and behave differently.\n",
      "\n",
      "The code that caused this warning is on line 17 of the file /home/jupyter/mehhala-fantasy/notebooks/../src/get_data.py. To get rid of this warning, pass the additional argument 'features=\"html.parser\"' to the BeautifulSoup constructor.\n",
      "\n",
      "  soup = BeautifulSoup(r.text)\n"
     ]
    },
    {
     "name": "stdout",
     "output_type": "stream",
     "text": [
      "https://moneypuck.com/moneypuck/playerData/teamPlayerGameByGame/2022/regular/goalies/\n",
      "https://moneypuck.com/moneypuck/playerData/teamPlayerGameByGame/2023/regular/goalies/\n",
      "urls: ['https://moneypuck.com/moneypuck/playerData/teamPlayerGameByGame/2021/regular/goalies/ANA.csv', 'https://moneypuck.com/moneypuck/playerData/teamPlayerGameByGame/2021/regular/goalies/ARI.csv', 'https://moneypuck.com/moneypuck/playerData/teamPlayerGameByGame/2021/regular/goalies/BOS.csv', 'https://moneypuck.com/moneypuck/playerData/teamPlayerGameByGame/2021/regular/goalies/BUF.csv', 'https://moneypuck.com/moneypuck/playerData/teamPlayerGameByGame/2021/regular/goalies/CAR.csv', 'https://moneypuck.com/moneypuck/playerData/teamPlayerGameByGame/2021/regular/goalies/CBJ.csv', 'https://moneypuck.com/moneypuck/playerData/teamPlayerGameByGame/2021/regular/goalies/CGY.csv', 'https://moneypuck.com/moneypuck/playerData/teamPlayerGameByGame/2021/regular/goalies/CHI.csv', 'https://moneypuck.com/moneypuck/playerData/teamPlayerGameByGame/2021/regular/goalies/COL.csv', 'https://moneypuck.com/moneypuck/playerData/teamPlayerGameByGame/2021/regular/goalies/DAL.csv', 'https://moneypuck.com/moneypuck/playerData/teamPlayerGameByGame/2021/regular/goalies/DET.csv', 'https://moneypuck.com/moneypuck/playerData/teamPlayerGameByGame/2021/regular/goalies/EDM.csv', 'https://moneypuck.com/moneypuck/playerData/teamPlayerGameByGame/2021/regular/goalies/FLA.csv', 'https://moneypuck.com/moneypuck/playerData/teamPlayerGameByGame/2021/regular/goalies/LAK.csv', 'https://moneypuck.com/moneypuck/playerData/teamPlayerGameByGame/2021/regular/goalies/MIN.csv', 'https://moneypuck.com/moneypuck/playerData/teamPlayerGameByGame/2021/regular/goalies/MTL.csv', 'https://moneypuck.com/moneypuck/playerData/teamPlayerGameByGame/2021/regular/goalies/NJD.csv', 'https://moneypuck.com/moneypuck/playerData/teamPlayerGameByGame/2021/regular/goalies/NSH.csv', 'https://moneypuck.com/moneypuck/playerData/teamPlayerGameByGame/2021/regular/goalies/NYI.csv', 'https://moneypuck.com/moneypuck/playerData/teamPlayerGameByGame/2021/regular/goalies/NYR.csv', 'https://moneypuck.com/moneypuck/playerData/teamPlayerGameByGame/2021/regular/goalies/OTT.csv', 'https://moneypuck.com/moneypuck/playerData/teamPlayerGameByGame/2021/regular/goalies/PHI.csv', 'https://moneypuck.com/moneypuck/playerData/teamPlayerGameByGame/2021/regular/goalies/PIT.csv', 'https://moneypuck.com/moneypuck/playerData/teamPlayerGameByGame/2021/regular/goalies/SEA.csv', 'https://moneypuck.com/moneypuck/playerData/teamPlayerGameByGame/2021/regular/goalies/SJS.csv', 'https://moneypuck.com/moneypuck/playerData/teamPlayerGameByGame/2021/regular/goalies/STL.csv', 'https://moneypuck.com/moneypuck/playerData/teamPlayerGameByGame/2021/regular/goalies/TBL.csv', 'https://moneypuck.com/moneypuck/playerData/teamPlayerGameByGame/2021/regular/goalies/TOR.csv', 'https://moneypuck.com/moneypuck/playerData/teamPlayerGameByGame/2021/regular/goalies/VAN.csv', 'https://moneypuck.com/moneypuck/playerData/teamPlayerGameByGame/2021/regular/goalies/VGK.csv', 'https://moneypuck.com/moneypuck/playerData/teamPlayerGameByGame/2021/regular/goalies/WPG.csv', 'https://moneypuck.com/moneypuck/playerData/teamPlayerGameByGame/2021/regular/goalies/WSH.csv', 'https://moneypuck.com/moneypuck/playerData/teamPlayerGameByGame/2022/regular/goalies/ANA.csv', 'https://moneypuck.com/moneypuck/playerData/teamPlayerGameByGame/2022/regular/goalies/ARI.csv', 'https://moneypuck.com/moneypuck/playerData/teamPlayerGameByGame/2022/regular/goalies/BOS.csv', 'https://moneypuck.com/moneypuck/playerData/teamPlayerGameByGame/2022/regular/goalies/BUF.csv', 'https://moneypuck.com/moneypuck/playerData/teamPlayerGameByGame/2022/regular/goalies/CAR.csv', 'https://moneypuck.com/moneypuck/playerData/teamPlayerGameByGame/2022/regular/goalies/CBJ.csv', 'https://moneypuck.com/moneypuck/playerData/teamPlayerGameByGame/2022/regular/goalies/CGY.csv', 'https://moneypuck.com/moneypuck/playerData/teamPlayerGameByGame/2022/regular/goalies/CHI.csv', 'https://moneypuck.com/moneypuck/playerData/teamPlayerGameByGame/2022/regular/goalies/COL.csv', 'https://moneypuck.com/moneypuck/playerData/teamPlayerGameByGame/2022/regular/goalies/DAL.csv', 'https://moneypuck.com/moneypuck/playerData/teamPlayerGameByGame/2022/regular/goalies/DET.csv', 'https://moneypuck.com/moneypuck/playerData/teamPlayerGameByGame/2022/regular/goalies/EDM.csv', 'https://moneypuck.com/moneypuck/playerData/teamPlayerGameByGame/2022/regular/goalies/FLA.csv', 'https://moneypuck.com/moneypuck/playerData/teamPlayerGameByGame/2022/regular/goalies/LAK.csv', 'https://moneypuck.com/moneypuck/playerData/teamPlayerGameByGame/2022/regular/goalies/MIN.csv', 'https://moneypuck.com/moneypuck/playerData/teamPlayerGameByGame/2022/regular/goalies/MTL.csv', 'https://moneypuck.com/moneypuck/playerData/teamPlayerGameByGame/2022/regular/goalies/NJD.csv', 'https://moneypuck.com/moneypuck/playerData/teamPlayerGameByGame/2022/regular/goalies/NSH.csv', 'https://moneypuck.com/moneypuck/playerData/teamPlayerGameByGame/2022/regular/goalies/NYI.csv', 'https://moneypuck.com/moneypuck/playerData/teamPlayerGameByGame/2022/regular/goalies/NYR.csv', 'https://moneypuck.com/moneypuck/playerData/teamPlayerGameByGame/2022/regular/goalies/OTT.csv', 'https://moneypuck.com/moneypuck/playerData/teamPlayerGameByGame/2022/regular/goalies/PHI.csv', 'https://moneypuck.com/moneypuck/playerData/teamPlayerGameByGame/2022/regular/goalies/PIT.csv', 'https://moneypuck.com/moneypuck/playerData/teamPlayerGameByGame/2022/regular/goalies/SEA.csv', 'https://moneypuck.com/moneypuck/playerData/teamPlayerGameByGame/2022/regular/goalies/SJS.csv', 'https://moneypuck.com/moneypuck/playerData/teamPlayerGameByGame/2022/regular/goalies/STL.csv', 'https://moneypuck.com/moneypuck/playerData/teamPlayerGameByGame/2022/regular/goalies/TBL.csv', 'https://moneypuck.com/moneypuck/playerData/teamPlayerGameByGame/2022/regular/goalies/TOR.csv', 'https://moneypuck.com/moneypuck/playerData/teamPlayerGameByGame/2022/regular/goalies/VAN.csv', 'https://moneypuck.com/moneypuck/playerData/teamPlayerGameByGame/2022/regular/goalies/VGK.csv', 'https://moneypuck.com/moneypuck/playerData/teamPlayerGameByGame/2022/regular/goalies/WPG.csv', 'https://moneypuck.com/moneypuck/playerData/teamPlayerGameByGame/2022/regular/goalies/WSH.csv', 'https://moneypuck.com/moneypuck/playerData/teamPlayerGameByGame/2023/regular/goalies/ANA.csv', 'https://moneypuck.com/moneypuck/playerData/teamPlayerGameByGame/2023/regular/goalies/ARI.csv', 'https://moneypuck.com/moneypuck/playerData/teamPlayerGameByGame/2023/regular/goalies/BOS.csv', 'https://moneypuck.com/moneypuck/playerData/teamPlayerGameByGame/2023/regular/goalies/BUF.csv', 'https://moneypuck.com/moneypuck/playerData/teamPlayerGameByGame/2023/regular/goalies/CAR.csv', 'https://moneypuck.com/moneypuck/playerData/teamPlayerGameByGame/2023/regular/goalies/CBJ.csv', 'https://moneypuck.com/moneypuck/playerData/teamPlayerGameByGame/2023/regular/goalies/CGY.csv', 'https://moneypuck.com/moneypuck/playerData/teamPlayerGameByGame/2023/regular/goalies/CHI.csv', 'https://moneypuck.com/moneypuck/playerData/teamPlayerGameByGame/2023/regular/goalies/COL.csv', 'https://moneypuck.com/moneypuck/playerData/teamPlayerGameByGame/2023/regular/goalies/DAL.csv', 'https://moneypuck.com/moneypuck/playerData/teamPlayerGameByGame/2023/regular/goalies/DET.csv', 'https://moneypuck.com/moneypuck/playerData/teamPlayerGameByGame/2023/regular/goalies/EDM.csv', 'https://moneypuck.com/moneypuck/playerData/teamPlayerGameByGame/2023/regular/goalies/FLA.csv', 'https://moneypuck.com/moneypuck/playerData/teamPlayerGameByGame/2023/regular/goalies/LAK.csv', 'https://moneypuck.com/moneypuck/playerData/teamPlayerGameByGame/2023/regular/goalies/MIN.csv', 'https://moneypuck.com/moneypuck/playerData/teamPlayerGameByGame/2023/regular/goalies/MTL.csv', 'https://moneypuck.com/moneypuck/playerData/teamPlayerGameByGame/2023/regular/goalies/NJD.csv', 'https://moneypuck.com/moneypuck/playerData/teamPlayerGameByGame/2023/regular/goalies/NSH.csv', 'https://moneypuck.com/moneypuck/playerData/teamPlayerGameByGame/2023/regular/goalies/NYI.csv', 'https://moneypuck.com/moneypuck/playerData/teamPlayerGameByGame/2023/regular/goalies/NYR.csv', 'https://moneypuck.com/moneypuck/playerData/teamPlayerGameByGame/2023/regular/goalies/OTT.csv', 'https://moneypuck.com/moneypuck/playerData/teamPlayerGameByGame/2023/regular/goalies/PHI.csv', 'https://moneypuck.com/moneypuck/playerData/teamPlayerGameByGame/2023/regular/goalies/PIT.csv', 'https://moneypuck.com/moneypuck/playerData/teamPlayerGameByGame/2023/regular/goalies/SEA.csv', 'https://moneypuck.com/moneypuck/playerData/teamPlayerGameByGame/2023/regular/goalies/SJS.csv', 'https://moneypuck.com/moneypuck/playerData/teamPlayerGameByGame/2023/regular/goalies/STL.csv', 'https://moneypuck.com/moneypuck/playerData/teamPlayerGameByGame/2023/regular/goalies/TBL.csv', 'https://moneypuck.com/moneypuck/playerData/teamPlayerGameByGame/2023/regular/goalies/TOR.csv', 'https://moneypuck.com/moneypuck/playerData/teamPlayerGameByGame/2023/regular/goalies/VAN.csv', 'https://moneypuck.com/moneypuck/playerData/teamPlayerGameByGame/2023/regular/goalies/VGK.csv', 'https://moneypuck.com/moneypuck/playerData/teamPlayerGameByGame/2023/regular/goalies/WPG.csv', 'https://moneypuck.com/moneypuck/playerData/teamPlayerGameByGame/2023/regular/goalies/WSH.csv']\n",
      "200\n",
      "9 / 96\n",
      "200\n",
      "19 / 96\n",
      "200\n",
      "29 / 96\n",
      "200\n",
      "39 / 96\n",
      "200\n",
      "49 / 96\n",
      "200\n",
      "59 / 96\n",
      "200\n",
      "69 / 96\n",
      "200\n",
      "79 / 96\n",
      "200\n",
      "89 / 96\n",
      "received: 96 csvs of 96\n"
     ]
    },
    {
     "name": "stderr",
     "output_type": "stream",
     "text": [
      "/home/jupyter/mehhala-fantasy/notebooks/../src/get_data.py:40: FutureWarning: Starting with pandas version 3.0 all arguments of to_hdf except for the argument 'path_or_buf' will be keyword-only.\n",
      "  df.to_hdf(filename, 'data', index=False)\n"
     ]
    },
    {
     "name": "stdout",
     "output_type": "stream",
     "text": [
      "https://moneypuck.com/moneypuck/playerData/teamPlayerGameByGame/2024/regular/skaters/\n"
     ]
    },
    {
     "name": "stderr",
     "output_type": "stream",
     "text": [
      "/home/jupyter/mehhala-fantasy/notebooks/../src/get_data.py:17: GuessedAtParserWarning: No parser was explicitly specified, so I'm using the best available HTML parser for this system (\"html.parser\"). This usually isn't a problem, but if you run this code on another system, or in a different virtual environment, it may use a different parser and behave differently.\n",
      "\n",
      "The code that caused this warning is on line 17 of the file /home/jupyter/mehhala-fantasy/notebooks/../src/get_data.py. To get rid of this warning, pass the additional argument 'features=\"html.parser\"' to the BeautifulSoup constructor.\n",
      "\n",
      "  soup = BeautifulSoup(r.text)\n"
     ]
    },
    {
     "name": "stdout",
     "output_type": "stream",
     "text": [
      "urls: ['https://moneypuck.com/moneypuck/playerData/teamPlayerGameByGame/2024/regular/skaters/BUF.csv', 'https://moneypuck.com/moneypuck/playerData/teamPlayerGameByGame/2024/regular/skaters/NJD.csv']\n",
      "received: 2 csvs of 2\n",
      "https://moneypuck.com/moneypuck/playerData/teamPlayerGameByGame/2024/regular/goalies/\n"
     ]
    },
    {
     "name": "stderr",
     "output_type": "stream",
     "text": [
      "/home/jupyter/mehhala-fantasy/notebooks/../src/get_data.py:40: FutureWarning: Starting with pandas version 3.0 all arguments of to_hdf except for the argument 'path_or_buf' will be keyword-only.\n",
      "  df.to_hdf(filename, 'data', index=False)\n",
      "/home/jupyter/mehhala-fantasy/notebooks/../src/get_data.py:17: GuessedAtParserWarning: No parser was explicitly specified, so I'm using the best available HTML parser for this system (\"html.parser\"). This usually isn't a problem, but if you run this code on another system, or in a different virtual environment, it may use a different parser and behave differently.\n",
      "\n",
      "The code that caused this warning is on line 17 of the file /home/jupyter/mehhala-fantasy/notebooks/../src/get_data.py. To get rid of this warning, pass the additional argument 'features=\"html.parser\"' to the BeautifulSoup constructor.\n",
      "\n",
      "  soup = BeautifulSoup(r.text)\n"
     ]
    },
    {
     "name": "stdout",
     "output_type": "stream",
     "text": [
      "urls: ['https://moneypuck.com/moneypuck/playerData/teamPlayerGameByGame/2024/regular/goalies/BUF.csv', 'https://moneypuck.com/moneypuck/playerData/teamPlayerGameByGame/2024/regular/goalies/NJD.csv']\n",
      "received: 2 csvs of 2\n"
     ]
    },
    {
     "name": "stderr",
     "output_type": "stream",
     "text": [
      "/home/jupyter/mehhala-fantasy/notebooks/../src/get_data.py:40: FutureWarning: Starting with pandas version 3.0 all arguments of to_hdf except for the argument 'path_or_buf' will be keyword-only.\n",
      "  df.to_hdf(filename, 'data', index=False)\n"
     ]
    }
   ],
   "source": [
    "from get_data import load_history, load_current, combine_history, process_y, load_bios, load_team_data\n",
    "load_history()\n",
    "load_current()\n",
    "# combine_history()\n",
    "# load_team_data()\n",
    "# load_bios()\n",
    "# process_y()\n"
   ]
  },
  {
   "cell_type": "code",
   "execution_count": 4,
   "id": "cb9c1cc8-7d3f-436b-bd71-abf182bb1747",
   "metadata": {
    "tags": []
   },
   "outputs": [],
   "source": [
    "from yahoo_utils import get_games_by_week\n",
    "current_schedule = get_games_by_week(427)"
   ]
  },
  {
   "cell_type": "code",
   "execution_count": 46,
   "id": "7acb5dc4-9411-4972-93ad-a42139479f9d",
   "metadata": {
    "tags": []
   },
   "outputs": [],
   "source": [
    "from process_data import get_rest_of_season_player_stats, get_rest_of_season_stats, PRED_COLS\n",
    "from model_training import get_simple_pipelines, load_player_feature_map\n",
    "\n",
    "\n",
    "# X, y = get_rest_of_season_player_stats('skater')\n",
    "skater_latest = X.groupby('playerId').last()\n",
    "X = X.groupby('playerId').shift(1).dropna() # USE WHEN TESTING / RETRAINING MODELS\n",
    "y = y.loc[X.index, PRED_COLS['skater']]"
   ]
  },
  {
   "cell_type": "code",
   "execution_count": 48,
   "id": "fa3ecca4-7215-49cf-8ca8-43bbdf2eb1fe",
   "metadata": {
    "tags": []
   },
   "outputs": [],
   "source": [
    "pipelines = get_simple_pipelines((X, y), (X_g, y_g))"
   ]
  },
  {
   "cell_type": "code",
   "execution_count": 50,
   "id": "c2a6d817-37b6-4ddc-8626-b69cffcd0ab1",
   "metadata": {
    "scrolled": true,
    "tags": []
   },
   "outputs": [],
   "source": []
  },
  {
   "cell_type": "code",
   "execution_count": 51,
   "id": "e74be97c-a085-4faf-a3bc-7ae395f0f02c",
   "metadata": {
    "scrolled": true,
    "tags": []
   },
   "outputs": [],
   "source": [
    "for col in PRED_COLS['skater']:    \n",
    "    preds[col] = pipelines['skater'][col].predict(X[skaters_p_feats[col][0]])\n",
    "preds_df = pd.DataFrame(preds, index=X.index)\n",
    "\n",
    "gl_p_cols = list(set([c for s in goalies_p_feats.values() for c in s[0]]))\n",
    "for col in PRED_COLS['goalie']:\n",
    "    goalie_preds[col] = pipelines['goalie'][col].predict(X_g[goalies_p_feats[col][0]])\n",
    "goalie_preds_df = pd.DataFrame(goalie_preds, index=X_g.index)\n",
    "\n",
    "\n",
    "\n",
    "games_df = pd.DataFrame([dict(week=week, **game) for week, games in current_schedule.items() for game in games])\n",
    "\n",
    "preds_df = preds_df.merge(games_df[['gameId','week']], on='gameId', how='left')\\\n",
    "    .set_index(preds_df.index)\n",
    "goalie_preds_df = goalie_preds_df.merge(games_df[['gameId','week']], on='gameId', how='left')\\\n",
    "    .set_index(goalie_preds_df.index)\n",
    "\n",
    "preds_df = pd.concat([preds_df, goalie_preds_df], axis=0)\n",
    "weekly_preds = preds_df[preds_df['week'] > 0].set_index('week', append=True)\n",
    "weekly_preds = weekly_preds.drop('gameId', axis=1)\n",
    "\n",
    "weekly_preds.to_csv('data/2324_preds_simple.csv')"
   ]
  },
  {
   "cell_type": "code",
   "execution_count": 60,
   "id": "8d794c1c-f421-4558-8af8-f9eaa13c55e3",
   "metadata": {
    "tags": []
   },
   "outputs": [],
   "source": []
  },
  {
   "cell_type": "code",
   "execution_count": 74,
   "id": "6d1b3953-3cf4-4cff-a531-74c5b66d928d",
   "metadata": {
    "tags": []
   },
   "outputs": [],
   "source": []
  },
  {
   "cell_type": "code",
   "execution_count": 75,
   "id": "acaad809-bc3f-4db5-a0ad-2660fb47d32e",
   "metadata": {
    "tags": []
   },
   "outputs": [],
   "source": [
    "preds = {}\n",
    "goalie_preds = {}\n",
    "\n",
    "for col in PRED_COLS['skater']:    \n",
    "    preds[col] = pipelines['skater'][col].predict(skater_latest.dropna()[skaters_p_feats[col][0]])\n",
    "preds_df = pd.DataFrame(preds, index=skater_latest.dropna().index)\n",
    "\n",
    "gl_p_cols = list(set([c for s in goalies_p_feats.values() for c in s[0]]))\n",
    "for col in PRED_COLS['goalie']:\n",
    "    goalie_preds[col] = pipelines['goalie'][col].predict(goalie_latest.dropna()[goalies_p_feats[col][0]])\n",
    "goalie_preds_df = pd.DataFrame(goalie_preds, index=goalie_latest.dropna().index)\n",
    "\n",
    "preds_df = pd.concat([preds_df, goalie_preds_df], axis=0)\n",
    "weekly_preds.to_csv('data/latest_preds.csv')"
   ]
  },
  {
   "cell_type": "code",
   "execution_count": null,
   "id": "b430aee7-152c-4b5a-8a4d-aea386b21ecf",
   "metadata": {},
   "outputs": [],
   "source": []
  }
 ],
 "metadata": {
  "environment": {
   "kernel": "yahoo",
   "name": "workbench-notebooks.m123",
   "type": "gcloud",
   "uri": "us-docker.pkg.dev/deeplearning-platform-release/gcr.io/workbench-notebooks:m123"
  },
  "kernelspec": {
   "display_name": "yahoo",
   "language": "python",
   "name": "yahoo"
  },
  "language_info": {
   "codemirror_mode": {
    "name": "ipython",
    "version": 3
   },
   "file_extension": ".py",
   "mimetype": "text/x-python",
   "name": "python",
   "nbconvert_exporter": "python",
   "pygments_lexer": "ipython3",
   "version": "3.12.2"
  }
 },
 "nbformat": 4,
 "nbformat_minor": 5
}
