{
 "cells": [
  {
   "cell_type": "code",
   "execution_count": 1,
   "id": "06033494-0212-4bfa-b254-d05a63c8cd73",
   "metadata": {
    "tags": []
   },
   "outputs": [],
   "source": [
    "%load_ext autoreload\n",
    "%autoreload 2\n",
    "import sys\n",
    "sys.path.append('../src')"
   ]
  },
  {
   "cell_type": "code",
   "execution_count": 2,
   "id": "d0927cc0-90dc-405c-8118-3e08f838d8af",
   "metadata": {
    "scrolled": true,
    "tags": []
   },
   "outputs": [],
   "source": [
    "from get_data import load_history, load_current, combine_history, process_y, load_bios, load_team_data\n",
    "# load_history()\n",
    "# load_current()\n",
    "# combine_history()\n",
    "# load_team_data()\n",
    "# load_bios()\n",
    "# process_y()\n"
   ]
  },
  {
   "cell_type": "code",
   "execution_count": 4,
   "id": "cb9c1cc8-7d3f-436b-bd71-abf182bb1747",
   "metadata": {
    "tags": []
   },
   "outputs": [],
   "source": [
    "from yahoo_utils import get_games_by_week\n",
    "current_schedule = get_games_by_week(427)"
   ]
  },
  {
   "cell_type": "code",
   "execution_count": 46,
   "id": "7acb5dc4-9411-4972-93ad-a42139479f9d",
   "metadata": {
    "tags": []
   },
   "outputs": [],
   "source": [
    "from process_data import get_rest_of_season_player_stats, get_rest_of_season_stats, PRED_COLS\n",
    "from model_training import get_simple_pipelines, load_player_feature_map\n",
    "\n",
    "\n",
    "# X, y = get_rest_of_season_player_stats('skater')\n",
    "skater_latest = X.groupby('playerId').last()\n",
    "X = X.groupby('playerId').shift(1).dropna() # USE WHEN TESTING / RETRAINING MODELS\n",
    "y = y.loc[X.index, PRED_COLS['skater']]"
   ]
  },
  {
   "cell_type": "code",
   "execution_count": 47,
   "id": "5fb733e8-a733-47e6-b352-74fe94bd358d",
   "metadata": {
    "scrolled": true,
    "tags": []
   },
   "outputs": [],
   "source": [
    "import pandas as pd\n",
    "preds = {}\n",
    "skaters_p_feats = load_player_feature_map('skater2', data=(X,y))\n",
    "sk_p_cols = list(set([c for s in skaters_p_feats.values() for c in s[0]]))"
   ]
  },
  {
   "cell_type": "code",
   "execution_count": 48,
   "id": "fa3ecca4-7215-49cf-8ca8-43bbdf2eb1fe",
   "metadata": {
    "tags": []
   },
   "outputs": [],
   "source": [
    "X_g, y_g = get_rest_of_season_player_stats('goalie')\n",
    "goalie_latest = X_g.groupby('playerId').last()\n",
    "X_g = X_g.groupby('playerId').shift(1).dropna() # USE WHEN TESTING / RETRAINING MODELS\n",
    "y_g = y_g.loc[X_g.index, PRED_COLS['goalie']]"
   ]
  },
  {
   "cell_type": "code",
   "execution_count": 49,
   "id": "e0c9dcfc-e751-41ad-9291-b67eda7e7755",
   "metadata": {
    "scrolled": true,
    "tags": []
   },
   "outputs": [],
   "source": [
    "goalie_preds = {}\n",
    "goalies_p_feats = load_player_feature_map('goalie2', (X_g, y_g))"
   ]
  },
  {
   "cell_type": "code",
   "execution_count": 50,
   "id": "c2a6d817-37b6-4ddc-8626-b69cffcd0ab1",
   "metadata": {
    "scrolled": true,
    "tags": []
   },
   "outputs": [],
   "source": [
    "pipelines = get_simple_pipelines((X, y), (X_g, y_g))"
   ]
  },
  {
   "cell_type": "code",
   "execution_count": 51,
   "id": "e74be97c-a085-4faf-a3bc-7ae395f0f02c",
   "metadata": {
    "scrolled": true,
    "tags": []
   },
   "outputs": [],
   "source": [
    "for col in PRED_COLS['skater']:    \n",
    "    preds[col] = pipelines['skater'][col].predict(X[skaters_p_feats[col][0]])\n",
    "preds_df = pd.DataFrame(preds, index=X.index)\n",
    "\n",
    "gl_p_cols = list(set([c for s in goalies_p_feats.values() for c in s[0]]))\n",
    "for col in PRED_COLS['goalie']:\n",
    "    goalie_preds[col] = pipelines['goalie'][col].predict(X_g[goalies_p_feats[col][0]])\n",
    "goalie_preds_df = pd.DataFrame(goalie_preds, index=X_g.index)\n",
    "\n",
    "\n",
    "\n",
    "games_df = pd.DataFrame([dict(week=week, **game) for week, games in current_schedule.items() for game in games])\n",
    "\n",
    "preds_df = preds_df.merge(games_df[['gameId','week']], on='gameId', how='left')\\\n",
    "    .set_index(preds_df.index)\n",
    "goalie_preds_df = goalie_preds_df.merge(games_df[['gameId','week']], on='gameId', how='left')\\\n",
    "    .set_index(goalie_preds_df.index)\n",
    "\n",
    "preds_df = pd.concat([preds_df, goalie_preds_df], axis=0)\n",
    "weekly_preds = preds_df[preds_df['week'] > 0].set_index('week', append=True)\n",
    "weekly_preds = weekly_preds.drop('gameId', axis=1)\n",
    "\n",
    "weekly_preds.to_csv('data/2324_preds_simple.csv')"
   ]
  },
  {
   "cell_type": "code",
   "execution_count": 60,
   "id": "8d794c1c-f421-4558-8af8-f9eaa13c55e3",
   "metadata": {
    "tags": []
   },
   "outputs": [],
   "source": []
  },
  {
   "cell_type": "code",
   "execution_count": 74,
   "id": "6d1b3953-3cf4-4cff-a531-74c5b66d928d",
   "metadata": {
    "tags": []
   },
   "outputs": [],
   "source": []
  },
  {
   "cell_type": "code",
   "execution_count": 75,
   "id": "acaad809-bc3f-4db5-a0ad-2660fb47d32e",
   "metadata": {
    "tags": []
   },
   "outputs": [],
   "source": [
    "preds = {}\n",
    "goalie_preds = {}\n",
    "\n",
    "for col in PRED_COLS['skater']:    \n",
    "    preds[col] = pipelines['skater'][col].predict(skater_latest.dropna()[skaters_p_feats[col][0]])\n",
    "preds_df = pd.DataFrame(preds, index=skater_latest.dropna().index)\n",
    "\n",
    "gl_p_cols = list(set([c for s in goalies_p_feats.values() for c in s[0]]))\n",
    "for col in PRED_COLS['goalie']:\n",
    "    goalie_preds[col] = pipelines['goalie'][col].predict(goalie_latest.dropna()[goalies_p_feats[col][0]])\n",
    "goalie_preds_df = pd.DataFrame(goalie_preds, index=goalie_latest.dropna().index)\n",
    "\n",
    "preds_df = pd.concat([preds_df, goalie_preds_df], axis=0)\n",
    "weekly_preds.to_csv('data/latest_preds.csv')"
   ]
  },
  {
   "cell_type": "code",
   "execution_count": null,
   "id": "b430aee7-152c-4b5a-8a4d-aea386b21ecf",
   "metadata": {},
   "outputs": [],
   "source": []
  }
 ],
 "metadata": {
  "environment": {
   "kernel": "yahoo",
   "name": "workbench-notebooks.m123",
   "type": "gcloud",
   "uri": "us-docker.pkg.dev/deeplearning-platform-release/gcr.io/workbench-notebooks:m123"
  },
  "kernelspec": {
   "display_name": "yahoo",
   "language": "python",
   "name": "yahoo"
  },
  "language_info": {
   "codemirror_mode": {
    "name": "ipython",
    "version": 3
   },
   "file_extension": ".py",
   "mimetype": "text/x-python",
   "name": "python",
   "nbconvert_exporter": "python",
   "pygments_lexer": "ipython3",
   "version": "3.12.2"
  }
 },
 "nbformat": 4,
 "nbformat_minor": 5
}
