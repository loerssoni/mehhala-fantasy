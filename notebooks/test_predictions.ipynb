{
 "cells": [
  {
   "cell_type": "code",
   "execution_count": 1,
   "id": "d415888e-5409-4fe3-a44e-8e63879c6c01",
   "metadata": {},
   "outputs": [],
   "source": [
    "%load_ext autoreload\n",
    "%autoreload 2\n",
    "import sys\n",
    "sys.path.append('../src')"
   ]
  },
  {
   "cell_type": "code",
   "execution_count": null,
   "id": "f8280d83-2286-41bf-8bf9-c5144df287d6",
   "metadata": {
    "tags": []
   },
   "outputs": [],
   "source": [
    "import yahoo_utils\n",
    "\n",
    "game_id = 427\n",
    "players = yahoo_utils.get_players(game_id)\n",
    "current_schedule = yahoo_utils.get_games_by_week(game_id)\n",
    "teams = yahoo_utils.get_teams(game_id)\n",
    "all_matchups = yahoo_utils.get_all_matchups(game_id)"
   ]
  },
  {
   "cell_type": "code",
   "execution_count": null,
   "id": "cac55159-5a57-4aae-a265-03f203878bd6",
   "metadata": {
    "tags": []
   },
   "outputs": [],
   "source": [
    "import pandas as pd\n",
    "preds = pd.read_csv('../data/2324_preds.csv').set_index(['playerId','gameId','playerTeam','opposingTeam','gameDate','week'])\n",
    "y = pd.read_hdf('data/y.h5')\n",
    "y_g = pd.read_hdf('data/y_g.h5')\n",
    "y = pd.concat([y,y_g])\n",
    "\n",
    "\n",
    "def weekify_stats(stats, schedule):\n",
    "    full_daily_stats = []\n",
    "    gdates = pd.to_datetime(stats.index.get_level_values('gameDate'), format='%Y%m%d')\n",
    "    for week, games in schedule.items():\n",
    "        games_df = pd.DataFrame(games)\n",
    "        week_dates = pd.date_range(games_df.ts.min(), games_df.ts.max())\n",
    "        for date in week_dates:\n",
    "            daily_stats = stats[(gdates == date)].copy()\n",
    "            daily_stats['date'] = date\n",
    "            daily_stats['week'] = week\n",
    "            full_daily_stats.append(daily_stats)\n",
    "    return pd.concat(full_daily_stats)\n",
    "\n",
    "daily_preds = weekify_stats(preds, current_schedule)\n",
    "daily_preds = daily_preds.merge(players[['playerId','name', 'pos', 'player_key']], on='playerId', how='left')\n",
    "\n",
    "y = y.merge(players[['playerId','name', 'pos', 'player_key']], on='playerId', how='left')"
   ]
  },
  {
   "cell_type": "code",
   "execution_count": null,
   "id": "26583b7b-c0c3-47fd-9492-270d743fa363",
   "metadata": {
    "tags": []
   },
   "outputs": [],
   "source": [
    "from itertools import combinations, product, chain\n",
    "from ast import literal_eval\n",
    "import collections\n",
    "\n",
    "def get_valid_lineups(day_teams):\n",
    "    position_lookup = day_teams.set_index(['playerId'], drop=False).pos.apply(literal_eval).to_dict()\n",
    "    n_combs = min(13, len(position_lookup))\n",
    "    lineups = list(combinations(position_lookup.keys(), n_combs))\n",
    "\n",
    "    def check_valid_lineup(lineup, position_lookup):\n",
    "        positions_quota = {\n",
    "            'D': 4,\n",
    "            'C': 2,\n",
    "            'RW': 2,\n",
    "            'LW': 2,\n",
    "            'G': 2,\n",
    "            'WC': 1\n",
    "        }\n",
    "        positions_map = {k:[] for k in positions_quota}\n",
    "        multi_positions = []\n",
    "        for player in lineup:\n",
    "            if len(position_lookup[player]) == 1:\n",
    "                pos = position_lookup[player][0]\n",
    "                if len(positions_map[pos]) == positions_quota[pos]:\n",
    "                    if len(positions_map['WC']) == 0:\n",
    "                        positions_map['WC'] = [player]\n",
    "                    else:\n",
    "                        return False\n",
    "                else:\n",
    "                    positions_map[pos] += [player]     \n",
    "            else:\n",
    "                multi_positions.append(player)\n",
    "\n",
    "        positions_left = [p for p, v in positions_map.items() for i in range(positions_quota[p]-len(v))]\n",
    "        multi_pos_positions = [position_lookup[p] for p in multi_positions]\n",
    "        \n",
    "        good_combinations = [c for c in list(product(*multi_pos_positions)) if collections.Counter(c) == collections.Counter(positions_left) or len(c) < 13]\n",
    "        if len(good_combinations) == 0:\n",
    "            return False\n",
    "        return True\n",
    "    \n",
    "    # lineup_exp = []\n",
    "    # for i, l in enumerate(lineups):\n",
    "    #     if check_valid_lineup(l, position_lookup):\n",
    "    #         lineup_df = day_teams.set_index('playerId').loc[list(l)].copy()\n",
    "    #         lineup_df['lineup_id'] = i\n",
    "    #         lineup_exp.append(lineup_df)\n",
    "    return [l for l in lineups if check_valid_lineup(l, position_lookup)]\n",
    "\n",
    "def get_expected_points(lineup, opp_lineup):\n",
    "    from scipy import stats\n",
    "    from process_data import PRED_COLS\n",
    "    metrics = [m for metrics in PRED_COLS.values() for m in metrics]\n",
    "    exp = lineup[metrics].sum()\n",
    "    opp_exp = opp_lineup[metrics].sum()\n",
    "    vals = {}\n",
    "    for col in ['g','a','sog','fow','hit','block','pim','ppp', 'win', 'save', 'so']:\n",
    "        vals[col] = stats.skellam.cdf(-1, opp_exp[col], exp[col]) + 0.5 * stats.skellam.pmf(0, opp_exp[col], exp[col])\n",
    "    \n",
    "    vals['plusmin'] = stats.skellam.cdf(-1, opp_exp['goalsfor']+exp['goalsaga'], opp_exp['goalsaga']+exp['goalsfor']) \\\n",
    "                    + 0.5 * stats.skellam.pmf(0, opp_exp['goalsfor']+exp['goalsaga'], opp_exp['goalsaga']+exp['goalsfor'])\n",
    "    \n",
    "    vals['gaa'] = stats.skellam.cdf(-1, exp['ga']/exp['icetime'], opp_exp['ga']/opp_exp['icetime'])\\\n",
    "                + 0.5 * stats.skellam.pmf(0, exp['ga']/exp['icetime'], opp_exp['ga']/opp_exp['icetime'])     \n",
    "    return vals"
   ]
  },
  {
   "cell_type": "code",
   "execution_count": null,
   "id": "ffa46aeb-7579-4755-860a-5a96b23566da",
   "metadata": {
    "tags": []
   },
   "outputs": [],
   "source": [
    "current_team_id = '427.l.21834.t.3'\n",
    "team_matchups = [m for m in all_matchups if current_team_id in [t.team_key for t in m.teams]]\n",
    "m = team_matchups[0]\n",
    "\n",
    "print('WEEK', m.week)\n",
    "\n",
    "\n",
    "opponent_id = [t.team_key for t in m.teams if t != current_team_id][0]\n",
    "dates = pd.date_range(m.week_start, m.week_end)\n",
    "daily_lineups = []\n",
    "opp_daily_lineups = []\n",
    "\n",
    "for date in dates:\n",
    "    day_teams = teams.loc[pd.to_datetime(teams.index) == date]\n",
    "    day_teams = teams.merge(daily_preds.reset_index(), on=['player_key', 'date'])\n",
    "    daily_lineups.append(get_valid_lineups(day_teams[day_teams.team_id == current_team_id]))\n",
    "    opp_daily_lineups.append(get_valid_lineups(day_teams[day_teams.team_id == opponent_id]))\n",
    "    \n",
    "all_lineups = product(product(*opp_daily_lineups), product(*opp_daily_lineups))\n",
    "# for own_week_lineup, opp_week_lineup in all_lineups:\n",
    "#     own_filter = None\n",
    "#     opp_filter = None\n",
    "#     for date, day_lineup in zip(dates, own_week_lineup):\n",
    "#         day_filter = ((daily_preds.date == date)&(daily_preds.playerId.isin(day_lineup)))\n",
    "#         if own_filter is None:\n",
    "#             own_filter = day_filter\n",
    "#         own_filter = own_filter | day_filter \n",
    "#     for date, day_lineup in zip(dates, opp_week_lineup):\n",
    "#         day_filter = ((daily_preds.date == date)&(daily_preds.playerId.isin(day_lineup)))\n",
    "#         if opp_filter is None:\n",
    "#             opp_filter = day_filter\n",
    "#         opp_filter = opp_filter | day_filter \n",
    "    \n",
    "        \n",
    "    # added_val = get_expected_points(lineup, opp_lineup)\n",
    "# added_val\n"
   ]
  },
  {
   "cell_type": "code",
   "execution_count": 16,
   "id": "8de4ab2b-02bc-4a67-a534-fd8ae9100b78",
   "metadata": {
    "tags": []
   },
   "outputs": [
    {
     "data": {
      "text/plain": [
       "[(8478402,\n",
       "  8479420,\n",
       "  8475166,\n",
       "  8478009,\n",
       "  8474578,\n",
       "  8476999,\n",
       "  8477504,\n",
       "  8481557,\n",
       "  8475913,\n",
       "  8477409,\n",
       "  8480865,\n",
       "  8477942)]"
      ]
     },
     "execution_count": 16,
     "metadata": {},
     "output_type": "execute_result"
    }
   ],
   "source": [
    "get_valid_lineups(day_teams.iloc[:12])"
   ]
  },
  {
   "cell_type": "code",
   "execution_count": 891,
   "id": "45523beb-2de2-4195-a523-e5d8943ad7da",
   "metadata": {
    "tags": []
   },
   "outputs": [
    {
     "data": {
      "text/plain": [
       "['C', 'RW', 'LW']"
      ]
     },
     "execution_count": 891,
     "metadata": {},
     "output_type": "execute_result"
    }
   ],
   "source": []
  },
  {
   "cell_type": "code",
   "execution_count": 898,
   "id": "99327978-a4d1-46ce-859f-6cc36082749c",
   "metadata": {
    "tags": []
   },
   "outputs": [
    {
     "data": {
      "text/plain": [
       "[('C', 'RW', 'LW'), ('LW', 'RW', 'C')]"
      ]
     },
     "execution_count": 898,
     "metadata": {},
     "output_type": "execute_result"
    }
   ],
   "source": []
  }
 ],
 "metadata": {
  "environment": {
   "kernel": "yahoo",
   "name": "workbench-notebooks.m123",
   "type": "gcloud",
   "uri": "us-docker.pkg.dev/deeplearning-platform-release/gcr.io/workbench-notebooks:m123"
  },
  "kernelspec": {
   "display_name": "yahoo",
   "language": "python",
   "name": "yahoo"
  },
  "language_info": {
   "codemirror_mode": {
    "name": "ipython",
    "version": 3
   },
   "file_extension": ".py",
   "mimetype": "text/x-python",
   "name": "python",
   "nbconvert_exporter": "python",
   "pygments_lexer": "ipython3",
   "version": "3.12.2"
  }
 },
 "nbformat": 4,
 "nbformat_minor": 5
}
