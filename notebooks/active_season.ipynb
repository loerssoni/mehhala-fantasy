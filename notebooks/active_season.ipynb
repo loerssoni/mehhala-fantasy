{
 "cells": [
  {
   "cell_type": "code",
   "execution_count": 1,
   "id": "c36900d7-782f-47eb-9524-a6baffe92482",
   "metadata": {
    "tags": []
   },
   "outputs": [],
   "source": [
    "%load_ext autoreload\n",
    "%autoreload 2\n",
    "import sys\n",
    "sys.path.append('../src')"
   ]
  },
  {
   "cell_type": "markdown",
   "id": "c37d6d17-9616-4f22-9924-50cf53394fac",
   "metadata": {},
   "source": [
    "## Update data"
   ]
  },
  {
   "cell_type": "code",
   "execution_count": 2,
   "id": "c65177a1-7c1d-4e4f-85b6-b5a44909a844",
   "metadata": {
    "tags": []
   },
   "outputs": [
    {
     "name": "stdout",
     "output_type": "stream",
     "text": [
      "https://moneypuck.com/moneypuck/playerData/teamPlayerGameByGame/2024/regular/skaters/\n"
     ]
    },
    {
     "name": "stderr",
     "output_type": "stream",
     "text": [
      "/home/jupyter/mehhala-fantasy/notebooks/../src/get_data.py:17: GuessedAtParserWarning: No parser was explicitly specified, so I'm using the best available HTML parser for this system (\"html.parser\"). This usually isn't a problem, but if you run this code on another system, or in a different virtual environment, it may use a different parser and behave differently.\n",
      "\n",
      "The code that caused this warning is on line 17 of the file /home/jupyter/mehhala-fantasy/notebooks/../src/get_data.py. To get rid of this warning, pass the additional argument 'features=\"html.parser\"' to the BeautifulSoup constructor.\n",
      "\n",
      "  soup = BeautifulSoup(r.text)\n"
     ]
    },
    {
     "name": "stdout",
     "output_type": "stream",
     "text": [
      "urls: ['https://moneypuck.com/moneypuck/playerData/teamPlayerGameByGame/2024/regular/skaters/ANA.csv', 'https://moneypuck.com/moneypuck/playerData/teamPlayerGameByGame/2024/regular/skaters/BOS.csv', 'https://moneypuck.com/moneypuck/playerData/teamPlayerGameByGame/2024/regular/skaters/BUF.csv', 'https://moneypuck.com/moneypuck/playerData/teamPlayerGameByGame/2024/regular/skaters/CAR.csv', 'https://moneypuck.com/moneypuck/playerData/teamPlayerGameByGame/2024/regular/skaters/CBJ.csv', 'https://moneypuck.com/moneypuck/playerData/teamPlayerGameByGame/2024/regular/skaters/CGY.csv', 'https://moneypuck.com/moneypuck/playerData/teamPlayerGameByGame/2024/regular/skaters/CHI.csv', 'https://moneypuck.com/moneypuck/playerData/teamPlayerGameByGame/2024/regular/skaters/COL.csv', 'https://moneypuck.com/moneypuck/playerData/teamPlayerGameByGame/2024/regular/skaters/DAL.csv', 'https://moneypuck.com/moneypuck/playerData/teamPlayerGameByGame/2024/regular/skaters/DET.csv', 'https://moneypuck.com/moneypuck/playerData/teamPlayerGameByGame/2024/regular/skaters/EDM.csv', 'https://moneypuck.com/moneypuck/playerData/teamPlayerGameByGame/2024/regular/skaters/FLA.csv', 'https://moneypuck.com/moneypuck/playerData/teamPlayerGameByGame/2024/regular/skaters/LAK.csv', 'https://moneypuck.com/moneypuck/playerData/teamPlayerGameByGame/2024/regular/skaters/MIN.csv', 'https://moneypuck.com/moneypuck/playerData/teamPlayerGameByGame/2024/regular/skaters/MTL.csv', 'https://moneypuck.com/moneypuck/playerData/teamPlayerGameByGame/2024/regular/skaters/NJD.csv', 'https://moneypuck.com/moneypuck/playerData/teamPlayerGameByGame/2024/regular/skaters/NSH.csv', 'https://moneypuck.com/moneypuck/playerData/teamPlayerGameByGame/2024/regular/skaters/NYI.csv', 'https://moneypuck.com/moneypuck/playerData/teamPlayerGameByGame/2024/regular/skaters/NYR.csv', 'https://moneypuck.com/moneypuck/playerData/teamPlayerGameByGame/2024/regular/skaters/OTT.csv', 'https://moneypuck.com/moneypuck/playerData/teamPlayerGameByGame/2024/regular/skaters/PHI.csv', 'https://moneypuck.com/moneypuck/playerData/teamPlayerGameByGame/2024/regular/skaters/PIT.csv', 'https://moneypuck.com/moneypuck/playerData/teamPlayerGameByGame/2024/regular/skaters/SEA.csv', 'https://moneypuck.com/moneypuck/playerData/teamPlayerGameByGame/2024/regular/skaters/SJS.csv', 'https://moneypuck.com/moneypuck/playerData/teamPlayerGameByGame/2024/regular/skaters/STL.csv', 'https://moneypuck.com/moneypuck/playerData/teamPlayerGameByGame/2024/regular/skaters/TBL.csv', 'https://moneypuck.com/moneypuck/playerData/teamPlayerGameByGame/2024/regular/skaters/TOR.csv', 'https://moneypuck.com/moneypuck/playerData/teamPlayerGameByGame/2024/regular/skaters/UTA.csv', 'https://moneypuck.com/moneypuck/playerData/teamPlayerGameByGame/2024/regular/skaters/VAN.csv', 'https://moneypuck.com/moneypuck/playerData/teamPlayerGameByGame/2024/regular/skaters/VGK.csv', 'https://moneypuck.com/moneypuck/playerData/teamPlayerGameByGame/2024/regular/skaters/WPG.csv', 'https://moneypuck.com/moneypuck/playerData/teamPlayerGameByGame/2024/regular/skaters/WSH.csv']\n",
      "200\n",
      "9 / 32\n",
      "200\n",
      "19 / 32\n",
      "200\n",
      "29 / 32\n",
      "received: 32 csvs of 32\n"
     ]
    },
    {
     "name": "stderr",
     "output_type": "stream",
     "text": [
      "/home/jupyter/mehhala-fantasy/notebooks/../src/get_data.py:40: FutureWarning: Starting with pandas version 3.0 all arguments of to_hdf except for the argument 'path_or_buf' will be keyword-only.\n",
      "  df.to_hdf(filename, 'data', index=False, mode='w')\n"
     ]
    },
    {
     "name": "stdout",
     "output_type": "stream",
     "text": [
      "https://moneypuck.com/moneypuck/playerData/teamPlayerGameByGame/2024/regular/goalies/\n"
     ]
    },
    {
     "name": "stderr",
     "output_type": "stream",
     "text": [
      "/home/jupyter/mehhala-fantasy/notebooks/../src/get_data.py:17: GuessedAtParserWarning: No parser was explicitly specified, so I'm using the best available HTML parser for this system (\"html.parser\"). This usually isn't a problem, but if you run this code on another system, or in a different virtual environment, it may use a different parser and behave differently.\n",
      "\n",
      "The code that caused this warning is on line 17 of the file /home/jupyter/mehhala-fantasy/notebooks/../src/get_data.py. To get rid of this warning, pass the additional argument 'features=\"html.parser\"' to the BeautifulSoup constructor.\n",
      "\n",
      "  soup = BeautifulSoup(r.text)\n"
     ]
    },
    {
     "name": "stdout",
     "output_type": "stream",
     "text": [
      "urls: ['https://moneypuck.com/moneypuck/playerData/teamPlayerGameByGame/2024/regular/goalies/ANA.csv', 'https://moneypuck.com/moneypuck/playerData/teamPlayerGameByGame/2024/regular/goalies/BOS.csv', 'https://moneypuck.com/moneypuck/playerData/teamPlayerGameByGame/2024/regular/goalies/BUF.csv', 'https://moneypuck.com/moneypuck/playerData/teamPlayerGameByGame/2024/regular/goalies/CAR.csv', 'https://moneypuck.com/moneypuck/playerData/teamPlayerGameByGame/2024/regular/goalies/CBJ.csv', 'https://moneypuck.com/moneypuck/playerData/teamPlayerGameByGame/2024/regular/goalies/CGY.csv', 'https://moneypuck.com/moneypuck/playerData/teamPlayerGameByGame/2024/regular/goalies/CHI.csv', 'https://moneypuck.com/moneypuck/playerData/teamPlayerGameByGame/2024/regular/goalies/COL.csv', 'https://moneypuck.com/moneypuck/playerData/teamPlayerGameByGame/2024/regular/goalies/DAL.csv', 'https://moneypuck.com/moneypuck/playerData/teamPlayerGameByGame/2024/regular/goalies/DET.csv', 'https://moneypuck.com/moneypuck/playerData/teamPlayerGameByGame/2024/regular/goalies/EDM.csv', 'https://moneypuck.com/moneypuck/playerData/teamPlayerGameByGame/2024/regular/goalies/FLA.csv', 'https://moneypuck.com/moneypuck/playerData/teamPlayerGameByGame/2024/regular/goalies/LAK.csv', 'https://moneypuck.com/moneypuck/playerData/teamPlayerGameByGame/2024/regular/goalies/MIN.csv', 'https://moneypuck.com/moneypuck/playerData/teamPlayerGameByGame/2024/regular/goalies/MTL.csv', 'https://moneypuck.com/moneypuck/playerData/teamPlayerGameByGame/2024/regular/goalies/NJD.csv', 'https://moneypuck.com/moneypuck/playerData/teamPlayerGameByGame/2024/regular/goalies/NSH.csv', 'https://moneypuck.com/moneypuck/playerData/teamPlayerGameByGame/2024/regular/goalies/NYI.csv', 'https://moneypuck.com/moneypuck/playerData/teamPlayerGameByGame/2024/regular/goalies/NYR.csv', 'https://moneypuck.com/moneypuck/playerData/teamPlayerGameByGame/2024/regular/goalies/OTT.csv', 'https://moneypuck.com/moneypuck/playerData/teamPlayerGameByGame/2024/regular/goalies/PHI.csv', 'https://moneypuck.com/moneypuck/playerData/teamPlayerGameByGame/2024/regular/goalies/PIT.csv', 'https://moneypuck.com/moneypuck/playerData/teamPlayerGameByGame/2024/regular/goalies/SEA.csv', 'https://moneypuck.com/moneypuck/playerData/teamPlayerGameByGame/2024/regular/goalies/SJS.csv', 'https://moneypuck.com/moneypuck/playerData/teamPlayerGameByGame/2024/regular/goalies/STL.csv', 'https://moneypuck.com/moneypuck/playerData/teamPlayerGameByGame/2024/regular/goalies/TBL.csv', 'https://moneypuck.com/moneypuck/playerData/teamPlayerGameByGame/2024/regular/goalies/TOR.csv', 'https://moneypuck.com/moneypuck/playerData/teamPlayerGameByGame/2024/regular/goalies/UTA.csv', 'https://moneypuck.com/moneypuck/playerData/teamPlayerGameByGame/2024/regular/goalies/VAN.csv', 'https://moneypuck.com/moneypuck/playerData/teamPlayerGameByGame/2024/regular/goalies/VGK.csv', 'https://moneypuck.com/moneypuck/playerData/teamPlayerGameByGame/2024/regular/goalies/WPG.csv', 'https://moneypuck.com/moneypuck/playerData/teamPlayerGameByGame/2024/regular/goalies/WSH.csv']\n",
      "200\n",
      "9 / 32\n",
      "200\n",
      "19 / 32\n",
      "200\n",
      "29 / 32\n",
      "received: 32 csvs of 32\n"
     ]
    },
    {
     "name": "stderr",
     "output_type": "stream",
     "text": [
      "/home/jupyter/mehhala-fantasy/notebooks/../src/get_data.py:40: FutureWarning: Starting with pandas version 3.0 all arguments of to_hdf except for the argument 'path_or_buf' will be keyword-only.\n",
      "  df.to_hdf(filename, 'data', index=False, mode='w')\n"
     ]
    },
    {
     "name": "stdout",
     "output_type": "stream",
     "text": [
      "Loaded bios, writing to file.\n"
     ]
    },
    {
     "name": "stderr",
     "output_type": "stream",
     "text": [
      "/home/jupyter/mehhala-fantasy/notebooks/../src/get_data.py:157: PerformanceWarning: \n",
      "your performance may suffer as PyTables will pickle object types that it cannot\n",
      "map directly to c-types [inferred_type->mixed,key->block2_values] [items->Index(['name', 'position', 'team', 'birthDate', 'height', 'nationality',\n",
      "       'shootsCatches', 'primaryPosition'],\n",
      "      dtype='object')]\n",
      "\n",
      "  df.to_hdf('data/bios.h5', key='data', index=False, mode='w')\n"
     ]
    },
    {
     "name": "stdout",
     "output_type": "stream",
     "text": [
      "Processed y, writing to file\n",
      "Processed y, writing to file\n"
     ]
    }
   ],
   "source": [
    "from get_data import load_history, load_current, combine_history, process_y, load_bios, load_team_data\n",
    "\n",
    "# load_history()\n",
    "\n",
    "load_current()\n",
    "combine_history()\n",
    "load_team_data()\n",
    "load_bios()\n",
    "process_y()\n",
    "\n",
    "import pandas as pd\n",
    "from process_data import get_rest_of_season_player_stats, get_rest_of_season_stats, PRED_COLS\n",
    "from model_training import get_simple_pipelines, load_player_feature_map\n",
    "\n",
    "\n",
    "X, y = get_rest_of_season_player_stats('skater')\n",
    "skater_latest = X.groupby('playerId').last()\n",
    "\n",
    "\n",
    "preds = {}\n",
    "skaters_p_feats = load_player_feature_map('skater', data=(X,y))\n",
    "sk_p_cols = list(set([c for s in skaters_p_feats.values() for c in s[0]]))\n",
    "\n",
    "\n",
    "X_g, y_g = get_rest_of_season_player_stats('goalie')\n",
    "goalie_latest = X_g.groupby('playerId').last()\n",
    "\n",
    "goalie_preds = {}\n",
    "goalies_p_feats = load_player_feature_map('goalie', (X_g, y_g))\n",
    "\n",
    "pipelines = get_simple_pipelines((X, y), (X_g, y_g))\n",
    "\n",
    "preds = {}\n",
    "goalie_preds = {}\n",
    "\n",
    "for col in PRED_COLS['skater']:    \n",
    "    preds[col] = pipelines['skater'][col].predict(skater_latest.dropna()[skaters_p_feats[col][0]])\n",
    "preds_df = pd.DataFrame(preds, index=skater_latest.dropna().index)\n",
    "\n",
    "gl_p_cols = list(set([c for s in goalies_p_feats.values() for c in s[0]]))\n",
    "for col in PRED_COLS['goalie']:\n",
    "    goalie_preds[col] = pipelines['goalie'][col].predict(goalie_latest.dropna()[goalies_p_feats[col][0]])\n",
    "goalie_preds_df = pd.DataFrame(goalie_preds, index=goalie_latest.dropna().index)\n",
    "\n",
    "preds = pd.concat([preds_df, goalie_preds_df], axis=0)\n",
    "preds['plusmin'] = preds['goalsfor'] - preds['goalsaga']\n",
    "preds['ga'] = -preds['ga'] / preds['icetime']\n",
    "\n",
    "\n",
    "import yahoo_utils\n",
    "import lineup_utils\n",
    "from process_data import PRED_COLS\n",
    "\n",
    "from ast import literal_eval\n",
    "import pandas as pd\n",
    "\n",
    "game_id = 453\n",
    "players = yahoo_utils.get_players(game_id)\n",
    "players = players[~players.playerId.duplicated()]\n",
    "player_info = players.set_index('playerId')[['name','pos','team']]\n",
    "players['team_yh'] = players.team_yh.replace({\n",
    "    'SJ':'SJS',\n",
    "    'LA':'LAK',\n",
    "    'TB':'TBL',\n",
    "    'NJ':'NJD'\n",
    "})\n",
    "current_schedule = yahoo_utils.get_games_by_week(game_id)\n",
    "teams = yahoo_utils.get_teams(game_id, True)\n",
    "\n",
    "q = yahoo_utils.get_q(game_id)\n",
    "info = []\n",
    "for team in teams.team_id.drop_duplicates():\n",
    "    info.append(q.get_team_info(team.split('.')[-1]))"
   ]
  },
  {
   "cell_type": "code",
   "execution_count": 3,
   "id": "f679fdde-02e8-4db5-ac71-ffdc1027b8f4",
   "metadata": {
    "tags": []
   },
   "outputs": [],
   "source": [
    "current_team = [t for t in info if t.name.decode('utf8')=='Kiitos ryhmään pääsystä'][0]\n",
    "position_lookup = players.set_index(['playerId'], drop=False).pos.apply(literal_eval).to_dict()\n",
    "metrics = [m for metrics in PRED_COLS.values() for m in metrics]\n",
    "\n",
    "games_list = []\n",
    "for k, v in current_schedule.items():\n",
    "    for r in v:\n",
    "        a = {'week':k}\n",
    "        a.update(r)\n",
    "        games_list.append(a)\n",
    "games_df = pd.DataFrame(games_list)\n",
    "games_df['ts'] = pd.to_datetime(games_df['ts'])\n",
    "player_games = pd.concat([\n",
    "    games_df.merge(players, how='left', left_on='home', right_on='team_yh'),\n",
    "    games_df.merge(players, how='left', left_on='away', right_on='team_yh')\n",
    "])[['week','gameId','ts','pos','name','playerId']]\n",
    "player_games = player_games.dropna()\n",
    "\n",
    "\n",
    "\n",
    "date_now = pd.Timestamp.now(tz='America/Los_Angeles').date()\n",
    "cats = ['g','a','sog','fow','hit','block','pim','plusmin','ppp', 'ga','win','so','save']\n",
    "m = [m for m in current_team.matchups if pd.to_datetime(m.week_end).date() > date_now + pd.Timedelta('1d')][0]\n",
    "\n",
    "opponent_id = [t.team_key for t in m.teams if t.team_key != current_team.team_key][0]\n",
    "dates = pd.date_range(max(pd.to_datetime(m.week_start).date(), date_now), m.week_end)\n",
    "date = dates[0]\n",
    "week_teams = teams.loc[(pd.to_datetime(teams.index) >= m.week_start)&(pd.to_datetime(teams.index) <= m.week_end)]\n",
    "\n",
    "ir = [p.player_key for t in info for p in t.roster.players if p.selected_position.date == date_now.strftime('%Y-%m-%d') and 'IR' in p.selected_position.position]\n",
    "ir = []\n",
    "current_lineup = teams[(teams.team_id == current_team.team_key)&(teams.index.get_level_values('date') == (date_now + pd.Timedelta('1d')).strftime('%Y-%m-%d'))]\n",
    "current_lineup = current_lineup.merge(players, how='left', on='player_key').playerId.tolist()\n",
    "\n",
    "opp_lineup = teams[(teams.team_id == opponent_id)&(teams.index.get_level_values('date') == (date_now + pd.Timedelta('1d')).strftime('%Y-%m-%d'))]\n",
    "opp_lineup = opp_lineup.merge(players, how='left', on='player_key').playerId.tolist()"
   ]
  },
  {
   "cell_type": "code",
   "execution_count": 5,
   "id": "8bf0c132-0a7d-4faa-a869-2970945ffed3",
   "metadata": {
    "tags": []
   },
   "outputs": [],
   "source": [
    "starting_teams = teams.loc[(pd.to_datetime(teams.index) == (date + pd.Timedelta('1d')))]\n",
    "preds_st = ((preds - preds.mean())/(preds.std()))\n",
    "all_current_players = players[players.player_key.isin(starting_teams.player_key)].playerId.tolist()\n",
    "all_current_preds = [p for p in all_current_players if p in preds_st.index]\n",
    "baseline_expected = preds_st.loc[all_current_preds, cats].copy()\n",
    "baseline_expected = baseline_expected.mean()\n",
    "\n",
    "opp_expected = preds_st.loc[opp_lineup, cats].copy()\n",
    "opp_expected = opp_expected.mean()"
   ]
  },
  {
   "cell_type": "code",
   "execution_count": 8,
   "id": "9a54e379-4715-4861-8575-1104f32703bc",
   "metadata": {
    "tags": []
   },
   "outputs": [],
   "source": [
    "from scipy import stats\n",
    "def prob_A_greater_than_B(mu_A, mu_B):\n",
    "    # Calculate the mean and standard deviation of the difference distribution\n",
    "    mean_diff = mu_A - mu_B\n",
    "    prob = 1 - stats.norm.cdf(0, loc=mean_diff, scale=1)\n",
    "    \n",
    "    return prob"
   ]
  },
  {
   "cell_type": "markdown",
   "id": "9efd2e08-f2af-4cc2-a598-8117549734be",
   "metadata": {
    "tags": []
   },
   "source": [
    "## Make predictions"
   ]
  },
  {
   "cell_type": "code",
   "execution_count": 10,
   "id": "41369341-10aa-4b3b-b14a-5076ba44176b",
   "metadata": {
    "tags": []
   },
   "outputs": [
    {
     "name": "stdout",
     "output_type": "stream",
     "text": [
      "                          name           pos team\n",
      "playerId                                         \n",
      "8478420         Mikko Rantanen        ['RW']  COL\n",
      "8474564         Steven Stamkos   ['C', 'LW']  TBL\n",
      "8480012       Elias Pettersson   ['C', 'LW']  VAN\n",
      "8480018            Nick Suzuki         ['C']  MTL\n",
      "8475166           John Tavares         ['C']  TOR\n",
      "8481557             Matt Boldy  ['LW', 'RW']  MIN\n",
      "8477986        Brandon Montour         ['D']  FLA\n",
      "8476460         Mark Scheifele         ['C']  WPG\n",
      "8478407             Vince Dunn         ['D']  SEA\n",
      "8478492          Ilya Samsonov         ['G']  TOR\n",
      "8480045   Ukko-Pekka Luukkonen         ['G']  BUF\n",
      "8478366          Frank Vatrano   ['C', 'LW']  ANA\n",
      "8475798        Mikael Granlund   ['C', 'RW']  SJS\n",
      "8475660             Cam Talbot         ['G']  LAK\n",
      "8477935            Sam Bennett         ['C']  FLA\n",
      "8473994             Jamie Benn        ['LW']  DAL\n",
      "8477903        Garnet Hathaway        ['RW']  PHI\n",
      "8476931            Jake McCabe         ['D']  TOR\n",
      "DROPS\n",
      "{'name': 'Garnet Hathaway', 'pos': \"['RW']\", 'team': 'PHI', 'n_games': 4.0, 'rank': 5.006, 'games': 77.0, 'week_rank': 3.203, 'week_games': 4.0}\n",
      "ADDS\n",
      "{'name': 'Boone Jenner', 'pos': \"['C', 'LW']\", 'team': 'CBJ', 'n_games': 2.0, 'rank': 10.392, 'games': 77.0, 'week_rank': 3.976, 'week_games': 2.0}\n",
      "{'name': 'Valeri Nichushkin', 'pos': \"['LW']\", 'team': 'COL', 'n_games': 3.0, 'rank': 9.169, 'games': 76.0, 'week_rank': 4.867, 'week_games': 3.0}\n",
      "{'name': 'Charlie Lindgren', 'pos': \"['G']\", 'team': 'WSH', 'n_games': 3.0, 'rank': 8.29, 'games': 78.0, 'week_rank': 3.262, 'week_games': 3.0}\n",
      "{'name': 'Dylan Strome', 'pos': \"['C']\", 'team': 'WSH', 'n_games': 3.0, 'rank': 7.946, 'games': 78.0, 'week_rank': 3.93, 'week_games': 3.0}\n",
      "{'name': 'Mats Zuccarello', 'pos': \"['RW']\", 'team': 'MIN', 'n_games': 3.0, 'rank': 7.383, 'games': 77.0, 'week_rank': 4.18, 'week_games': 3.0}\n",
      "{'name': 'Miro Heiskanen', 'pos': \"['D']\", 'team': 'DAL', 'n_games': 3.0, 'rank': 7.209, 'games': 76.0, 'week_rank': 4.257, 'week_games': 3.0}\n",
      "{'name': 'Dakota Joshua', 'pos': \"['C', 'LW']\", 'team': 'VAN', 'n_games': 2.0, 'rank': 7.156, 'games': 77.0, 'week_rank': 3.319, 'week_games': 2.0}\n",
      "{'name': 'Pavel Zacha', 'pos': \"['C']\", 'team': 'BOS', 'n_games': 3.0, 'rank': 6.993, 'games': 76.0, 'week_rank': 3.829, 'week_games': 3.0}\n",
      "{'name': 'Nick Bjugstad', 'pos': \"['C']\", 'team': 'ARI', 'n_games': 3.0, 'rank': 6.895, 'games': 76.0, 'week_rank': 3.925, 'week_games': 3.0}\n",
      "{'name': 'Drake Batherson', 'pos': \"['LW', 'RW']\", 'team': 'OTT', 'n_games': 3.0, 'rank': 6.889, 'games': 77.0, 'week_rank': 4.101, 'week_games': 3.0}\n",
      "{'name': 'William Karlsson', 'pos': \"['C']\", 'team': 'VGK', 'n_games': 3.0, 'rank': 6.869, 'games': 76.0, 'week_rank': 3.677, 'week_games': 3.0}\n",
      "{'name': 'John Carlson', 'pos': \"['D']\", 'team': 'WSH', 'n_games': 3.0, 'rank': 6.847, 'games': 78.0, 'week_rank': 3.745, 'week_games': 3.0}\n",
      "{'name': 'Brayden Schenn', 'pos': \"['C', 'LW']\", 'team': 'STL', 'n_games': 3.0, 'rank': 6.692, 'games': 76.0, 'week_rank': 3.989, 'week_games': 3.0}\n",
      "{'name': 'Logan Couture', 'pos': \"['C']\", 'team': 'SJS', 'n_games': 3.0, 'rank': 6.656, 'games': 76.0, 'week_rank': 3.839, 'week_games': 3.0}\n",
      "{'name': 'Dylan Guenther', 'pos': \"['RW']\", 'team': 'ARI', 'n_games': 3.0, 'rank': 6.422, 'games': 76.0, 'week_rank': 3.82, 'week_games': 3.0}\n",
      "{'name': 'Jared McCann', 'pos': \"['C', 'LW']\", 'team': 'SEA', 'n_games': 3.0, 'rank': 6.358, 'games': 76.0, 'week_rank': 3.91, 'week_games': 3.0}\n",
      "{'name': 'Shane Pinto', 'pos': \"['C']\", 'team': 'OTT', 'n_games': 3.0, 'rank': 5.973, 'games': 77.0, 'week_rank': 3.549, 'week_games': 3.0}\n",
      "{'name': 'Ryan Hartman', 'pos': \"['C', 'RW']\", 'team': 'MIN', 'n_games': 3.0, 'rank': 5.897, 'games': 77.0, 'week_rank': 3.735, 'week_games': 3.0}\n",
      "{'name': 'Viktor Arvidsson', 'pos': \"['LW']\", 'team': 'LAK', 'n_games': 3.0, 'rank': 5.696, 'games': 76.0, 'week_rank': 3.638, 'week_games': 3.0}\n",
      "{'name': 'Josh Norris', 'pos': \"['C']\", 'team': 'OTT', 'n_games': 3.0, 'rank': 5.645, 'games': 77.0, 'week_rank': 3.711, 'week_games': 3.0}\n",
      "{'name': 'Mark Stone', 'pos': \"['RW']\", 'team': 'VGK', 'n_games': 3.0, 'rank': 5.622, 'games': 76.0, 'week_rank': 3.591, 'week_games': 3.0}\n",
      "{'name': 'Sean Monahan', 'pos': \"['C']\", 'team': 'WPG', 'n_games': 2.0, 'rank': 5.596, 'games': 77.0, 'week_rank': 2.85, 'week_games': 2.0}\n",
      "{'name': 'Jonathan Drouin', 'pos': \"['LW']\", 'team': 'COL', 'n_games': 3.0, 'rank': 5.502, 'games': 76.0, 'week_rank': 3.523, 'week_games': 3.0}\n",
      "{'name': 'Tomas Hertl', 'pos': \"['C']\", 'team': 'VGK', 'n_games': 3.0, 'rank': 5.501, 'games': 76.0, 'week_rank': 3.115, 'week_games': 3.0}\n",
      "{'name': 'Zach Werenski', 'pos': \"['D']\", 'team': 'CBJ', 'n_games': 2.0, 'rank': 5.5, 'games': 77.0, 'week_rank': 2.901, 'week_games': 2.0}\n",
      "{'name': 'Kirby Dach', 'pos': \"['C']\", 'team': 'MTL', 'n_games': 3.0, 'rank': 5.473, 'games': 76.0, 'week_rank': 3.581, 'week_games': 3.0}\n",
      "{'name': 'Fabian Zetterlund', 'pos': \"['LW', 'RW']\", 'team': 'SJS', 'n_games': 3.0, 'rank': 5.463, 'games': 76.0, 'week_rank': 3.829, 'week_games': 3.0}\n",
      "{'name': 'Tyler Seguin', 'pos': \"['C', 'RW']\", 'team': 'DAL', 'n_games': 3.0, 'rank': 5.454, 'games': 76.0, 'week_rank': 3.551, 'week_games': 3.0}\n",
      "{'name': 'Logan Thompson', 'pos': \"['G']\", 'team': 'VGK', 'n_games': 3.0, 'rank': 5.444, 'games': 78.0, 'week_rank': 2.673, 'week_games': 3.0}\n",
      "{'name': 'Conor Garland', 'pos': \"['RW']\", 'team': 'VAN', 'n_games': 2.0, 'rank': 5.313, 'games': 77.0, 'week_rank': 2.89, 'week_games': 2.0}\n",
      "{'name': 'Jordan Kyrou', 'pos': \"['C', 'RW']\", 'team': 'STL', 'n_games': 3.0, 'rank': 5.287, 'games': 76.0, 'week_rank': 3.565, 'week_games': 3.0}\n",
      "{'name': 'Phillip Danault', 'pos': \"['C']\", 'team': 'LAK', 'n_games': 3.0, 'rank': 5.217, 'games': 76.0, 'week_rank': 3.219, 'week_games': 3.0}\n",
      "{'name': 'Samuel Ersson', 'pos': \"['G']\", 'team': 'PHI', 'n_games': 4.0, 'rank': 5.214, 'games': 77.0, 'week_rank': 3.165, 'week_games': 4.0}\n"
     ]
    }
   ],
   "source": [
    "selected_team = []\n",
    "\n",
    "date = dates[0]\n",
    "rankings = []\n",
    "print('\\n\\n\\n', date.date())\n",
    "\n",
    "all_available_players = players[(~players.player_key.isin(starting_teams.player_key))|(players.playerId.isin(current_lineup))]\n",
    "all_available_players = all_available_players.playerId.tolist()\n",
    "\n",
    "week_games = player_games[(player_games.ts > date)&(player_games.ts <= m.week_end)]\n",
    "\n",
    "own_current = pd.Series({k:0 for k in cats})\n",
    "\n",
    "while len(selected_team) < 50:\n",
    "    print(str(len(selected_team)), end='\\r')\n",
    "\n",
    "    if len(selected_team) < 14:\n",
    "        available = [p for p in current_lineup if p not in selected_team]\n",
    "\n",
    "    else:\n",
    "        available = [p for p in all_available_players if p not in selected_team]\n",
    "\n",
    "    rest_games = lineup_utils.get_rest_of_season_games((date + pd.Timedelta('1d')), player_games, selected_team, position_lookup)\n",
    "    stats_available = rest_games[rest_games.index.isin(preds_st.index)].index\n",
    "    lineup_preds = preds_st.loc[stats_available, cats].apply(lambda x: x * rest_games[stats_available] / rest_games.mean())\n",
    "    added_vals = lineup_preds.apply(lambda x: prob_A_greater_than_B(x, baseline_expected), 1).apply(pd.Series, index=cats)\n",
    "    ranks_season = lineup_preds.sum(1)\n",
    "    ranks_season.name = 'rank'\n",
    "\n",
    "    week_rest_games = lineup_utils.get_rest_of_season_games(date, week_games, selected_team, position_lookup)\n",
    "    week_stats_available = week_rest_games[week_rest_games.index.isin(preds.index)].index\n",
    "    week_lineup_preds = preds_st.loc[stats_available, cats].apply(lambda x: x * week_rest_games[week_stats_available] / week_rest_games.mean())\n",
    "    week_added_vals = week_lineup_preds.apply(lambda x: prob_A_greater_than_B(x, opp_expected), 1).apply(pd.Series, index=cats)\n",
    "    week_ranks = week_added_vals.sum(1)\n",
    "    week_ranks.name = 'week_rank'\n",
    "\n",
    "    if len(selected_team) < 14:\n",
    "        selected_player = ranks_season.loc[[p for p in available if p in ranks_season]].idxmax()\n",
    "        selected_team.append(selected_player)\n",
    "        own_current = (own_current * len(selected_team) + added_vals.loc[selected_player] * (14-len(selected_team))) / 14\n",
    "        own_current = own_current.fillna(0)\n",
    "        \n",
    "        data_dict = {'playerId':selected_player, \n",
    "                     'rank': round(ranks_season.loc[selected_player], 3), \n",
    "                     'games':rest_games.loc[selected_player]}\n",
    "        if selected_player in week_stats_available:\n",
    "            data_dict['week_rank'] = round(week_ranks.loc[selected_player], 3)\n",
    "            data_dict['week_games'] = week_rest_games.loc[selected_player]\n",
    "        else:\n",
    "            data_dict['week_rank'] = 0\n",
    "            data_dict['week_games'] = 0\n",
    "        rankings.append(data_dict)\n",
    "\n",
    "    else:\n",
    "        rest_of_them = ranks_season[[p for p in available if p in stats_available]].sort_values(ascending=False).iloc[:(50-len(selected_team))].index.tolist()\n",
    "        for p in rest_of_them:\n",
    "            data_dict = {'playerId':p, \n",
    "                     'rank': round(ranks_season.loc[p], 3), \n",
    "                     'games':rest_games.loc[p]}\n",
    "            if p in week_stats_available:\n",
    "                data_dict['week_rank'] = round(week_ranks.loc[p], 3)\n",
    "                data_dict['week_games'] = week_rest_games.loc[p]\n",
    "            else:\n",
    "                data_dict['week_rank'] = 0\n",
    "                data_dict['week_games'] = 0\n",
    "            rankings.append(data_dict)\n",
    "\n",
    "        selected_team += rest_of_them\n",
    "\n",
    "for p in current_lineup:\n",
    "    if p not in selected_team:\n",
    "        data_dict = {'playerId':p, \n",
    "                     'rank': round(ranks_season.loc[p], 3), \n",
    "                     'games':rest_games.loc[p]}\n",
    "        if p in week_stats_available:\n",
    "            data_dict['week_rank'] = round(week_ranks.loc[p], 3)\n",
    "            data_dict['week_games'] = week_rest_games.loc[p]\n",
    "        else:\n",
    "            data_dict['week_rank'] = 0\n",
    "            data_dict['week_games'] = 0\n",
    "        rankings.append(data_dict)\n",
    "\n",
    "rankings = pd.DataFrame(rankings).set_index('playerId')\n",
    "\n",
    "n_games = week_rest_games[week_rest_games.index.isin(preds.index)]\n",
    "n_games.name = 'n_games'\n",
    "print(player_info.loc[current_lineup])\n",
    "print('DROPS')\n",
    "for p in current_lineup:\n",
    "    if p not in selected_team:\n",
    "\n",
    "        print(player_info.join(n_games).join(rankings).loc[p].to_dict())\n",
    "print('ADDS')\n",
    "for p in selected_team:\n",
    "    if p not in current_lineup:\n",
    "        print(player_info.join(n_games).join(rankings).loc[p].to_dict())"
   ]
  },
  {
   "cell_type": "code",
   "execution_count": 11,
   "id": "2fa6938c-e675-448b-9730-999a16951f62",
   "metadata": {
    "tags": []
   },
   "outputs": [],
   "source": [
    "\n",
    "total_values = preds_st[cats].apply(lambda x: prob_A_greater_than_B(x, baseline_expected), 1).apply(pd.Series, index=cats)\n",
    "output = player_info.join(rankings, how='inner').sort_values(['rank'], ascending=False).join(total_values.round(3))\n",
    "output['current_lineup'] = output.index.isin(current_lineup)\n",
    "output['selection'] = output.index.isin(selected_team)\n",
    "output = output.sort_values(['current_lineup', 'rank','week_rank'], ascending=False)\n",
    "output.to_csv('data/player_data.csv')\n",
    "output.to_csv(f'data/archive/{date_now}_player_data.csv')\n",
    "\n",
    "ranks = preds_st.copy()\n",
    "ranks = ranks[cats]\n",
    "full_n_games = player_games[player_games.ts.dt.date > date_now].groupby('playerId').gameId.count()\n",
    "full_n_games = pd.DataFrame(ranks).join(full_n_games).fillna(0).gameId\n",
    "week_n_games = player_games[(player_games.ts.dt.date > date_now)&(player_games.ts <= m.week_end)].groupby('playerId').gameId.count()\n",
    "week_n_games = pd.DataFrame(ranks).join(week_n_games).fillna(0).gameId\n",
    "\n",
    "week_ranks = ranks[cats].apply(lambda x: x * week_n_games)\n",
    "ranks = ranks[cats].apply(lambda x: x * full_n_games)\n",
    "ranks.name = 'rank'\n",
    "week_ranks.name ='week_rank'\n",
    "\n",
    "prankings = players.join(ranks, how='inner', on='playerId').join(week_ranks, on='playerId', rsuffix='_week').merge(starting_teams, how='left', on='player_key').set_index('playerId')\n",
    "\n",
    "ss = []\n",
    "for t in info:\n",
    "    a = prankings.loc[prankings.team_id == t.team_key].copy()\n",
    "    a['team'] = t.name.decode()\n",
    "    a['manager'] = t.managers[0].nickname\n",
    "    ss.append(a)\n",
    "\n",
    "ss = pd.concat(ss)\n",
    "ss = ss.groupby(['team','manager'])[cats+[c+'_week' for c in cats]].mean().round(2)\n",
    "ss['matchup'] = ss.index.get_level_values('team').isin([t.name.decode() for t in m.teams])\n",
    "ss['own'] = ss.index.get_level_values('team') == current_team.name.decode()\n",
    "ss = ss.sort_values(['own','matchup'], ascending=False)\n",
    "ss.to_csv('data/team_data.csv')\n",
    "ss.to_csv(f'data/archive/{date_now}_team_data.csv')\n"
   ]
  },
  {
   "cell_type": "code",
   "execution_count": null,
   "id": "bf5b7653-f30e-458f-8482-abb86e971c1c",
   "metadata": {},
   "outputs": [],
   "source": []
  }
 ],
 "metadata": {
  "environment": {
   "kernel": "yahoo",
   "name": "workbench-notebooks.m123",
   "type": "gcloud",
   "uri": "us-docker.pkg.dev/deeplearning-platform-release/gcr.io/workbench-notebooks:m123"
  },
  "kernelspec": {
   "display_name": "yahoo",
   "language": "python",
   "name": "yahoo"
  },
  "language_info": {
   "codemirror_mode": {
    "name": "ipython",
    "version": 3
   },
   "file_extension": ".py",
   "mimetype": "text/x-python",
   "name": "python",
   "nbconvert_exporter": "python",
   "pygments_lexer": "ipython3",
   "version": "3.12.2"
  }
 },
 "nbformat": 4,
 "nbformat_minor": 5
}
