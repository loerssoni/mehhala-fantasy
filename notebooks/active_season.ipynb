{
 "cells": [
  {
   "cell_type": "code",
   "execution_count": 1,
   "id": "37b77225-ec2f-4907-b5cf-ec27cf0ba835",
   "metadata": {
    "tags": []
   },
   "outputs": [],
   "source": [
    "%load_ext autoreload\n",
    "%autoreload 2\n",
    "import sys\n",
    "sys.path.append('../src')"
   ]
  },
  {
   "cell_type": "code",
   "execution_count": null,
   "id": "3c7efa25-703a-4e04-aea8-1f273cfd4b66",
   "metadata": {},
   "outputs": [],
   "source": []
  },
  {
   "cell_type": "markdown",
   "id": "02aafebc-9f09-4562-be66-d8eb6e1c3858",
   "metadata": {},
   "source": [
    "## Update data"
   ]
  },
  {
   "cell_type": "code",
   "execution_count": 2,
   "id": "457b92c6-8461-4352-ab66-aa1fd7526541",
   "metadata": {
    "scrolled": true,
    "tags": []
   },
   "outputs": [
    {
     "name": "stdout",
     "output_type": "stream",
     "text": [
      "https://moneypuck.com/moneypuck/playerData/teamPlayerGameByGame/2024/regular/skaters/\n"
     ]
    },
    {
     "name": "stderr",
     "output_type": "stream",
     "text": [
      "/home/jupyter/mehhala-fantasy/notebooks/../src/get_data.py:17: GuessedAtParserWarning: No parser was explicitly specified, so I'm using the best available HTML parser for this system (\"html.parser\"). This usually isn't a problem, but if you run this code on another system, or in a different virtual environment, it may use a different parser and behave differently.\n",
      "\n",
      "The code that caused this warning is on line 17 of the file /home/jupyter/mehhala-fantasy/notebooks/../src/get_data.py. To get rid of this warning, pass the additional argument 'features=\"html.parser\"' to the BeautifulSoup constructor.\n",
      "\n",
      "  soup = BeautifulSoup(r.text)\n"
     ]
    },
    {
     "name": "stdout",
     "output_type": "stream",
     "text": [
      "urls: ['https://moneypuck.com/moneypuck/playerData/teamPlayerGameByGame/2024/regular/skaters/BUF.csv', 'https://moneypuck.com/moneypuck/playerData/teamPlayerGameByGame/2024/regular/skaters/NJD.csv']\n",
      "received: 2 csvs of 2\n"
     ]
    },
    {
     "name": "stderr",
     "output_type": "stream",
     "text": [
      "/home/jupyter/mehhala-fantasy/notebooks/../src/get_data.py:40: FutureWarning: Starting with pandas version 3.0 all arguments of to_hdf except for the argument 'path_or_buf' will be keyword-only.\n",
      "  df.to_hdf(filename, 'data', index=False)\n"
     ]
    },
    {
     "name": "stdout",
     "output_type": "stream",
     "text": [
      "https://moneypuck.com/moneypuck/playerData/teamPlayerGameByGame/2024/regular/goalies/\n"
     ]
    },
    {
     "name": "stderr",
     "output_type": "stream",
     "text": [
      "/home/jupyter/mehhala-fantasy/notebooks/../src/get_data.py:17: GuessedAtParserWarning: No parser was explicitly specified, so I'm using the best available HTML parser for this system (\"html.parser\"). This usually isn't a problem, but if you run this code on another system, or in a different virtual environment, it may use a different parser and behave differently.\n",
      "\n",
      "The code that caused this warning is on line 17 of the file /home/jupyter/mehhala-fantasy/notebooks/../src/get_data.py. To get rid of this warning, pass the additional argument 'features=\"html.parser\"' to the BeautifulSoup constructor.\n",
      "\n",
      "  soup = BeautifulSoup(r.text)\n"
     ]
    },
    {
     "name": "stdout",
     "output_type": "stream",
     "text": [
      "urls: ['https://moneypuck.com/moneypuck/playerData/teamPlayerGameByGame/2024/regular/goalies/BUF.csv', 'https://moneypuck.com/moneypuck/playerData/teamPlayerGameByGame/2024/regular/goalies/NJD.csv']\n",
      "received: 2 csvs of 2\n"
     ]
    },
    {
     "name": "stderr",
     "output_type": "stream",
     "text": [
      "/home/jupyter/mehhala-fantasy/notebooks/../src/get_data.py:40: FutureWarning: Starting with pandas version 3.0 all arguments of to_hdf except for the argument 'path_or_buf' will be keyword-only.\n",
      "  df.to_hdf(filename, 'data', index=False)\n"
     ]
    },
    {
     "name": "stdout",
     "output_type": "stream",
     "text": [
      "Loaded bios, writing to file.\n"
     ]
    },
    {
     "name": "stderr",
     "output_type": "stream",
     "text": [
      "/home/jupyter/mehhala-fantasy/notebooks/../src/get_data.py:157: PerformanceWarning: \n",
      "your performance may suffer as PyTables will pickle object types that it cannot\n",
      "map directly to c-types [inferred_type->mixed,key->block2_values] [items->Index(['name', 'position', 'team', 'birthDate', 'height', 'nationality',\n",
      "       'shootsCatches', 'primaryPosition'],\n",
      "      dtype='object')]\n",
      "\n",
      "  df.to_hdf('data/bios.h5', key='data', index=False)\n"
     ]
    },
    {
     "name": "stdout",
     "output_type": "stream",
     "text": [
      "Processed y, writing to file\n",
      "Processed y, writing to file\n"
     ]
    }
   ],
   "source": [
    "from get_data import load_history, load_current, combine_history, process_y, load_bios, load_team_data\n",
    "\n",
    "# load_history()\n",
    "\n",
    "load_current()\n",
    "combine_history()\n",
    "load_team_data()\n",
    "load_bios()\n",
    "process_y()"
   ]
  },
  {
   "cell_type": "markdown",
   "id": "f7360b03-9a72-43b5-ab01-06dcd2ee4377",
   "metadata": {
    "tags": []
   },
   "source": [
    "## Make predictions"
   ]
  },
  {
   "cell_type": "code",
   "execution_count": 3,
   "id": "10283b6c-97a1-4396-8db9-8cd4039856ca",
   "metadata": {
    "tags": []
   },
   "outputs": [],
   "source": [
    "import pandas as pd\n",
    "from process_data import get_rest_of_season_player_stats, get_rest_of_season_stats, PRED_COLS\n",
    "from model_training import get_simple_pipelines, load_player_feature_map\n",
    "\n",
    "\n",
    "X, y = get_rest_of_season_player_stats('skater')\n",
    "skater_latest = X.groupby('playerId').last()\n",
    "\n",
    "\n",
    "preds = {}\n",
    "skaters_p_feats = load_player_feature_map('skater', data=(X,y))\n",
    "sk_p_cols = list(set([c for s in skaters_p_feats.values() for c in s[0]]))\n",
    "\n",
    "\n",
    "X_g, y_g = get_rest_of_season_player_stats('goalie')\n",
    "goalie_latest = X_g.groupby('playerId').last()\n",
    "\n",
    "goalie_preds = {}\n",
    "goalies_p_feats = load_player_feature_map('goalie', (X_g, y_g))\n",
    "\n",
    "pipelines = get_simple_pipelines((X, y), (X_g, y_g))\n",
    "\n",
    "preds = {}\n",
    "goalie_preds = {}\n",
    "\n",
    "for col in PRED_COLS['skater']:    \n",
    "    preds[col] = pipelines['skater'][col].predict(skater_latest.dropna()[skaters_p_feats[col][0]])\n",
    "preds_df = pd.DataFrame(preds, index=skater_latest.dropna().index)\n",
    "\n",
    "gl_p_cols = list(set([c for s in goalies_p_feats.values() for c in s[0]]))\n",
    "for col in PRED_COLS['goalie']:\n",
    "    goalie_preds[col] = pipelines['goalie'][col].predict(goalie_latest.dropna()[goalies_p_feats[col][0]])\n",
    "goalie_preds_df = pd.DataFrame(goalie_preds, index=goalie_latest.dropna().index)\n",
    "\n",
    "preds_df = pd.concat([preds_df, goalie_preds_df], axis=0)\n",
    "preds_df.to_csv('data/latest_preds.csv')"
   ]
  },
  {
   "cell_type": "code",
   "execution_count": 4,
   "id": "664e2ff0-aecf-4529-ad1e-afe38fee54a0",
   "metadata": {
    "tags": []
   },
   "outputs": [],
   "source": [
    "def load_preds():\n",
    "    preds = pd.read_csv('data/latest_preds.csv')\n",
    "    date_now = pd.to_datetime('now').date()\n",
    "    preds['plusmin'] = preds['goalsfor'] - preds['goalsaga']\n",
    "    preds['ga'] = -preds['ga'] / preds['icetime']\n",
    "    return preds.set_index('playerId')"
   ]
  },
  {
   "cell_type": "markdown",
   "id": "96379be9-f55e-4297-a720-88e96c513feb",
   "metadata": {},
   "source": [
    "## Load yahoo data"
   ]
  },
  {
   "cell_type": "code",
   "execution_count": 5,
   "id": "f6a21d39-bbf8-4c8c-86a1-a29cea463406",
   "metadata": {
    "scrolled": true,
    "tags": []
   },
   "outputs": [],
   "source": [
    "import yahoo_utils\n",
    "import lineup_utils\n",
    "from process_data import PRED_COLS\n",
    "\n",
    "from ast import literal_eval\n",
    "import pandas as pd\n",
    "\n",
    "game_id = 453\n",
    "players = yahoo_utils.get_players(game_id)\n",
    "players = players[~players.playerId.duplicated()]\n",
    "player_info = players.set_index('playerId')[['name','pos','team']]\n",
    "players['team_yh'] = players.team_yh.replace({\n",
    "    'SJ':'SJS',\n",
    "    'LA':'LAK',\n",
    "    'TB':'TBL',\n",
    "    'NJ':'NJD'\n",
    "})\n",
    "current_schedule = yahoo_utils.get_games_by_week(game_id)\n",
    "teams = yahoo_utils.get_teams(game_id, True)\n",
    "\n",
    "q = yahoo_utils.get_q(game_id)\n",
    "info = []\n",
    "for team in teams.team_id.drop_duplicates():\n",
    "    info.append(q.get_team_info(team.split('.')[-1]))\n",
    "    \n",
    "\n",
    "current_team = [t for t in info if t.name.decode('utf8')=='Kiitos ryhmään pääsystä'][0]\n",
    "position_lookup = players.set_index(['playerId'], drop=False).pos.apply(literal_eval).to_dict()\n",
    "metrics = [m for metrics in PRED_COLS.values() for m in metrics]\n",
    "\n",
    "\n",
    "\n",
    "preds = load_preds()\n",
    "\n",
    "games_list = []\n",
    "for k, v in current_schedule.items():\n",
    "    for r in v:\n",
    "        a = {'week':k}\n",
    "        a.update(r)\n",
    "        games_list.append(a)\n",
    "games_df = pd.DataFrame(games_list)\n",
    "games_df['ts'] = pd.to_datetime(games_df['ts'])\n",
    "player_games = pd.concat([\n",
    "    games_df.merge(players, how='left', left_on='home', right_on='team_yh'),\n",
    "    games_df.merge(players, how='left', left_on='away', right_on='team_yh')\n",
    "])[['week','gameId','ts','pos','name','playerId']]\n",
    "player_games = player_games.dropna()"
   ]
  },
  {
   "cell_type": "markdown",
   "id": "72199479-be2b-4517-8ace-b9c93cf8f00e",
   "metadata": {
    "tags": []
   },
   "source": [
    "## Run selection loop"
   ]
  },
  {
   "cell_type": "code",
   "execution_count": 10,
   "id": "7b31f21a-2004-40e6-baca-107ff91f86c3",
   "metadata": {
    "tags": []
   },
   "outputs": [
    {
     "name": "stdout",
     "output_type": "stream",
     "text": [
      "1\n",
      "\n",
      "\n",
      "\n",
      " 2024-10-06\n",
      "                          name           pos team\n",
      "playerId                                         \n",
      "8478420         Mikko Rantanen        ['RW']  COL\n",
      "8474564         Steven Stamkos   ['C', 'LW']  TBL\n",
      "8480012       Elias Pettersson   ['C', 'LW']  VAN\n",
      "8480018            Nick Suzuki         ['C']  MTL\n",
      "8482116            Tim Stutzle   ['C', 'LW']  OTT\n",
      "8475166           John Tavares         ['C']  TOR\n",
      "8481557             Matt Boldy  ['LW', 'RW']  MIN\n",
      "8477986        Brandon Montour         ['D']  FLA\n",
      "8476853          Morgan Rielly         ['D']  TOR\n",
      "8476460         Mark Scheifele         ['C']  WPG\n",
      "8474590           John Carlson         ['D']  WSH\n",
      "8478407             Vince Dunn         ['D']  SEA\n",
      "8478492          Ilya Samsonov         ['G']  TOR\n",
      "8480045   Ukko-Pekka Luukkonen         ['G']  BUF\n",
      "8478366          Frank Vatrano   ['C', 'LW']  ANA\n",
      "8475798        Mikael Granlund   ['C', 'RW']  SJS\n",
      "8477495             Seth Jones         ['D']  CHI\n",
      "8475660             Cam Talbot         ['G']  LAK\n",
      "8477935            Sam Bennett         ['C']  FLA\n",
      "DROPS\n",
      "{'name': 'Tim Stutzle', 'pos': \"['C', 'LW']\", 'team': 'OTT', 'n_games': 2.0, 'rank': 0.818, 'week_rank': 0.601, 'games': 82.0, 'week_games': 2.0}\n",
      "{'name': 'Brandon Montour', 'pos': \"['D']\", 'team': 'FLA', 'n_games': 3.0, 'rank': 0.85, 'week_rank': 0.912, 'games': 82.0, 'week_games': 3.0}\n",
      "{'name': 'John Carlson', 'pos': \"['D']\", 'team': 'WSH', 'n_games': 1.0, 'rank': 0.814, 'week_rank': 0.134, 'games': 82.0, 'week_games': 1.0}\n",
      "{'name': 'Mikael Granlund', 'pos': \"['C', 'RW']\", 'team': 'SJS', 'n_games': 2.0, 'rank': 0.855, 'week_rank': 0.655, 'games': 82.0, 'week_games': 2.0}\n",
      "{'name': 'Seth Jones', 'pos': \"['D']\", 'team': 'CHI', 'n_games': 3.0, 'rank': 0.776, 'week_rank': 0.871, 'games': 82.0, 'week_games': 3.0}\n",
      "ADDS\n",
      "{'name': 'Charlie Lindgren', 'pos': \"['G']\", 'team': 'WSH', 'n_games': 1.0, 'rank': 0.993, 'week_rank': 0.751, 'games': 82.0, 'week_games': 1.0}\n",
      "{'name': 'Samuel Ersson', 'pos': \"['G']\", 'team': 'PHI', 'n_games': 2.0, 'rank': 0.967, 'week_rank': 0.887, 'games': 82.0, 'week_games': 2.0}\n",
      "{'name': 'Vitek Vanecek', 'pos': \"['G']\", 'team': 'NJD', 'n_games': 2.0, 'rank': 0.943, 'week_rank': 0.843, 'games': 82.0, 'week_games': 2.0}\n",
      "{'name': 'Jamie Benn', 'pos': \"['LW']\", 'team': 'DAL', 'n_games': 3.0, 'rank': 0.926, 'week_rank': 0.958, 'games': 82.0, 'week_games': 3.0}\n",
      "{'name': 'Logan Thompson', 'pos': \"['G']\", 'team': 'VGK', 'n_games': 1.0, 'rank': 0.924, 'week_rank': 0.55, 'games': 82.0, 'week_games': 1.0}\n",
      "{'name': 'Dakota Joshua', 'pos': \"['C', 'LW']\", 'team': 'VAN', 'n_games': 2.0, 'rank': 0.921, 'week_rank': 0.754, 'games': 82.0, 'week_games': 2.0}\n",
      "{'name': 'Alex Nedeljkovic', 'pos': \"['G']\", 'team': 'PIT', 'n_games': 3.0, 'rank': 0.919, 'week_rank': 0.925, 'games': 82.0, 'week_games': 3.0}\n",
      "{'name': 'Philipp Grubauer', 'pos': \"['G']\", 'team': 'SEA', 'n_games': 3.0, 'rank': 0.918, 'week_rank': 0.907, 'games': 82.0, 'week_games': 3.0}\n",
      "{'name': 'Garnet Hathaway', 'pos': \"['RW']\", 'team': 'PHI', 'n_games': 2.0, 'rank': 0.916, 'week_rank': 0.743, 'games': 82.0, 'week_games': 2.0}\n",
      "{'name': 'Nick Bjugstad', 'pos': \"['C']\", 'team': 'ARI', 'n_games': 3.0, 'rank': 0.914, 'week_rank': 0.953, 'games': 82.0, 'week_games': 3.0}\n",
      "{'name': 'Valeri Nichushkin', 'pos': \"['LW']\", 'team': 'COL', 'n_games': 2.0, 'rank': 0.907, 'week_rank': 0.714, 'games': 82.0, 'week_games': 2.0}\n",
      "{'name': 'William Karlsson', 'pos': \"['C']\", 'team': 'VGK', 'n_games': 3.0, 'rank': 0.9, 'week_rank': 0.947, 'games': 82.0, 'week_games': 3.0}\n",
      "{'name': 'Semyon Varlamov', 'pos': \"['G']\", 'team': 'NYI', 'n_games': 2.0, 'rank': 0.899, 'week_rank': 0.744, 'games': 82.0, 'week_games': 2.0}\n",
      "{'name': 'Brayden Schenn', 'pos': \"['C', 'LW']\", 'team': 'STL', 'n_games': 3.0, 'rank': 0.897, 'week_rank': 0.939, 'games': 82.0, 'week_games': 3.0}\n",
      "{'name': 'Jake McCabe', 'pos': \"['D']\", 'team': 'TOR', 'n_games': 3.0, 'rank': 0.892, 'week_rank': 0.94, 'games': 82.0, 'week_games': 3.0}\n",
      "{'name': 'Alex Lyon', 'pos': \"['G']\", 'team': 'DET', 'n_games': 2.0, 'rank': 0.891, 'week_rank': 0.795, 'games': 82.0, 'week_games': 2.0}\n",
      "{'name': 'Ryan Hartman', 'pos': \"['C', 'RW']\", 'team': 'MIN', 'n_games': 3.0, 'rank': 0.887, 'week_rank': 0.937, 'games': 82.0, 'week_games': 3.0}\n",
      "{'name': 'Scott Laughton', 'pos': \"['C', 'LW']\", 'team': 'PHI', 'n_games': 2.0, 'rank': 0.886, 'week_rank': 0.688, 'games': 82.0, 'week_games': 2.0}\n",
      "{'name': 'Simon Benoit', 'pos': \"['D']\", 'team': 'TOR', 'n_games': 3.0, 'rank': 0.882, 'week_rank': 0.935, 'games': 82.0, 'week_games': 3.0}\n",
      "{'name': 'Dylan Strome', 'pos': \"['C']\", 'team': 'WSH', 'n_games': 1.0, 'rank': 0.88, 'week_rank': 0.183, 'games': 82.0, 'week_games': 1.0}\n",
      "{'name': 'Pavel Zacha', 'pos': \"['C']\", 'team': 'BOS', 'n_games': 3.0, 'rank': 0.875, 'week_rank': 0.931, 'games': 82.0, 'week_games': 3.0}\n"
     ]
    }
   ],
   "source": [
    "\n",
    "date_now = pd.Timestamp.now().date()\n",
    "cats = ['g','a','sog','fow','hit','block','pim','plusmin','ga','win','so','save']\n",
    "m = [m for m in current_team.matchups if pd.to_datetime(m.week_end).date() >= date_now + pd.Timedelta('2d')][0]\n",
    "print(m.week)\n",
    "opponent_id = [t.team_key for t in m.teams if t.team_key != current_team.team_key][0]\n",
    "dates = pd.date_range(max(pd.to_datetime(m.week_start).date(), date_now), m.week_end)\n",
    "\n",
    "\n",
    "ranks = preds.copy()\n",
    "ranks['plusmin'] = ranks['goalsfor'] - ranks['goalsaga']\n",
    "ranks['ga'] = -ranks['ga'] / ranks['icetime']\n",
    "ranks = ranks.drop('icetime', axis=1)\n",
    "ranks = ((ranks - ranks.mean())/(ranks.std())).mean(1).rank(pct=True)\n",
    "ranks.name = 'rank'\n",
    "\n",
    "week_teams = teams.loc[(pd.to_datetime(teams.index) >= m.week_start)&(pd.to_datetime(teams.index) <= m.week_end)]\n",
    "\n",
    "ir = [p.player_key for t in info for p in t.roster.players if p.selected_position.date == date_now.strftime('%Y-%m-%d') and 'IR' in p.selected_position.position]\n",
    "ir = []\n",
    "current_lineup = teams[(teams.team_id == current_team.team_key)&(teams.index.get_level_values('date') == date_now.strftime('%Y-%m-%d'))&(~teams.player_key.isin(ir))]\n",
    "current_lineup = current_lineup.merge(players, how='left', on='player_key').playerId.tolist()\n",
    "current_lineup.remove(8478445)\n",
    "current_lineup.append(8477935)\n",
    "\n",
    "selected_team = []\n",
    "    \n",
    "for date in dates:\n",
    "    rankings = []\n",
    "    print('\\n\\n\\n', date.date())\n",
    "    if len(selected_team) > 0:\n",
    "    #     current_lineup = [p for p in selected_team] # this is inactive since we use our existing lineup as starting point for each day of the week\n",
    "        selected_team = []\n",
    "\n",
    "    starting_teams = teams.loc[(pd.to_datetime(teams.index) == date)]\n",
    "    all_available_players = players[(~players.player_key.isin(starting_teams.player_key))|(players.playerId.isin(current_lineup))]\n",
    "    all_available_players = all_available_players.playerId.tolist()\n",
    "\n",
    "    week_games = player_games[(player_games.ts >= date)&(player_games.ts <= m.week_end)]\n",
    "\n",
    "    \n",
    "\n",
    "    while len(selected_team) < 35:\n",
    "        print(str(len(selected_team)), end='\\r')\n",
    "        \n",
    "        if len(selected_team) < 14:\n",
    "            available = [p for p in current_lineup if p not in selected_team]\n",
    "\n",
    "        else:\n",
    "            available = [p for p in all_available_players if p not in selected_team]\n",
    "            \n",
    "        rest_games = lineup_utils.get_rest_of_season_games(date, player_games, selected_team, position_lookup)\n",
    "        stats_available = rest_games[rest_games.index.isin(preds.index)].index\n",
    "        lineup_preds = preds.loc[stats_available, cats].apply(lambda x: x * rest_games[stats_available])\n",
    "        preds_st = ((lineup_preds - lineup_preds.mean())/(lineup_preds.std()))\n",
    "        ranks = preds_st.mean(1).rank(pct=True)\n",
    "        ranks.name = 'rank'\n",
    "        \n",
    "        week_rest_games = lineup_utils.get_rest_of_season_games(date, week_games, selected_team, position_lookup)\n",
    "        week_stats_available = week_rest_games[week_rest_games.index.isin(preds.index)].index\n",
    "        week_lineup_preds = preds.loc[stats_available, cats].apply(lambda x: x * week_rest_games[week_stats_available])\n",
    "        week_preds_st = ((week_lineup_preds - week_lineup_preds.mean())/(week_lineup_preds.std()))\n",
    "        week_ranks = week_preds_st.mean(1).rank(pct=True)\n",
    "        week_ranks.name = 'week_rank'\n",
    "\n",
    "        if len(selected_team) < 14:\n",
    "            selected_player = ranks.loc[[p for p in available if p in ranks]].idxmax()\n",
    "            selected_team.append(selected_player)\n",
    "            rankings.append({'playerId':selected_player, 'rank': round(ranks.loc[selected_player], 3), 'week_rank': round(week_ranks.loc[selected_player], 3), 'games':rest_games.loc[selected_player], 'week_games':week_rest_games.loc[selected_player]})\n",
    "\n",
    "        else:\n",
    "            rest_of_them = ranks[[p for p in available if p in stats_available]].sort_values(ascending=False).iloc[:(35-len(selected_team))].index.tolist()\n",
    "            for p in rest_of_them:\n",
    "                rankings.append({'playerId':p, 'rank': round(ranks.loc[p], 3), 'week_rank': round(week_ranks.loc[p], 3), 'games':rest_games.loc[p], 'week_games':week_rest_games.loc[p]})\n",
    "            selected_team += rest_of_them\n",
    "            \n",
    "    for p in current_lineup:\n",
    "        if p not in selected_team:\n",
    "            rankings.append({'playerId':p, 'rank': round(ranks.loc[p], 3), 'week_rank': round(week_ranks.loc[p], 3), 'games':rest_games.loc[p], 'week_games':week_rest_games.loc[p]})\n",
    "    rankings = pd.DataFrame(rankings).set_index('playerId')\n",
    "    \n",
    "    n_games = week_rest_games[week_rest_games.index.isin(preds.index)]\n",
    "    n_games.name = 'n_games'\n",
    "    print(player_info.loc[current_lineup])\n",
    "    print('DROPS')\n",
    "    for p in current_lineup:\n",
    "        if p not in selected_team:\n",
    "            \n",
    "            print(player_info.join(n_games).join(rankings).loc[p].to_dict())\n",
    "    print('ADDS')\n",
    "    for p in selected_team:\n",
    "        if p not in current_lineup:\n",
    "            print(player_info.join(n_games).join(rankings).loc[p].to_dict())\n",
    "            \n",
    "    break"
   ]
  },
  {
   "cell_type": "code",
   "execution_count": 16,
   "id": "985687c0-8bc6-4b17-ada4-7684ec570441",
   "metadata": {
    "scrolled": true,
    "tags": []
   },
   "outputs": [],
   "source": [
    "output = player_info.join(rankings, how='inner').sort_values(['rank'], ascending=False).join(preds_st.round(3)).join(week_preds_st.round(3), rsuffix='_week')\n",
    "output['current_lineup'] = output.index.isin(current_lineup)\n",
    "output['selection'] = output.index.isin(selected_team)\n",
    "output = output.sort_values(['current_lineup', 'rank','week_rank'], ascending=False)\n",
    "output.to_csv('data/player_data.csv')"
   ]
  },
  {
   "cell_type": "code",
   "execution_count": 17,
   "id": "23f0b11a-603d-4969-9a79-5a278eb716fb",
   "metadata": {
    "scrolled": true,
    "tags": []
   },
   "outputs": [],
   "source": [
    "ranks = preds.copy()\n",
    "ranks = ranks.drop('icetime', axis=1)\n",
    "# ranks = ((ranks - ranks.mean())/(ranks.std())).mean(1).rank(pct=True)\n",
    "full_n_games = player_games[player_games.ts.dt.date > date_now].groupby('playerId').gameId.count()\n",
    "full_n_games = pd.DataFrame(ranks).join(full_n_games).fillna(0).gameId\n",
    "week_n_games = player_games[(player_games.ts.dt.date > date_now)&(player_games.ts <= m.week_end)].groupby('playerId').gameId.count()\n",
    "week_n_games = pd.DataFrame(ranks).join(week_n_games).fillna(0).gameId\n",
    "\n",
    "week_ranks = ranks[cats].apply(lambda x: x * week_n_games)\n",
    "ranks = ranks[cats].apply(lambda x: x * full_n_games)\n",
    "ranks.name = 'rank'\n",
    "week_ranks.name ='week_rank'\n",
    "\n",
    "prankings = players.join(ranks, how='inner', on='playerId').join(week_ranks, on='playerId', rsuffix='_week').merge(starting_teams, how='left', on='player_key').set_index('playerId')\n",
    "\n",
    "ss = []\n",
    "for t in info:\n",
    "    a = prankings.loc[prankings.team_id == t.team_key].copy()\n",
    "    a['team'] = t.name.decode()\n",
    "    a['manager'] = t.managers[0].nickname\n",
    "    ss.append(a)\n",
    "\n",
    "ss = pd.concat(ss)\n",
    "ss = ss.groupby(['team','manager'])[cats+[c+'_week' for c in cats]].mean().round(2)\n",
    "ss['matchup'] = ss.index.get_level_values('team').isin([t.name.decode() for t in m.teams])\n",
    "ss['own'] = ss.index.get_level_values('team') == current_team.name.decode()\n",
    "ss = ss.sort_values(['own','matchup'], ascending=False)\n",
    "ss.to_csv('data/team_data.csv')"
   ]
  },
  {
   "cell_type": "code",
   "execution_count": null,
   "id": "d2f71054-4756-4ff2-b01b-ae3f6ed9f6fc",
   "metadata": {
    "tags": []
   },
   "outputs": [],
   "source": [
    "from google.cloud import storage\n",
    "def upload_blob_from_memory(bucket_name, contents, destination_blob_name):\n",
    "    storage_client = storage.Client()\n",
    "    bucket = storage_client.bucket(bucket_name)\n",
    "    blob = bucket.blob(destination_blob_name)\n",
    "    blob.upload_from_string(contents)\n",
    "\n",
    "def upload_df(df, bucket_name, destination_blob_name):\n",
    "    contents = df.to_csv(encoding = 'utf8', index=False)\n",
    "    upload_blob_from_memory(bucket_name, contents, destination_blob_name)\n",
    "    \n",
    "upload_df(output, 'mehhala-fantasy.appspot.com', 'player_data.csv')\n",
    "upload_df(ss, 'mehhala-fantasy.appspot.com', 'team_data.csv')\n"
   ]
  }
 ],
 "metadata": {
  "environment": {
   "kernel": "yahoo",
   "name": "workbench-notebooks.m123",
   "type": "gcloud",
   "uri": "us-docker.pkg.dev/deeplearning-platform-release/gcr.io/workbench-notebooks:m123"
  },
  "kernelspec": {
   "display_name": "yahoo",
   "language": "python",
   "name": "yahoo"
  },
  "language_info": {
   "codemirror_mode": {
    "name": "ipython",
    "version": 3
   },
   "file_extension": ".py",
   "mimetype": "text/x-python",
   "name": "python",
   "nbconvert_exporter": "python",
   "pygments_lexer": "ipython3",
   "version": "3.12.2"
  }
 },
 "nbformat": 4,
 "nbformat_minor": 5
}
