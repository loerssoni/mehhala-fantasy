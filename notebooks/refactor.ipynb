{
 "cells": [
  {
   "cell_type": "code",
   "execution_count": 156,
   "id": "a56b6dcc-a886-4784-8ffb-3c188d1334d4",
   "metadata": {
    "tags": []
   },
   "outputs": [
    {
     "name": "stdout",
     "output_type": "stream",
     "text": [
      "The autoreload extension is already loaded. To reload it, use:\n",
      "  %reload_ext autoreload\n"
     ]
    }
   ],
   "source": [
    "%load_ext autoreload\n",
    "%autoreload 2\n",
    "import sys\n",
    "sys.path.append('../src')\n",
    "\n",
    "\n",
    "import logging\n",
    "import sys\n",
    "\n",
    "logging.basicConfig(stream=sys.stdout, level=logging.DEBUG)"
   ]
  },
  {
   "cell_type": "code",
   "execution_count": null,
   "id": "3a3d5b6e-347e-435b-8f68-063ca59a7635",
   "metadata": {
    "scrolled": true,
    "tags": []
   },
   "outputs": [],
   "source": [
    "\"\"\"\n",
    "PREP DATA\n",
    "\"\"\"\n",
    "\n",
    "from get_data import load_history, load_current, combine_history, process_y, load_bios, load_team_data\n",
    "from model_training import make_predictions\n",
    "\n",
    "# load_history()\n",
    "# load_current()\n",
    "# combine_history()\n",
    "# load_team_data()\n",
    "# load_bios()\n",
    "# process_y()\n",
    "# make_predictions()\n",
    "\n",
    "import yahoo_utils\n",
    "# yahoo_utils.refresh_players()\n",
    "# yahoo_utils.refresh_player_games()\n",
    "# yahoo_utils.refresh_teams()"
   ]
  },
  {
   "cell_type": "code",
   "execution_count": 466,
   "id": "ff1575b0-f011-454e-96e8-86033d3f8db8",
   "metadata": {
    "tags": []
   },
   "outputs": [],
   "source": [
    "from model_training import load_predictions\n",
    "import lineup_utils\n",
    "import yahoo_utils\n",
    "\n",
    "        \n",
    "class TeamAnalytics():\n",
    "    \n",
    "    def __init__(self, mode='season', date=None, week=1, team_key=None):\n",
    "        self.mode = mode\n",
    "        \n",
    "        if mode == 'season':\n",
    "            self.date = pd.Timestamp.now(tz='America/Los_Angeles').date()\n",
    "            self.matchup = None\n",
    "        \n",
    "        elif mode == 'week':\n",
    "            self.matchup = yahoo_utils.get_matchup(week=week)\n",
    "            self.date = self.matchup['date_start'] - pd.Timedelta('1d')\n",
    "            \n",
    "        else:\n",
    "            raise ValueError('Invalid value for mode')\n",
    "\n",
    "        self.players = yahoo_utils.load_players()\n",
    "        self.preds, self.player_stds = load_predictions()\n",
    "        self.player_games = yahoo_utils.load_player_games()\n",
    "        \n",
    "        self.team_key = team_key\n",
    "        if self.team_key is not None:\n",
    "            self.current_team = self.players[self.players.team_key == team_key].index\n",
    "            self.preds = self.preds.loc[self.current_team]\n",
    "            self.player_games = self.player_games.loc[self.current_team]\n",
    "        \n",
    "        # could be populated instead of hardcoded\n",
    "        self.cats = ['g','a','sog','fow','hit','block','pim','plusmin','ppp', 'ga','win','so','save']\n",
    "        \n",
    "        \n",
    "        self.selected_team = []        \n",
    "        self.n_games_lineup = 0\n",
    "        self.own_totals = pd.Series({c:0 for c in self.cats})\n",
    "        \n",
    "        self.rest_games = None\n",
    "        self.lineup_preds = None\n",
    "        self.rel_lineup_preds = None\n",
    "        self.get_lineup_preds()\n",
    "    \n",
    "    def get_lineup_preds(self):\n",
    "        self.rest_games = lineup_utils.get_rest_of_period_games(self.date, self.player_games.reset_index(), self.selected_team, self.players, self.preds)\n",
    "        stats_available = rest_games[rest_games.index.isin(self.preds.index) & ~rest_games.index.isin(self.selected_team)].index\n",
    "        self.lineup_preds = self.preds.loc[stats_available, self.cats].apply(lambda x: x * self.rest_games[stats_available])\n",
    "        self.lineup_preds['ga'] = self.preds.loc[stats_available, 'ga']\n",
    "        self.lineup_preds['games_left'] = rest_games.loc[stats_available]\n",
    "        \n",
    "        if self.mode == 'week':\n",
    "            comparison = [p for p in self.players.loc[self.players.opp_lineup].index if p in self.lineup_preds.index]\n",
    "        else:\n",
    "            comparison = [p for p in self.players.loc[self.players.is_rostered].index if p in self.lineup_preds.index]\n",
    "      \n",
    "\n",
    "        # standard deviation that takes into account individual players' uncertainty\n",
    "        std_factor =  ( (self.preds.loc[comparison, self.cats].var()) + (self.player_stds / (17**0.5))**2 ) ** 0.5\n",
    "        lineup_len_divisors = (self.lineup_preds.notna() + self.preds.loc[self.selected_team, self.cats].count()).apply(lambda x: x * (self.n_games_lineup + self.rest_games.mean()) / (len(self.selected_team)+1))\n",
    "\n",
    "        self.rel_lineup_preds = ((self.lineup_preds.fillna(0) + self.own_totals)/lineup_len_divisors - self.preds.loc[comparison, self.cats].mean()) / std_factor\n",
    "        self.lineup_preds['rank'] = self.rel_lineup_preds.sum(axis=1)\n",
    "        self.lineup_preds['games_left'] = self.rest_games.loc[stats_available]\n",
    "        \n",
    "        return self\n",
    "    \n",
    "    \n",
    "    def select_player(self, selected_player):\n",
    "        \n",
    "        self.n_games_lineup += self.rest_games.loc[selected_player]\n",
    "        self.selected_team.append(selected_player)\n",
    "        self.own_totals += self.lineup_preds.loc[selected_player, self.cats].fillna(0)\n",
    "        self.own_totals['ga'] = self.preds.loc[self.selected_team, 'ga'].mean()\n",
    "        \n",
    "        self.get_lineup_preds()\n",
    "        return self\n",
    "    \n",
    "    def unselect_player(self, selected_player):\n",
    "        self.selected_team.remove(selected_player)\n",
    "        self.get_lineup_preds()\n",
    "        \n",
    "        self.own_totals -= self.lineup_preds.loc[selected_player, self.cats].fillna(0)\n",
    "        self.own_totals['ga'] = self.preds.loc[self.selected_team, 'ga'].mean()\n",
    "        \n",
    "        self.n_games_lineup -= self.rest_games.loc[selected_player]\n",
    "        return self\n",
    "    \n",
    "    def render(self):\n",
    "        return self.players.join(self.lineup_preds, how='inner').sort_values('rank')\n",
    "    \n",
    "    def make_full_selections(self):\n",
    "        if self.team_key is None:\n",
    "            team_max_length = 17\n",
    "        else:\n",
    "            team_max_length = len(self.current_team)\n",
    "        \n",
    "        while len(self.selected_team) < team_max_length and len(self.lineup_preds) > 0:\n",
    "            selection = self.lineup_preds['rank'].idxmax()\n",
    "            self.select_player(selection)\n",
    "            print(f'Selected {self.players.loc[selection]['name']}')\n"
   ]
  },
  {
   "cell_type": "code",
   "execution_count": 467,
   "id": "c8a00c11-11d3-400c-aaa0-38f474651da5",
   "metadata": {
    "tags": []
   },
   "outputs": [
    {
     "name": "stdout",
     "output_type": "stream",
     "text": [
      "Selected Mikko Rantanen\n",
      "Selected Sam Montembeault\n",
      "Selected Cam Talbot\n",
      "Selected Charlie Lindgren\n",
      "Selected John Tavares\n",
      "Selected Tage Thompson\n",
      "Selected Matt Boldy\n",
      "Selected Steven Stamkos\n",
      "Selected Sam Bennett\n",
      "Selected Mark Scheifele\n",
      "Selected Zach Werenski\n",
      "Selected Frank Vatrano\n",
      "Selected Brandon Montour\n",
      "Selected Thomas Chabot\n",
      "Selected Seth Jones\n",
      "Selected Shayne Gostisbehere\n",
      "Selected Brad Marchand\n",
      "Selected Nikita Zadorov\n"
     ]
    }
   ],
   "source": [
    "data = TeamAnalytics(mode='season', team_key='453.l.15482.t.3')\n",
    "data.make_full_selections()"
   ]
  },
  {
   "cell_type": "code",
   "execution_count": 473,
   "id": "039f8502-07cf-4b13-ab28-08b4ce748d64",
   "metadata": {
    "tags": []
   },
   "outputs": [],
   "source": [
    "team_to_select = data.selected_team[:17]"
   ]
  },
  {
   "cell_type": "code",
   "execution_count": 472,
   "id": "d55b4eed-99bd-408e-a1ef-0e70ae3942db",
   "metadata": {
    "tags": []
   },
   "outputs": [
    {
     "data": {
      "text/plain": [
       "[np.int64(8478420),\n",
       " np.int64(8478470),\n",
       " np.int64(8475660),\n",
       " np.int64(8479292),\n",
       " np.int64(8475166),\n",
       " np.int64(8479420),\n",
       " np.int64(8481557),\n",
       " np.int64(8474564),\n",
       " np.int64(8477935),\n",
       " np.int64(8476460),\n",
       " np.int64(8478460),\n",
       " np.int64(8478366),\n",
       " np.int64(8477986),\n",
       " np.int64(8478469),\n",
       " np.int64(8477495),\n",
       " np.int64(8476906),\n",
       " np.int64(8473419),\n",
       " np.int64(8477507)]"
      ]
     },
     "execution_count": 472,
     "metadata": {},
     "output_type": "execute_result"
    }
   ],
   "source": [
    "for player in team_to_select:\n",
    "    data = TeamAnalytics(mode='season', team_key='453.l.15482.t.3')\n",
    "data.make_full_selections()"
   ]
  }
 ],
 "metadata": {
  "environment": {
   "kernel": "yahoo",
   "name": "workbench-notebooks.m123",
   "type": "gcloud",
   "uri": "us-docker.pkg.dev/deeplearning-platform-release/gcr.io/workbench-notebooks:m123"
  },
  "kernelspec": {
   "display_name": "yahoo",
   "language": "python",
   "name": "yahoo"
  },
  "language_info": {
   "codemirror_mode": {
    "name": "ipython",
    "version": 3
   },
   "file_extension": ".py",
   "mimetype": "text/x-python",
   "name": "python",
   "nbconvert_exporter": "python",
   "pygments_lexer": "ipython3",
   "version": "3.12.2"
  }
 },
 "nbformat": 4,
 "nbformat_minor": 5
}
